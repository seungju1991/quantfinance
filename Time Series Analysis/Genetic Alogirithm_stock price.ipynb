{
 "cells": [
  {
   "cell_type": "code",
   "execution_count": 1,
   "metadata": {},
   "outputs": [],
   "source": [
    "from gplearn.genetic import SymbolicRegressor, SymbolicTransformer\n",
    "from sklearn.ensemble import RandomForestRegressor\n",
    "from sklearn.tree import DecisionTreeRegressor\n",
    "from sklearn import preprocessing\n",
    "from sklearn.utils.random import check_random_state\n",
    "from mpl_toolkits.mplot3d import Axes3D\n",
    "import graphviz\n",
    "from IPython.display import Image\n",
    "import pydotplus\n",
    "import pandas as pd\n",
    "import numpy as np\n",
    "import datetime as dt\n",
    "import scipy\n",
    "import random\n",
    "import sklearn\n",
    "import matplotlib.pyplot as plt\n",
    "import seaborn as sns\n",
    "import gplearn\n",
    "from gplearn.functions import make_function\n",
    "sns.set()\n",
    "from pyeasyga import pyeasyga"
   ]
  },
  {
   "cell_type": "code",
   "execution_count": 2,
   "metadata": {},
   "outputs": [],
   "source": [
    "# Statsのコード from 吉田さん\n",
    "def format_float(panda, num):\n",
    "    new = pd.DataFrame(index = panda.index, columns = panda.columns)\n",
    "    name = '{:.' + str(num) + 'f}'\n",
    "    for i in new.index:\n",
    "        for j in new.columns: new.at[i,j] = name.format(panda.at[i,j])\n",
    "    return new\n",
    "\n",
    "def performance_stats(rets):\n",
    "    outs = ['Ret%','Std%','DDBMax%','DDBMed%','TuWMax','TuWMed',\n",
    "            'SR','Skew','Kurt','Corr',\n",
    "            'hit%','AvgHit%','AvgLos%']\n",
    "    outs_mat = pd.DataFrame(index=outs, columns=rets.columns)\n",
    "    ret_pct = rets.pct_change().dropna()\n",
    "    ret_pct_M = rets.resample('1M').last().pct_change().dropna()\n",
    "    outs_mat.loc['Ret%',:] = (np.exp(np.log(ret_pct_M + 1.).mean()*12)-1)*100\n",
    "    outs_mat.loc['Std%',:] = (ret_pct_M.std(ddof=0) * np.sqrt(12)\n",
    "                              * 100.).replace(0, 0.01)\n",
    "    DD_flow = rets / rets.cummax()\n",
    "    outs_mat.loc['DDBMax%',:] = (1.-DD_flow.min())*100.\n",
    "    outs_mat.loc['DDBMed%',:] = (1.-DD_flow.median())*100.\n",
    "    DD_count = (DD_flow < (1. - 1e-10)).astype(int)\n",
    "    DD_range = pd.DataFrame(0, index=rets.index, columns=rets.columns)\n",
    "    iter_num = len(DD_range) - 1\n",
    "    for i in range(iter_num):\n",
    "        prev, now = rets.index[[i,i+1]]\n",
    "        DD_range.loc[now,:] = (DD_range.loc[prev,:]+1) * DD_count.loc[prev,:]\n",
    "    outs_mat.loc['TuWMax',:] = DD_range.max() / 21\n",
    "    outs_mat.loc['TuWMed',:] = DD_range.median() / 21\n",
    "    outs_mat.loc['SR',:] = outs_mat.loc['Ret%',:] / outs_mat.loc['Std%',:]\n",
    "    outs_mat.loc['Skew',:] = ret_pct_M.skew()\n",
    "    outs_mat.loc['Kurt',:] = ret_pct_M.kurt()\n",
    "    outs_mat.loc['Corr',:] = ret_pct.corr().iloc[-1,:]\n",
    "    outs_mat.loc['hit%',:] = ((ret_pct_M > 0).sum() / len(ret_pct_M)) * 100. ##len(ret_pct_M[ret_pct_M!=0])\n",
    "    outs_mat.loc['AvgHit%',:] = ((ret_pct_M * (ret_pct_M > 0)).sum() /(ret_pct_M > 0).sum()) * 100. \n",
    "    outs_mat.loc['AvgLos%',:] = ((ret_pct_M * (ret_pct_M < 0)).sum() /(ret_pct_M < 0).sum()) * 100.\n",
    "    out_put = format_float(outs_mat, 2)\n",
    "    return out_put"
   ]
  },
  {
   "cell_type": "code",
   "execution_count": 3,
   "metadata": {},
   "outputs": [],
   "source": [
    "def index(dataset):\n",
    "    dataset_index = dataset.copy()\n",
    "    dataset_index.iloc[0] = 100*(dataset.iloc[0]+1)\n",
    "    for i in range(1,len(dataset_index)) :\n",
    "        dataset_index.iloc[i]=(dataset_index.iloc[i]+1)*dataset_index.iloc[i-1]\n",
    "    return dataset_index"
   ]
  },
  {
   "cell_type": "code",
   "execution_count": 4,
   "metadata": {},
   "outputs": [],
   "source": [
    "Index_futures = pd.read_excel('Index Futures.xlsx',index_col=0,parse_dates=True)"
   ]
  },
  {
   "cell_type": "code",
   "execution_count": 29,
   "metadata": {},
   "outputs": [
    {
     "data": {
      "text/html": [
       "<div>\n",
       "<style scoped>\n",
       "    .dataframe tbody tr th:only-of-type {\n",
       "        vertical-align: middle;\n",
       "    }\n",
       "\n",
       "    .dataframe tbody tr th {\n",
       "        vertical-align: top;\n",
       "    }\n",
       "\n",
       "    .dataframe thead th {\n",
       "        text-align: right;\n",
       "    }\n",
       "</style>\n",
       "<table border=\"1\" class=\"dataframe\">\n",
       "  <thead>\n",
       "    <tr style=\"text-align: right;\">\n",
       "      <th></th>\n",
       "      <th>SP1 Index</th>\n",
       "      <th>NK1 Index</th>\n",
       "      <th>IFB1 Index</th>\n",
       "      <th>SHY1 Index</th>\n",
       "    </tr>\n",
       "    <tr>\n",
       "      <th>Dates</th>\n",
       "      <th></th>\n",
       "      <th></th>\n",
       "      <th></th>\n",
       "      <th></th>\n",
       "    </tr>\n",
       "  </thead>\n",
       "  <tbody>\n",
       "    <tr>\n",
       "      <th>2005-01-04</th>\n",
       "      <td>1191.0</td>\n",
       "      <td>11540</td>\n",
       "      <td>NaN</td>\n",
       "      <td>NaN</td>\n",
       "    </tr>\n",
       "    <tr>\n",
       "      <th>2005-01-05</th>\n",
       "      <td>1183.2</td>\n",
       "      <td>11430</td>\n",
       "      <td>NaN</td>\n",
       "      <td>NaN</td>\n",
       "    </tr>\n",
       "    <tr>\n",
       "      <th>2005-01-06</th>\n",
       "      <td>1188.2</td>\n",
       "      <td>11480</td>\n",
       "      <td>NaN</td>\n",
       "      <td>NaN</td>\n",
       "    </tr>\n",
       "    <tr>\n",
       "      <th>2005-01-07</th>\n",
       "      <td>1186.3</td>\n",
       "      <td>11470</td>\n",
       "      <td>NaN</td>\n",
       "      <td>NaN</td>\n",
       "    </tr>\n",
       "    <tr>\n",
       "      <th>2005-01-10</th>\n",
       "      <td>1191.7</td>\n",
       "      <td>11470</td>\n",
       "      <td>NaN</td>\n",
       "      <td>NaN</td>\n",
       "    </tr>\n",
       "    <tr>\n",
       "      <th>2005-01-11</th>\n",
       "      <td>1183.9</td>\n",
       "      <td>11550</td>\n",
       "      <td>NaN</td>\n",
       "      <td>NaN</td>\n",
       "    </tr>\n",
       "    <tr>\n",
       "      <th>2005-01-12</th>\n",
       "      <td>1187.5</td>\n",
       "      <td>11470</td>\n",
       "      <td>NaN</td>\n",
       "      <td>NaN</td>\n",
       "    </tr>\n",
       "    <tr>\n",
       "      <th>2005-01-13</th>\n",
       "      <td>1177.9</td>\n",
       "      <td>11370</td>\n",
       "      <td>NaN</td>\n",
       "      <td>NaN</td>\n",
       "    </tr>\n",
       "    <tr>\n",
       "      <th>2005-01-14</th>\n",
       "      <td>1183.8</td>\n",
       "      <td>11450</td>\n",
       "      <td>NaN</td>\n",
       "      <td>NaN</td>\n",
       "    </tr>\n",
       "    <tr>\n",
       "      <th>2005-01-17</th>\n",
       "      <td>1186.0</td>\n",
       "      <td>11490</td>\n",
       "      <td>NaN</td>\n",
       "      <td>NaN</td>\n",
       "    </tr>\n",
       "    <tr>\n",
       "      <th>2005-01-18</th>\n",
       "      <td>1195.7</td>\n",
       "      <td>11420</td>\n",
       "      <td>NaN</td>\n",
       "      <td>NaN</td>\n",
       "    </tr>\n",
       "    <tr>\n",
       "      <th>2005-01-19</th>\n",
       "      <td>1183.5</td>\n",
       "      <td>11390</td>\n",
       "      <td>NaN</td>\n",
       "      <td>NaN</td>\n",
       "    </tr>\n",
       "    <tr>\n",
       "      <th>2005-01-20</th>\n",
       "      <td>1176.4</td>\n",
       "      <td>11290</td>\n",
       "      <td>NaN</td>\n",
       "      <td>NaN</td>\n",
       "    </tr>\n",
       "    <tr>\n",
       "      <th>2005-01-21</th>\n",
       "      <td>1168.6</td>\n",
       "      <td>11260</td>\n",
       "      <td>NaN</td>\n",
       "      <td>NaN</td>\n",
       "    </tr>\n",
       "    <tr>\n",
       "      <th>2005-01-24</th>\n",
       "      <td>1166.2</td>\n",
       "      <td>11300</td>\n",
       "      <td>NaN</td>\n",
       "      <td>NaN</td>\n",
       "    </tr>\n",
       "    <tr>\n",
       "      <th>2005-01-25</th>\n",
       "      <td>1169.7</td>\n",
       "      <td>11270</td>\n",
       "      <td>NaN</td>\n",
       "      <td>NaN</td>\n",
       "    </tr>\n",
       "    <tr>\n",
       "      <th>2005-01-26</th>\n",
       "      <td>1173.2</td>\n",
       "      <td>11370</td>\n",
       "      <td>NaN</td>\n",
       "      <td>NaN</td>\n",
       "    </tr>\n",
       "    <tr>\n",
       "      <th>2005-01-27</th>\n",
       "      <td>1174.7</td>\n",
       "      <td>11350</td>\n",
       "      <td>NaN</td>\n",
       "      <td>NaN</td>\n",
       "    </tr>\n",
       "    <tr>\n",
       "      <th>2005-01-28</th>\n",
       "      <td>1174.7</td>\n",
       "      <td>11280</td>\n",
       "      <td>NaN</td>\n",
       "      <td>NaN</td>\n",
       "    </tr>\n",
       "    <tr>\n",
       "      <th>2005-01-31</th>\n",
       "      <td>1181.7</td>\n",
       "      <td>11370</td>\n",
       "      <td>NaN</td>\n",
       "      <td>NaN</td>\n",
       "    </tr>\n",
       "  </tbody>\n",
       "</table>\n",
       "</div>"
      ],
      "text/plain": [
       "            SP1 Index  NK1 Index  IFB1 Index  SHY1 Index\n",
       "Dates                                                   \n",
       "2005-01-04     1191.0      11540         NaN         NaN\n",
       "2005-01-05     1183.2      11430         NaN         NaN\n",
       "2005-01-06     1188.2      11480         NaN         NaN\n",
       "2005-01-07     1186.3      11470         NaN         NaN\n",
       "2005-01-10     1191.7      11470         NaN         NaN\n",
       "2005-01-11     1183.9      11550         NaN         NaN\n",
       "2005-01-12     1187.5      11470         NaN         NaN\n",
       "2005-01-13     1177.9      11370         NaN         NaN\n",
       "2005-01-14     1183.8      11450         NaN         NaN\n",
       "2005-01-17     1186.0      11490         NaN         NaN\n",
       "2005-01-18     1195.7      11420         NaN         NaN\n",
       "2005-01-19     1183.5      11390         NaN         NaN\n",
       "2005-01-20     1176.4      11290         NaN         NaN\n",
       "2005-01-21     1168.6      11260         NaN         NaN\n",
       "2005-01-24     1166.2      11300         NaN         NaN\n",
       "2005-01-25     1169.7      11270         NaN         NaN\n",
       "2005-01-26     1173.2      11370         NaN         NaN\n",
       "2005-01-27     1174.7      11350         NaN         NaN\n",
       "2005-01-28     1174.7      11280         NaN         NaN\n",
       "2005-01-31     1181.7      11370         NaN         NaN"
      ]
     },
     "execution_count": 29,
     "metadata": {},
     "output_type": "execute_result"
    }
   ],
   "source": [
    "Index_futures.head(20)"
   ]
  },
  {
   "cell_type": "code",
   "execution_count": 6,
   "metadata": {},
   "outputs": [],
   "source": [
    "Index_futures_log_return = (np.log(Index_futures)-np.log(Index_futures.shift(1)))\n",
    "Index_futures_log_return = Index_futures_log_return[(Index_futures_log_return.index >= dt.datetime(2006,1,1)) & (Index_futures_log_return.index <= dt.datetime(2017,12,31))]\n",
    "Index_futures_log_return = Index_futures_log_return.dropna(how='any',axis=1)"
   ]
  },
  {
   "cell_type": "code",
   "execution_count": 32,
   "metadata": {},
   "outputs": [],
   "source": [
    "Index_futures_return = (Index_futures-Index_futures.shift(1))/Index_futures*100"
   ]
  },
  {
   "cell_type": "code",
   "execution_count": 33,
   "metadata": {},
   "outputs": [
    {
     "data": {
      "text/html": [
       "<div>\n",
       "<style scoped>\n",
       "    .dataframe tbody tr th:only-of-type {\n",
       "        vertical-align: middle;\n",
       "    }\n",
       "\n",
       "    .dataframe tbody tr th {\n",
       "        vertical-align: top;\n",
       "    }\n",
       "\n",
       "    .dataframe thead th {\n",
       "        text-align: right;\n",
       "    }\n",
       "</style>\n",
       "<table border=\"1\" class=\"dataframe\">\n",
       "  <thead>\n",
       "    <tr style=\"text-align: right;\">\n",
       "      <th></th>\n",
       "      <th>SP1 Index</th>\n",
       "      <th>NK1 Index</th>\n",
       "      <th>IFB1 Index</th>\n",
       "      <th>SHY1 Index</th>\n",
       "    </tr>\n",
       "    <tr>\n",
       "      <th>Dates</th>\n",
       "      <th></th>\n",
       "      <th></th>\n",
       "      <th></th>\n",
       "      <th></th>\n",
       "    </tr>\n",
       "  </thead>\n",
       "  <tbody>\n",
       "    <tr>\n",
       "      <th>2005-01-04</th>\n",
       "      <td>NaN</td>\n",
       "      <td>NaN</td>\n",
       "      <td>NaN</td>\n",
       "      <td>NaN</td>\n",
       "    </tr>\n",
       "    <tr>\n",
       "      <th>2005-01-05</th>\n",
       "      <td>-0.659229</td>\n",
       "      <td>-0.962380</td>\n",
       "      <td>NaN</td>\n",
       "      <td>NaN</td>\n",
       "    </tr>\n",
       "    <tr>\n",
       "      <th>2005-01-06</th>\n",
       "      <td>0.420805</td>\n",
       "      <td>0.435540</td>\n",
       "      <td>NaN</td>\n",
       "      <td>NaN</td>\n",
       "    </tr>\n",
       "    <tr>\n",
       "      <th>2005-01-07</th>\n",
       "      <td>-0.160162</td>\n",
       "      <td>-0.087184</td>\n",
       "      <td>NaN</td>\n",
       "      <td>NaN</td>\n",
       "    </tr>\n",
       "    <tr>\n",
       "      <th>2005-01-10</th>\n",
       "      <td>0.453134</td>\n",
       "      <td>0.000000</td>\n",
       "      <td>NaN</td>\n",
       "      <td>NaN</td>\n",
       "    </tr>\n",
       "    <tr>\n",
       "      <th>2005-01-11</th>\n",
       "      <td>-0.658839</td>\n",
       "      <td>0.692641</td>\n",
       "      <td>NaN</td>\n",
       "      <td>NaN</td>\n",
       "    </tr>\n",
       "    <tr>\n",
       "      <th>2005-01-12</th>\n",
       "      <td>0.303158</td>\n",
       "      <td>-0.697472</td>\n",
       "      <td>NaN</td>\n",
       "      <td>NaN</td>\n",
       "    </tr>\n",
       "    <tr>\n",
       "      <th>2005-01-13</th>\n",
       "      <td>-0.815010</td>\n",
       "      <td>-0.879507</td>\n",
       "      <td>NaN</td>\n",
       "      <td>NaN</td>\n",
       "    </tr>\n",
       "    <tr>\n",
       "      <th>2005-01-14</th>\n",
       "      <td>0.498395</td>\n",
       "      <td>0.698690</td>\n",
       "      <td>NaN</td>\n",
       "      <td>NaN</td>\n",
       "    </tr>\n",
       "    <tr>\n",
       "      <th>2005-01-17</th>\n",
       "      <td>0.185497</td>\n",
       "      <td>0.348129</td>\n",
       "      <td>NaN</td>\n",
       "      <td>NaN</td>\n",
       "    </tr>\n",
       "    <tr>\n",
       "      <th>2005-01-18</th>\n",
       "      <td>0.811240</td>\n",
       "      <td>-0.612960</td>\n",
       "      <td>NaN</td>\n",
       "      <td>NaN</td>\n",
       "    </tr>\n",
       "    <tr>\n",
       "      <th>2005-01-19</th>\n",
       "      <td>-1.030841</td>\n",
       "      <td>-0.263389</td>\n",
       "      <td>NaN</td>\n",
       "      <td>NaN</td>\n",
       "    </tr>\n",
       "    <tr>\n",
       "      <th>2005-01-20</th>\n",
       "      <td>-0.603536</td>\n",
       "      <td>-0.885740</td>\n",
       "      <td>NaN</td>\n",
       "      <td>NaN</td>\n",
       "    </tr>\n",
       "    <tr>\n",
       "      <th>2005-01-21</th>\n",
       "      <td>-0.667465</td>\n",
       "      <td>-0.266430</td>\n",
       "      <td>NaN</td>\n",
       "      <td>NaN</td>\n",
       "    </tr>\n",
       "    <tr>\n",
       "      <th>2005-01-24</th>\n",
       "      <td>-0.205797</td>\n",
       "      <td>0.353982</td>\n",
       "      <td>NaN</td>\n",
       "      <td>NaN</td>\n",
       "    </tr>\n",
       "    <tr>\n",
       "      <th>2005-01-25</th>\n",
       "      <td>0.299222</td>\n",
       "      <td>-0.266193</td>\n",
       "      <td>NaN</td>\n",
       "      <td>NaN</td>\n",
       "    </tr>\n",
       "    <tr>\n",
       "      <th>2005-01-26</th>\n",
       "      <td>0.298329</td>\n",
       "      <td>0.879507</td>\n",
       "      <td>NaN</td>\n",
       "      <td>NaN</td>\n",
       "    </tr>\n",
       "    <tr>\n",
       "      <th>2005-01-27</th>\n",
       "      <td>0.127692</td>\n",
       "      <td>-0.176211</td>\n",
       "      <td>NaN</td>\n",
       "      <td>NaN</td>\n",
       "    </tr>\n",
       "    <tr>\n",
       "      <th>2005-01-28</th>\n",
       "      <td>0.000000</td>\n",
       "      <td>-0.620567</td>\n",
       "      <td>NaN</td>\n",
       "      <td>NaN</td>\n",
       "    </tr>\n",
       "    <tr>\n",
       "      <th>2005-01-31</th>\n",
       "      <td>0.592367</td>\n",
       "      <td>0.791557</td>\n",
       "      <td>NaN</td>\n",
       "      <td>NaN</td>\n",
       "    </tr>\n",
       "  </tbody>\n",
       "</table>\n",
       "</div>"
      ],
      "text/plain": [
       "            SP1 Index  NK1 Index  IFB1 Index  SHY1 Index\n",
       "Dates                                                   \n",
       "2005-01-04        NaN        NaN         NaN         NaN\n",
       "2005-01-05  -0.659229  -0.962380         NaN         NaN\n",
       "2005-01-06   0.420805   0.435540         NaN         NaN\n",
       "2005-01-07  -0.160162  -0.087184         NaN         NaN\n",
       "2005-01-10   0.453134   0.000000         NaN         NaN\n",
       "2005-01-11  -0.658839   0.692641         NaN         NaN\n",
       "2005-01-12   0.303158  -0.697472         NaN         NaN\n",
       "2005-01-13  -0.815010  -0.879507         NaN         NaN\n",
       "2005-01-14   0.498395   0.698690         NaN         NaN\n",
       "2005-01-17   0.185497   0.348129         NaN         NaN\n",
       "2005-01-18   0.811240  -0.612960         NaN         NaN\n",
       "2005-01-19  -1.030841  -0.263389         NaN         NaN\n",
       "2005-01-20  -0.603536  -0.885740         NaN         NaN\n",
       "2005-01-21  -0.667465  -0.266430         NaN         NaN\n",
       "2005-01-24  -0.205797   0.353982         NaN         NaN\n",
       "2005-01-25   0.299222  -0.266193         NaN         NaN\n",
       "2005-01-26   0.298329   0.879507         NaN         NaN\n",
       "2005-01-27   0.127692  -0.176211         NaN         NaN\n",
       "2005-01-28   0.000000  -0.620567         NaN         NaN\n",
       "2005-01-31   0.592367   0.791557         NaN         NaN"
      ]
     },
     "execution_count": 33,
     "metadata": {},
     "output_type": "execute_result"
    }
   ],
   "source": [
    "Index_futures_return.head(20)"
   ]
  },
  {
   "cell_type": "code",
   "execution_count": 68,
   "metadata": {},
   "outputs": [
    {
     "data": {
      "text/plain": [
       "Dates\n",
       "2005-01-05   -0.659229\n",
       "2005-01-06    0.420805\n",
       "2005-01-07   -0.160162\n",
       "2005-01-10    0.453134\n",
       "2005-01-11   -0.658839\n",
       "                ...   \n",
       "2020-07-13   -0.959278\n",
       "2020-07-14    1.111949\n",
       "2020-07-15    1.112008\n",
       "2020-07-16   -0.779465\n",
       "2020-07-17    0.603628\n",
       "Name: SP1 Index, Length: 3896, dtype: float64"
      ]
     },
     "execution_count": 68,
     "metadata": {},
     "output_type": "execute_result"
    }
   ],
   "source": [
    "Index_futures_return_SP1=Index_futures_return[\"SP1 Index\"].replace(0.,np.nan).dropna()\n",
    "Index_futures_return_SP1"
   ]
  },
  {
   "cell_type": "code",
   "execution_count": 7,
   "metadata": {},
   "outputs": [],
   "source": [
    "Index_futures_log_return_SP1=Index_futures_log_return[\"SP1 Index\"]"
   ]
  },
  {
   "cell_type": "code",
   "execution_count": 8,
   "metadata": {},
   "outputs": [
    {
     "data": {
      "text/plain": [
       "Dates\n",
       "2006-01-02    0.000000\n",
       "2006-01-03    0.015735\n",
       "2006-01-04    0.004540\n",
       "2006-01-05    0.000625\n",
       "2006-01-06    0.008161\n",
       "                ...   \n",
       "2017-12-25    0.000000\n",
       "2017-12-26    0.000372\n",
       "2017-12-27   -0.000633\n",
       "2017-12-28    0.000112\n",
       "2017-12-29   -0.003618\n",
       "Name: SP1 Index, Length: 3130, dtype: float64"
      ]
     },
     "execution_count": 8,
     "metadata": {},
     "output_type": "execute_result"
    }
   ],
   "source": [
    "Index_futures_log_return_SP1"
   ]
  },
  {
   "cell_type": "code",
   "execution_count": 69,
   "metadata": {},
   "outputs": [],
   "source": [
    "SP_In_Sample_new = Index_futures_return_SP1[(Index_futures_return_SP1.index >= dt.datetime(2006,1,1)) & (Index_futures_return_SP1.index <= dt.datetime(2011,12,31))]\n",
    "SP_Out_Of_Sample_new = Index_futures_return_SP1[Index_futures_return_SP1.index > dt.datetime(2011,12,31)]"
   ]
  },
  {
   "cell_type": "code",
   "execution_count": 70,
   "metadata": {},
   "outputs": [],
   "source": [
    "SP_dataset_x_return = [SP_In_Sample_new[0:3]]\n",
    "for i in range(1,len(SP_In_Sample_new)-3):\n",
    "    SP_dataset_x_return = np.r_[SP_dataset_x_return,[SP_In_Sample_new[i:i+3]]]"
   ]
  },
  {
   "cell_type": "code",
   "execution_count": 71,
   "metadata": {},
   "outputs": [],
   "source": [
    "SP_dataset_x_OoS_return = [SP_Out_Of_Sample_new[0:3]]\n",
    "for i in range(1,len(SP_Out_Of_Sample_new)-3):\n",
    "    SP_dataset_x_OoS_return = np.r_[SP_dataset_x_OoS_return,[SP_Out_Of_Sample_new[i:i+3]]]"
   ]
  },
  {
   "cell_type": "code",
   "execution_count": 72,
   "metadata": {},
   "outputs": [],
   "source": [
    "SP_dataset_y_return = SP_In_Sample_new[3:].values"
   ]
  },
  {
   "cell_type": "code",
   "execution_count": 9,
   "metadata": {},
   "outputs": [],
   "source": [
    "SP1_Index = index(Index_futures_log_return['SP1 Index'])\n",
    "NK1_Index = index(Index_futures_log_return['NK1 Index'])"
   ]
  },
  {
   "cell_type": "code",
   "execution_count": 10,
   "metadata": {},
   "outputs": [
    {
     "data": {
      "text/plain": [
       "Dates\n",
       "2006-01-02    0.000000\n",
       "2006-01-03    0.015735\n",
       "2006-01-04    0.004540\n",
       "2006-01-05    0.000625\n",
       "2006-01-06    0.008161\n",
       "                ...   \n",
       "2017-12-25    0.000000\n",
       "2017-12-26    0.000372\n",
       "2017-12-27   -0.000633\n",
       "2017-12-28    0.000112\n",
       "2017-12-29   -0.003618\n",
       "Name: SP1 Index, Length: 3130, dtype: float64"
      ]
     },
     "execution_count": 10,
     "metadata": {},
     "output_type": "execute_result"
    }
   ],
   "source": [
    "Index_futures_log_return_SP1"
   ]
  },
  {
   "cell_type": "code",
   "execution_count": 11,
   "metadata": {},
   "outputs": [],
   "source": [
    "SP_In_Sample = Index_futures_log_return_SP1[(Index_futures_log_return_SP1.index >= dt.datetime(2006,1,1)) & (Index_futures_log_return_SP1.index <= dt.datetime(2011,12,31))]\n",
    "SP_Out_Of_Sample = Index_futures_log_return_SP1[Index_futures_log_return_SP1.index > dt.datetime(2011,12,31)]\n",
    "SP_Index_In_Sample = SP1_Index[(SP1_Index.index >= dt.datetime(2006,1,1)) & (SP1_Index.index <= dt.datetime(2011,12,31))]"
   ]
  },
  {
   "cell_type": "code",
   "execution_count": 13,
   "metadata": {},
   "outputs": [],
   "source": [
    "SP_dataset_x = [SP_In_Sample[0:3]]\n",
    "for i in range(1,len(SP_In_Sample)-3):\n",
    "    SP_dataset_x = np.r_[SP_dataset_x,[SP_In_Sample[i:i+3]]]\n",
    "SP_dataset_x_new = SP_dataset_x*10000 \n",
    "    "
   ]
  },
  {
   "cell_type": "code",
   "execution_count": 14,
   "metadata": {},
   "outputs": [],
   "source": [
    "SP_dataset_x_OoS = [SP_Out_Of_Sample[0:3]]\n",
    "for i in range(1,len(SP_Out_Of_Sample)-3):\n",
    "    SP_dataset_x_OoS = np.r_[SP_dataset_x_OoS,[SP_Out_Of_Sample[i:i+3]]]\n",
    "SP_dataset_x_OoS_new = SP_dataset_x_OoS*10000"
   ]
  },
  {
   "cell_type": "code",
   "execution_count": 42,
   "metadata": {},
   "outputs": [
    {
     "name": "stdout",
     "output_type": "stream",
     "text": [
      "[[ 0.          1.53289836  0.07069914]\n",
      " [ 1.53289836  0.07069914  0.00785484]\n",
      " [ 0.07069914  0.00785484  0.08632868]\n",
      " ...\n",
      " [-0.95927832  1.11194874  1.11200845]\n",
      " [ 1.11194874  1.11200845 -0.7794647 ]\n",
      " [ 1.11200845 -0.7794647   0.60362799]]\n"
     ]
    },
    {
     "data": {
      "text/plain": [
       "2228"
      ]
     },
     "execution_count": 42,
     "metadata": {},
     "output_type": "execute_result"
    }
   ],
   "source": [
    "print(SP_dataset_x_OoS_return)\n",
    "len(SP_dataset_x_OoS_return)"
   ]
  },
  {
   "cell_type": "code",
   "execution_count": 16,
   "metadata": {},
   "outputs": [
    {
     "data": {
      "text/plain": [
       "array([[ 0.00000000e+00,  1.57346595e-02,  4.53976985e-03],\n",
       "       [ 1.57346595e-02,  4.53976985e-03,  6.24560876e-04],\n",
       "       [ 4.53976985e-03,  6.24560876e-04,  8.16140708e-03],\n",
       "       ...,\n",
       "       [ 8.92649587e-03,  0.00000000e+00, -7.93493355e-05],\n",
       "       [ 0.00000000e+00, -7.93493355e-05, -1.25365957e-02],\n",
       "       [-7.93493355e-05, -1.25365957e-02,  1.03122541e-02]])"
      ]
     },
     "execution_count": 16,
     "metadata": {},
     "output_type": "execute_result"
    }
   ],
   "source": [
    "SP_dataset_x"
   ]
  },
  {
   "cell_type": "code",
   "execution_count": 17,
   "metadata": {},
   "outputs": [
    {
     "name": "stdout",
     "output_type": "stream",
     "text": [
      "[ 0.00062456  0.00816141  0.00239688 ... -0.0125366   0.01031225\n",
      " -0.00382471]\n"
     ]
    }
   ],
   "source": [
    "SP_dataset_y = SP_In_Sample[3:].values\n",
    "SP_dataset_y_OoS = SP_Out_Of_Sample[3:].values\n",
    "SP_dataset_y_OoS_new = SP_dataset_y_OoS*10000\n",
    "SP_dataset_y_new = SP_dataset_y*10000\n",
    "SP_Index_dataset_y = SP_Index_In_Sample.values[3:]\n",
    "print(SP_dataset_y)\n",
    "#print(SP_Index_dataset_y)"
   ]
  },
  {
   "cell_type": "code",
   "execution_count": 18,
   "metadata": {},
   "outputs": [
    {
     "data": {
      "text/plain": [
       "1562"
      ]
     },
     "execution_count": 18,
     "metadata": {},
     "output_type": "execute_result"
    }
   ],
   "source": [
    "len(SP_dataset_y)\n",
    "len(SP_Index_dataset_y)"
   ]
  },
  {
   "cell_type": "code",
   "execution_count": 19,
   "metadata": {},
   "outputs": [
    {
     "name": "stdout",
     "output_type": "stream",
     "text": [
      "[  0.62456088   8.16140708   2.39687748 ... -12.5365957   10.31225414\n",
      "  -3.82470586]\n"
     ]
    }
   ],
   "source": [
    "print(SP_dataset_y_new/10)"
   ]
  },
  {
   "cell_type": "code",
   "execution_count": 56,
   "metadata": {},
   "outputs": [],
   "source": [
    "# log*indicator function\n",
    "def log_indi(x):\n",
    "    a = x*np.array(x>0)\n",
    "    if 0 in a:\n",
    "        return 0*x\n",
    "    else:\n",
    "        return np.log(a)\n"
   ]
  },
  {
   "cell_type": "code",
   "execution_count": 57,
   "metadata": {},
   "outputs": [
    {
     "data": {
      "text/plain": [
       "array([0, 0, 0, 0, 0])"
      ]
     },
     "execution_count": 57,
     "metadata": {},
     "output_type": "execute_result"
    }
   ],
   "source": [
    "a = np.array([2,4,3,0,2])\n",
    "log_indi(a)"
   ]
  },
  {
   "cell_type": "code",
   "execution_count": 58,
   "metadata": {},
   "outputs": [],
   "source": [
    "log_indi = make_function(function=log_indi, name='log_indi', arity=1)"
   ]
  },
  {
   "cell_type": "code",
   "execution_count": 23,
   "metadata": {},
   "outputs": [],
   "source": [
    "def pow_3(x1):\n",
    "    f = x1**3\n",
    "    return f\n",
    "pow_3 = make_function(function=pow_3,name='pow3',arity=1)"
   ]
  },
  {
   "cell_type": "code",
   "execution_count": 46,
   "metadata": {},
   "outputs": [
    {
     "data": {
      "text/plain": [
       "1562"
      ]
     },
     "execution_count": 46,
     "metadata": {},
     "output_type": "execute_result"
    }
   ],
   "source": [
    "SP_dataset_x_return\n",
    "len(SP_dataset_x_return)"
   ]
  },
  {
   "cell_type": "code",
   "execution_count": 47,
   "metadata": {},
   "outputs": [
    {
     "data": {
      "text/plain": [
       "1562"
      ]
     },
     "execution_count": 47,
     "metadata": {},
     "output_type": "execute_result"
    }
   ],
   "source": [
    "SP_dataset_y_return\n",
    "len(SP_dataset_y_return)"
   ]
  },
  {
   "cell_type": "code",
   "execution_count": 67,
   "metadata": {},
   "outputs": [
    {
     "name": "stdout",
     "output_type": "stream",
     "text": [
      "    |   Population Average    |             Best Individual              |\n",
      "---- ------------------------- ------------------------------------------ ----------\n",
      " Gen   Length          Fitness   Length          Fitness      OOB Fitness  Time Left\n",
      "   0   235.72      3.01738e+28        5          1.47219          2.02341     11.35m\n",
      "   1     7.62          170.676        7          1.43767          2.23827      4.13m\n",
      "   2     3.17          1.77126        3            1.432          2.27058      2.03m\n",
      "   3     2.64          1.66624        3          1.42337          2.32965      1.71m\n",
      "   4     2.16          1.62364        3           1.4257          2.36922      1.42m\n",
      "   5     1.61           1.5865        1           1.4272          2.30688      1.62m\n",
      "   6     1.22          1.55677        1          1.40321          2.42606      1.04m\n",
      "   7     1.06           1.5436        1          1.41501          2.37082     30.93s\n",
      "   8     1.01          1.54069        1          1.43655           2.2491     23.74s\n",
      "   9     1.00           1.5395        1          1.41942          2.34016      0.00s\n"
     ]
    },
    {
     "data": {
      "image/svg+xml": [
       "<?xml version=\"1.0\" encoding=\"UTF-8\" standalone=\"no\"?>\n",
       "<!DOCTYPE svg PUBLIC \"-//W3C//DTD SVG 1.1//EN\"\n",
       " \"http://www.w3.org/Graphics/SVG/1.1/DTD/svg11.dtd\">\n",
       "<!-- Generated by graphviz version 2.44.1 (20200629.0846)\n",
       " -->\n",
       "<!-- Title: program Pages: 1 -->\n",
       "<svg width=\"76pt\" height=\"44pt\"\n",
       " viewBox=\"0.00 0.00 75.59 44.00\" xmlns=\"http://www.w3.org/2000/svg\" xmlns:xlink=\"http://www.w3.org/1999/xlink\">\n",
       "<g id=\"graph0\" class=\"graph\" transform=\"scale(1 1) rotate(0) translate(4 40)\">\n",
       "<title>program</title>\n",
       "<polygon fill=\"white\" stroke=\"transparent\" points=\"-4,4 -4,-40 71.59,-40 71.59,4 -4,4\"/>\n",
       "<!-- 0 -->\n",
       "<g id=\"node1\" class=\"node\">\n",
       "<title>0</title>\n",
       "<ellipse fill=\"#60a6f6\" stroke=\"black\" cx=\"33.8\" cy=\"-18\" rx=\"33.6\" ry=\"18\"/>\n",
       "<text text-anchor=\"middle\" x=\"33.8\" y=\"-14.3\" font-family=\"Times,serif\" font-size=\"14.00\">&#45;0.001</text>\n",
       "</g>\n",
       "</g>\n",
       "</svg>\n"
      ],
      "text/plain": [
       "<graphviz.files.Source at 0x1266bf198>"
      ]
     },
     "execution_count": 67,
     "metadata": {},
     "output_type": "execute_result"
    }
   ],
   "source": [
    "# Return as input\n",
    "init_depth = (1,10)\n",
    "function_set = ['add', 'sub','mul','div']\n",
    "est_gp_index_0 = SymbolicRegressor(population_size=10000,function_set=function_set,init_depth = init_depth,\n",
    "                           generations=10, metric='rmse',stopping_criteria=0.01,\n",
    "                           p_crossover=0.8, p_subtree_mutation=0,\n",
    "                           p_hoist_mutation=0, p_point_mutation=0.1,\n",
    "                           max_samples=0.9, verbose=1,\n",
    "                           parsimony_coefficient=0.01, random_state=0,n_jobs=-1)\n",
    "est_gp_index_0.fit(SP_dataset_x_return, SP_dataset_y_return)\n",
    "dot_data = est_gp_index_0._program.export_graphviz()\n",
    "graph = graphviz.Source(dot_data)\n",
    "graph"
   ]
  },
  {
   "cell_type": "code",
   "execution_count": 49,
   "metadata": {},
   "outputs": [
    {
     "name": "stdout",
     "output_type": "stream",
     "text": [
      "div(mul(-0.619, X2), add(X1, add(sub(-0.102, 0.895), sub(add(X0, sub(X2, div(sub(X1, X1), add(sub(X2, X1), mul(X2, 0.983))))), sub(X2, X1)))))\n"
     ]
    }
   ],
   "source": [
    "print(est_gp_index_0._program)\n",
    "#est_gp_index_0.predict(SP_dataset_x_OoS_new)"
   ]
  },
  {
   "cell_type": "code",
   "execution_count": 50,
   "metadata": {},
   "outputs": [
    {
     "data": {
      "image/svg+xml": [
       "<?xml version=\"1.0\" encoding=\"UTF-8\" standalone=\"no\"?>\n",
       "<!DOCTYPE svg PUBLIC \"-//W3C//DTD SVG 1.1//EN\"\n",
       " \"http://www.w3.org/Graphics/SVG/1.1/DTD/svg11.dtd\">\n",
       "<!-- Generated by graphviz version 2.44.1 (20200629.0846)\n",
       " -->\n",
       "<!-- Title: program Pages: 1 -->\n",
       "<svg width=\"553pt\" height=\"692pt\"\n",
       " viewBox=\"0.00 0.00 553.34 692.00\" xmlns=\"http://www.w3.org/2000/svg\" xmlns:xlink=\"http://www.w3.org/1999/xlink\">\n",
       "<g id=\"graph0\" class=\"graph\" transform=\"scale(1 1) rotate(0) translate(4 688)\">\n",
       "<title>program</title>\n",
       "<polygon fill=\"white\" stroke=\"transparent\" points=\"-4,4 -4,-688 549.34,-688 549.34,4 -4,4\"/>\n",
       "<!-- 0 -->\n",
       "<g id=\"node1\" class=\"node\">\n",
       "<title>0</title>\n",
       "<ellipse fill=\"#136ed4\" stroke=\"black\" cx=\"148.8\" cy=\"-666\" rx=\"27\" ry=\"18\"/>\n",
       "<text text-anchor=\"middle\" x=\"148.8\" y=\"-662.3\" font-family=\"Times,serif\" font-size=\"14.00\">div</text>\n",
       "</g>\n",
       "<!-- 1 -->\n",
       "<g id=\"node2\" class=\"node\">\n",
       "<title>1</title>\n",
       "<ellipse fill=\"#136ed4\" stroke=\"black\" cx=\"112.8\" cy=\"-594\" rx=\"27\" ry=\"18\"/>\n",
       "<text text-anchor=\"middle\" x=\"112.8\" y=\"-590.3\" font-family=\"Times,serif\" font-size=\"14.00\">mul</text>\n",
       "</g>\n",
       "<!-- 0&#45;&gt;1 -->\n",
       "<g id=\"edge28\" class=\"edge\">\n",
       "<title>0&#45;&gt;1</title>\n",
       "<path fill=\"none\" stroke=\"black\" d=\"M140.45,-648.76C136.09,-640.28 130.65,-629.71 125.76,-620.2\"/>\n",
       "<polygon fill=\"black\" stroke=\"black\" points=\"128.79,-618.44 121.1,-611.15 122.56,-621.64 128.79,-618.44\"/>\n",
       "</g>\n",
       "<!-- 4 -->\n",
       "<g id=\"node5\" class=\"node\">\n",
       "<title>4</title>\n",
       "<ellipse fill=\"#136ed4\" stroke=\"black\" cx=\"184.8\" cy=\"-594\" rx=\"27\" ry=\"18\"/>\n",
       "<text text-anchor=\"middle\" x=\"184.8\" y=\"-590.3\" font-family=\"Times,serif\" font-size=\"14.00\">add</text>\n",
       "</g>\n",
       "<!-- 0&#45;&gt;4 -->\n",
       "<g id=\"edge27\" class=\"edge\">\n",
       "<title>0&#45;&gt;4</title>\n",
       "<path fill=\"none\" stroke=\"black\" d=\"M157.15,-648.76C161.51,-640.28 166.94,-629.71 171.84,-620.2\"/>\n",
       "<polygon fill=\"black\" stroke=\"black\" points=\"175.03,-621.64 176.49,-611.15 168.81,-618.44 175.03,-621.64\"/>\n",
       "</g>\n",
       "<!-- 2 -->\n",
       "<g id=\"node3\" class=\"node\">\n",
       "<title>2</title>\n",
       "<ellipse fill=\"#60a6f6\" stroke=\"black\" cx=\"33.8\" cy=\"-522\" rx=\"33.6\" ry=\"18\"/>\n",
       "<text text-anchor=\"middle\" x=\"33.8\" y=\"-518.3\" font-family=\"Times,serif\" font-size=\"14.00\">&#45;0.619</text>\n",
       "</g>\n",
       "<!-- 1&#45;&gt;2 -->\n",
       "<g id=\"edge2\" class=\"edge\">\n",
       "<title>1&#45;&gt;2</title>\n",
       "<path fill=\"none\" stroke=\"black\" d=\"M97.19,-579.17C86.02,-569.27 70.76,-555.75 58.02,-544.46\"/>\n",
       "<polygon fill=\"black\" stroke=\"black\" points=\"60.27,-541.78 50.46,-537.77 55.63,-547.02 60.27,-541.78\"/>\n",
       "</g>\n",
       "<!-- 3 -->\n",
       "<g id=\"node4\" class=\"node\">\n",
       "<title>3</title>\n",
       "<ellipse fill=\"#60a6f6\" stroke=\"black\" cx=\"112.8\" cy=\"-522\" rx=\"27\" ry=\"18\"/>\n",
       "<text text-anchor=\"middle\" x=\"112.8\" y=\"-518.3\" font-family=\"Times,serif\" font-size=\"14.00\">X2</text>\n",
       "</g>\n",
       "<!-- 1&#45;&gt;3 -->\n",
       "<g id=\"edge1\" class=\"edge\">\n",
       "<title>1&#45;&gt;3</title>\n",
       "<path fill=\"none\" stroke=\"black\" d=\"M112.8,-575.7C112.8,-567.98 112.8,-558.71 112.8,-550.11\"/>\n",
       "<polygon fill=\"black\" stroke=\"black\" points=\"116.3,-550.1 112.8,-540.1 109.3,-550.1 116.3,-550.1\"/>\n",
       "</g>\n",
       "<!-- 5 -->\n",
       "<g id=\"node6\" class=\"node\">\n",
       "<title>5</title>\n",
       "<ellipse fill=\"#60a6f6\" stroke=\"black\" cx=\"184.8\" cy=\"-522\" rx=\"27\" ry=\"18\"/>\n",
       "<text text-anchor=\"middle\" x=\"184.8\" y=\"-518.3\" font-family=\"Times,serif\" font-size=\"14.00\">X1</text>\n",
       "</g>\n",
       "<!-- 4&#45;&gt;5 -->\n",
       "<g id=\"edge26\" class=\"edge\">\n",
       "<title>4&#45;&gt;5</title>\n",
       "<path fill=\"none\" stroke=\"black\" d=\"M184.8,-575.7C184.8,-567.98 184.8,-558.71 184.8,-550.11\"/>\n",
       "<polygon fill=\"black\" stroke=\"black\" points=\"188.3,-550.1 184.8,-540.1 181.3,-550.1 188.3,-550.1\"/>\n",
       "</g>\n",
       "<!-- 6 -->\n",
       "<g id=\"node7\" class=\"node\">\n",
       "<title>6</title>\n",
       "<ellipse fill=\"#136ed4\" stroke=\"black\" cx=\"256.8\" cy=\"-522\" rx=\"27\" ry=\"18\"/>\n",
       "<text text-anchor=\"middle\" x=\"256.8\" y=\"-518.3\" font-family=\"Times,serif\" font-size=\"14.00\">add</text>\n",
       "</g>\n",
       "<!-- 4&#45;&gt;6 -->\n",
       "<g id=\"edge25\" class=\"edge\">\n",
       "<title>4&#45;&gt;6</title>\n",
       "<path fill=\"none\" stroke=\"black\" d=\"M199.37,-578.83C209.55,-568.94 223.32,-555.55 234.83,-544.36\"/>\n",
       "<polygon fill=\"black\" stroke=\"black\" points=\"237.27,-546.87 242,-537.38 232.39,-541.85 237.27,-546.87\"/>\n",
       "</g>\n",
       "<!-- 7 -->\n",
       "<g id=\"node8\" class=\"node\">\n",
       "<title>7</title>\n",
       "<ellipse fill=\"#136ed4\" stroke=\"black\" cx=\"218.8\" cy=\"-450\" rx=\"27\" ry=\"18\"/>\n",
       "<text text-anchor=\"middle\" x=\"218.8\" y=\"-446.3\" font-family=\"Times,serif\" font-size=\"14.00\">sub</text>\n",
       "</g>\n",
       "<!-- 6&#45;&gt;7 -->\n",
       "<g id=\"edge24\" class=\"edge\">\n",
       "<title>6&#45;&gt;7</title>\n",
       "<path fill=\"none\" stroke=\"black\" d=\"M247.98,-504.76C243.38,-496.28 237.64,-485.71 232.48,-476.2\"/>\n",
       "<polygon fill=\"black\" stroke=\"black\" points=\"235.41,-474.27 227.56,-467.15 229.26,-477.61 235.41,-474.27\"/>\n",
       "</g>\n",
       "<!-- 10 -->\n",
       "<g id=\"node11\" class=\"node\">\n",
       "<title>10</title>\n",
       "<ellipse fill=\"#136ed4\" stroke=\"black\" cx=\"294.8\" cy=\"-450\" rx=\"27\" ry=\"18\"/>\n",
       "<text text-anchor=\"middle\" x=\"294.8\" y=\"-446.3\" font-family=\"Times,serif\" font-size=\"14.00\">sub</text>\n",
       "</g>\n",
       "<!-- 6&#45;&gt;10 -->\n",
       "<g id=\"edge23\" class=\"edge\">\n",
       "<title>6&#45;&gt;10</title>\n",
       "<path fill=\"none\" stroke=\"black\" d=\"M265.61,-504.76C270.21,-496.28 275.95,-485.71 281.12,-476.2\"/>\n",
       "<polygon fill=\"black\" stroke=\"black\" points=\"284.34,-477.61 286.03,-467.15 278.18,-474.27 284.34,-477.61\"/>\n",
       "</g>\n",
       "<!-- 8 -->\n",
       "<g id=\"node9\" class=\"node\">\n",
       "<title>8</title>\n",
       "<ellipse fill=\"#60a6f6\" stroke=\"black\" cx=\"136.8\" cy=\"-378\" rx=\"33.6\" ry=\"18\"/>\n",
       "<text text-anchor=\"middle\" x=\"136.8\" y=\"-374.3\" font-family=\"Times,serif\" font-size=\"14.00\">&#45;0.102</text>\n",
       "</g>\n",
       "<!-- 7&#45;&gt;8 -->\n",
       "<g id=\"edge4\" class=\"edge\">\n",
       "<title>7&#45;&gt;8</title>\n",
       "<path fill=\"none\" stroke=\"black\" d=\"M202.6,-435.17C191,-425.27 175.17,-411.75 161.94,-400.46\"/>\n",
       "<polygon fill=\"black\" stroke=\"black\" points=\"163.97,-397.6 154.1,-393.77 159.43,-402.92 163.97,-397.6\"/>\n",
       "</g>\n",
       "<!-- 9 -->\n",
       "<g id=\"node10\" class=\"node\">\n",
       "<title>9</title>\n",
       "<ellipse fill=\"#60a6f6\" stroke=\"black\" cx=\"218.8\" cy=\"-378\" rx=\"30.59\" ry=\"18\"/>\n",
       "<text text-anchor=\"middle\" x=\"218.8\" y=\"-374.3\" font-family=\"Times,serif\" font-size=\"14.00\">0.895</text>\n",
       "</g>\n",
       "<!-- 7&#45;&gt;9 -->\n",
       "<g id=\"edge3\" class=\"edge\">\n",
       "<title>7&#45;&gt;9</title>\n",
       "<path fill=\"none\" stroke=\"black\" d=\"M218.8,-431.7C218.8,-423.98 218.8,-414.71 218.8,-406.11\"/>\n",
       "<polygon fill=\"black\" stroke=\"black\" points=\"222.3,-406.1 218.8,-396.1 215.3,-406.1 222.3,-406.1\"/>\n",
       "</g>\n",
       "<!-- 11 -->\n",
       "<g id=\"node12\" class=\"node\">\n",
       "<title>11</title>\n",
       "<ellipse fill=\"#136ed4\" stroke=\"black\" cx=\"294.8\" cy=\"-378\" rx=\"27\" ry=\"18\"/>\n",
       "<text text-anchor=\"middle\" x=\"294.8\" y=\"-374.3\" font-family=\"Times,serif\" font-size=\"14.00\">add</text>\n",
       "</g>\n",
       "<!-- 10&#45;&gt;11 -->\n",
       "<g id=\"edge22\" class=\"edge\">\n",
       "<title>10&#45;&gt;11</title>\n",
       "<path fill=\"none\" stroke=\"black\" d=\"M294.8,-431.7C294.8,-423.98 294.8,-414.71 294.8,-406.11\"/>\n",
       "<polygon fill=\"black\" stroke=\"black\" points=\"298.3,-406.1 294.8,-396.1 291.3,-406.1 298.3,-406.1\"/>\n",
       "</g>\n",
       "<!-- 26 -->\n",
       "<g id=\"node27\" class=\"node\">\n",
       "<title>26</title>\n",
       "<ellipse fill=\"#136ed4\" stroke=\"black\" cx=\"366.8\" cy=\"-378\" rx=\"27\" ry=\"18\"/>\n",
       "<text text-anchor=\"middle\" x=\"366.8\" y=\"-374.3\" font-family=\"Times,serif\" font-size=\"14.00\">sub</text>\n",
       "</g>\n",
       "<!-- 10&#45;&gt;26 -->\n",
       "<g id=\"edge21\" class=\"edge\">\n",
       "<title>10&#45;&gt;26</title>\n",
       "<path fill=\"none\" stroke=\"black\" d=\"M309.37,-434.83C319.55,-424.94 333.32,-411.55 344.83,-400.36\"/>\n",
       "<polygon fill=\"black\" stroke=\"black\" points=\"347.27,-402.87 352,-393.38 342.39,-397.85 347.27,-402.87\"/>\n",
       "</g>\n",
       "<!-- 12 -->\n",
       "<g id=\"node13\" class=\"node\">\n",
       "<title>12</title>\n",
       "<ellipse fill=\"#60a6f6\" stroke=\"black\" cx=\"222.8\" cy=\"-306\" rx=\"27\" ry=\"18\"/>\n",
       "<text text-anchor=\"middle\" x=\"222.8\" y=\"-302.3\" font-family=\"Times,serif\" font-size=\"14.00\">X0</text>\n",
       "</g>\n",
       "<!-- 11&#45;&gt;12 -->\n",
       "<g id=\"edge18\" class=\"edge\">\n",
       "<title>11&#45;&gt;12</title>\n",
       "<path fill=\"none\" stroke=\"black\" d=\"M280.23,-362.83C270.05,-352.94 256.27,-339.55 244.77,-328.36\"/>\n",
       "<polygon fill=\"black\" stroke=\"black\" points=\"247.2,-325.85 237.59,-321.38 242.32,-330.87 247.2,-325.85\"/>\n",
       "</g>\n",
       "<!-- 13 -->\n",
       "<g id=\"node14\" class=\"node\">\n",
       "<title>13</title>\n",
       "<ellipse fill=\"#136ed4\" stroke=\"black\" cx=\"294.8\" cy=\"-306\" rx=\"27\" ry=\"18\"/>\n",
       "<text text-anchor=\"middle\" x=\"294.8\" y=\"-302.3\" font-family=\"Times,serif\" font-size=\"14.00\">sub</text>\n",
       "</g>\n",
       "<!-- 11&#45;&gt;13 -->\n",
       "<g id=\"edge17\" class=\"edge\">\n",
       "<title>11&#45;&gt;13</title>\n",
       "<path fill=\"none\" stroke=\"black\" d=\"M294.8,-359.7C294.8,-351.98 294.8,-342.71 294.8,-334.11\"/>\n",
       "<polygon fill=\"black\" stroke=\"black\" points=\"298.3,-334.1 294.8,-324.1 291.3,-334.1 298.3,-334.1\"/>\n",
       "</g>\n",
       "<!-- 14 -->\n",
       "<g id=\"node15\" class=\"node\">\n",
       "<title>14</title>\n",
       "<ellipse fill=\"#60a6f6\" stroke=\"black\" cx=\"258.8\" cy=\"-234\" rx=\"27\" ry=\"18\"/>\n",
       "<text text-anchor=\"middle\" x=\"258.8\" y=\"-230.3\" font-family=\"Times,serif\" font-size=\"14.00\">X2</text>\n",
       "</g>\n",
       "<!-- 13&#45;&gt;14 -->\n",
       "<g id=\"edge16\" class=\"edge\">\n",
       "<title>13&#45;&gt;14</title>\n",
       "<path fill=\"none\" stroke=\"black\" d=\"M286.45,-288.76C282.09,-280.28 276.65,-269.71 271.76,-260.2\"/>\n",
       "<polygon fill=\"black\" stroke=\"black\" points=\"274.79,-258.44 267.1,-251.15 268.56,-261.64 274.79,-258.44\"/>\n",
       "</g>\n",
       "<!-- 15 -->\n",
       "<g id=\"node16\" class=\"node\">\n",
       "<title>15</title>\n",
       "<ellipse fill=\"#136ed4\" stroke=\"black\" cx=\"330.8\" cy=\"-234\" rx=\"27\" ry=\"18\"/>\n",
       "<text text-anchor=\"middle\" x=\"330.8\" y=\"-230.3\" font-family=\"Times,serif\" font-size=\"14.00\">div</text>\n",
       "</g>\n",
       "<!-- 13&#45;&gt;15 -->\n",
       "<g id=\"edge15\" class=\"edge\">\n",
       "<title>13&#45;&gt;15</title>\n",
       "<path fill=\"none\" stroke=\"black\" d=\"M303.15,-288.76C307.51,-280.28 312.94,-269.71 317.84,-260.2\"/>\n",
       "<polygon fill=\"black\" stroke=\"black\" points=\"321.03,-261.64 322.49,-251.15 314.81,-258.44 321.03,-261.64\"/>\n",
       "</g>\n",
       "<!-- 16 -->\n",
       "<g id=\"node17\" class=\"node\">\n",
       "<title>16</title>\n",
       "<ellipse fill=\"#136ed4\" stroke=\"black\" cx=\"294.8\" cy=\"-162\" rx=\"27\" ry=\"18\"/>\n",
       "<text text-anchor=\"middle\" x=\"294.8\" y=\"-158.3\" font-family=\"Times,serif\" font-size=\"14.00\">sub</text>\n",
       "</g>\n",
       "<!-- 15&#45;&gt;16 -->\n",
       "<g id=\"edge14\" class=\"edge\">\n",
       "<title>15&#45;&gt;16</title>\n",
       "<path fill=\"none\" stroke=\"black\" d=\"M322.45,-216.76C318.09,-208.28 312.65,-197.71 307.76,-188.2\"/>\n",
       "<polygon fill=\"black\" stroke=\"black\" points=\"310.79,-186.44 303.1,-179.15 304.56,-189.64 310.79,-186.44\"/>\n",
       "</g>\n",
       "<!-- 19 -->\n",
       "<g id=\"node20\" class=\"node\">\n",
       "<title>19</title>\n",
       "<ellipse fill=\"#136ed4\" stroke=\"black\" cx=\"366.8\" cy=\"-162\" rx=\"27\" ry=\"18\"/>\n",
       "<text text-anchor=\"middle\" x=\"366.8\" y=\"-158.3\" font-family=\"Times,serif\" font-size=\"14.00\">add</text>\n",
       "</g>\n",
       "<!-- 15&#45;&gt;19 -->\n",
       "<g id=\"edge13\" class=\"edge\">\n",
       "<title>15&#45;&gt;19</title>\n",
       "<path fill=\"none\" stroke=\"black\" d=\"M339.15,-216.76C343.51,-208.28 348.94,-197.71 353.84,-188.2\"/>\n",
       "<polygon fill=\"black\" stroke=\"black\" points=\"357.03,-189.64 358.49,-179.15 350.81,-186.44 357.03,-189.64\"/>\n",
       "</g>\n",
       "<!-- 17 -->\n",
       "<g id=\"node18\" class=\"node\">\n",
       "<title>17</title>\n",
       "<ellipse fill=\"#60a6f6\" stroke=\"black\" cx=\"222.8\" cy=\"-90\" rx=\"27\" ry=\"18\"/>\n",
       "<text text-anchor=\"middle\" x=\"222.8\" y=\"-86.3\" font-family=\"Times,serif\" font-size=\"14.00\">X1</text>\n",
       "</g>\n",
       "<!-- 16&#45;&gt;17 -->\n",
       "<g id=\"edge6\" class=\"edge\">\n",
       "<title>16&#45;&gt;17</title>\n",
       "<path fill=\"none\" stroke=\"black\" d=\"M280.23,-146.83C270.05,-136.94 256.27,-123.55 244.77,-112.36\"/>\n",
       "<polygon fill=\"black\" stroke=\"black\" points=\"247.2,-109.85 237.59,-105.38 242.32,-114.87 247.2,-109.85\"/>\n",
       "</g>\n",
       "<!-- 18 -->\n",
       "<g id=\"node19\" class=\"node\">\n",
       "<title>18</title>\n",
       "<ellipse fill=\"#60a6f6\" stroke=\"black\" cx=\"294.8\" cy=\"-90\" rx=\"27\" ry=\"18\"/>\n",
       "<text text-anchor=\"middle\" x=\"294.8\" y=\"-86.3\" font-family=\"Times,serif\" font-size=\"14.00\">X1</text>\n",
       "</g>\n",
       "<!-- 16&#45;&gt;18 -->\n",
       "<g id=\"edge5\" class=\"edge\">\n",
       "<title>16&#45;&gt;18</title>\n",
       "<path fill=\"none\" stroke=\"black\" d=\"M294.8,-143.7C294.8,-135.98 294.8,-126.71 294.8,-118.11\"/>\n",
       "<polygon fill=\"black\" stroke=\"black\" points=\"298.3,-118.1 294.8,-108.1 291.3,-118.1 298.3,-118.1\"/>\n",
       "</g>\n",
       "<!-- 20 -->\n",
       "<g id=\"node21\" class=\"node\">\n",
       "<title>20</title>\n",
       "<ellipse fill=\"#136ed4\" stroke=\"black\" cx=\"366.8\" cy=\"-90\" rx=\"27\" ry=\"18\"/>\n",
       "<text text-anchor=\"middle\" x=\"366.8\" y=\"-86.3\" font-family=\"Times,serif\" font-size=\"14.00\">sub</text>\n",
       "</g>\n",
       "<!-- 19&#45;&gt;20 -->\n",
       "<g id=\"edge12\" class=\"edge\">\n",
       "<title>19&#45;&gt;20</title>\n",
       "<path fill=\"none\" stroke=\"black\" d=\"M366.8,-143.7C366.8,-135.98 366.8,-126.71 366.8,-118.11\"/>\n",
       "<polygon fill=\"black\" stroke=\"black\" points=\"370.3,-118.1 366.8,-108.1 363.3,-118.1 370.3,-118.1\"/>\n",
       "</g>\n",
       "<!-- 23 -->\n",
       "<g id=\"node24\" class=\"node\">\n",
       "<title>23</title>\n",
       "<ellipse fill=\"#136ed4\" stroke=\"black\" cx=\"438.8\" cy=\"-90\" rx=\"27\" ry=\"18\"/>\n",
       "<text text-anchor=\"middle\" x=\"438.8\" y=\"-86.3\" font-family=\"Times,serif\" font-size=\"14.00\">mul</text>\n",
       "</g>\n",
       "<!-- 19&#45;&gt;23 -->\n",
       "<g id=\"edge11\" class=\"edge\">\n",
       "<title>19&#45;&gt;23</title>\n",
       "<path fill=\"none\" stroke=\"black\" d=\"M381.37,-146.83C391.55,-136.94 405.32,-123.55 416.83,-112.36\"/>\n",
       "<polygon fill=\"black\" stroke=\"black\" points=\"419.27,-114.87 424,-105.38 414.39,-109.85 419.27,-114.87\"/>\n",
       "</g>\n",
       "<!-- 21 -->\n",
       "<g id=\"node22\" class=\"node\">\n",
       "<title>21</title>\n",
       "<ellipse fill=\"#60a6f6\" stroke=\"black\" cx=\"294.8\" cy=\"-18\" rx=\"27\" ry=\"18\"/>\n",
       "<text text-anchor=\"middle\" x=\"294.8\" y=\"-14.3\" font-family=\"Times,serif\" font-size=\"14.00\">X2</text>\n",
       "</g>\n",
       "<!-- 20&#45;&gt;21 -->\n",
       "<g id=\"edge8\" class=\"edge\">\n",
       "<title>20&#45;&gt;21</title>\n",
       "<path fill=\"none\" stroke=\"black\" d=\"M352.23,-74.83C342.05,-64.94 328.27,-51.55 316.77,-40.36\"/>\n",
       "<polygon fill=\"black\" stroke=\"black\" points=\"319.2,-37.85 309.59,-33.38 314.32,-42.87 319.2,-37.85\"/>\n",
       "</g>\n",
       "<!-- 22 -->\n",
       "<g id=\"node23\" class=\"node\">\n",
       "<title>22</title>\n",
       "<ellipse fill=\"#60a6f6\" stroke=\"black\" cx=\"366.8\" cy=\"-18\" rx=\"27\" ry=\"18\"/>\n",
       "<text text-anchor=\"middle\" x=\"366.8\" y=\"-14.3\" font-family=\"Times,serif\" font-size=\"14.00\">X1</text>\n",
       "</g>\n",
       "<!-- 20&#45;&gt;22 -->\n",
       "<g id=\"edge7\" class=\"edge\">\n",
       "<title>20&#45;&gt;22</title>\n",
       "<path fill=\"none\" stroke=\"black\" d=\"M366.8,-71.7C366.8,-63.98 366.8,-54.71 366.8,-46.11\"/>\n",
       "<polygon fill=\"black\" stroke=\"black\" points=\"370.3,-46.1 366.8,-36.1 363.3,-46.1 370.3,-46.1\"/>\n",
       "</g>\n",
       "<!-- 24 -->\n",
       "<g id=\"node25\" class=\"node\">\n",
       "<title>24</title>\n",
       "<ellipse fill=\"#60a6f6\" stroke=\"black\" cx=\"438.8\" cy=\"-18\" rx=\"27\" ry=\"18\"/>\n",
       "<text text-anchor=\"middle\" x=\"438.8\" y=\"-14.3\" font-family=\"Times,serif\" font-size=\"14.00\">X2</text>\n",
       "</g>\n",
       "<!-- 23&#45;&gt;24 -->\n",
       "<g id=\"edge10\" class=\"edge\">\n",
       "<title>23&#45;&gt;24</title>\n",
       "<path fill=\"none\" stroke=\"black\" d=\"M438.8,-71.7C438.8,-63.98 438.8,-54.71 438.8,-46.11\"/>\n",
       "<polygon fill=\"black\" stroke=\"black\" points=\"442.3,-46.1 438.8,-36.1 435.3,-46.1 442.3,-46.1\"/>\n",
       "</g>\n",
       "<!-- 25 -->\n",
       "<g id=\"node26\" class=\"node\">\n",
       "<title>25</title>\n",
       "<ellipse fill=\"#60a6f6\" stroke=\"black\" cx=\"514.8\" cy=\"-18\" rx=\"30.59\" ry=\"18\"/>\n",
       "<text text-anchor=\"middle\" x=\"514.8\" y=\"-14.3\" font-family=\"Times,serif\" font-size=\"14.00\">0.983</text>\n",
       "</g>\n",
       "<!-- 23&#45;&gt;25 -->\n",
       "<g id=\"edge9\" class=\"edge\">\n",
       "<title>23&#45;&gt;25</title>\n",
       "<path fill=\"none\" stroke=\"black\" d=\"M454.18,-74.83C464.85,-65 479.27,-51.72 491.37,-40.58\"/>\n",
       "<polygon fill=\"black\" stroke=\"black\" points=\"493.93,-42.98 498.92,-33.63 489.19,-37.83 493.93,-42.98\"/>\n",
       "</g>\n",
       "<!-- 27 -->\n",
       "<g id=\"node28\" class=\"node\">\n",
       "<title>27</title>\n",
       "<ellipse fill=\"#60a6f6\" stroke=\"black\" cx=\"366.8\" cy=\"-306\" rx=\"27\" ry=\"18\"/>\n",
       "<text text-anchor=\"middle\" x=\"366.8\" y=\"-302.3\" font-family=\"Times,serif\" font-size=\"14.00\">X2</text>\n",
       "</g>\n",
       "<!-- 26&#45;&gt;27 -->\n",
       "<g id=\"edge20\" class=\"edge\">\n",
       "<title>26&#45;&gt;27</title>\n",
       "<path fill=\"none\" stroke=\"black\" d=\"M366.8,-359.7C366.8,-351.98 366.8,-342.71 366.8,-334.11\"/>\n",
       "<polygon fill=\"black\" stroke=\"black\" points=\"370.3,-334.1 366.8,-324.1 363.3,-334.1 370.3,-334.1\"/>\n",
       "</g>\n",
       "<!-- 28 -->\n",
       "<g id=\"node29\" class=\"node\">\n",
       "<title>28</title>\n",
       "<ellipse fill=\"#60a6f6\" stroke=\"black\" cx=\"438.8\" cy=\"-306\" rx=\"27\" ry=\"18\"/>\n",
       "<text text-anchor=\"middle\" x=\"438.8\" y=\"-302.3\" font-family=\"Times,serif\" font-size=\"14.00\">X1</text>\n",
       "</g>\n",
       "<!-- 26&#45;&gt;28 -->\n",
       "<g id=\"edge19\" class=\"edge\">\n",
       "<title>26&#45;&gt;28</title>\n",
       "<path fill=\"none\" stroke=\"black\" d=\"M381.37,-362.83C391.55,-352.94 405.32,-339.55 416.83,-328.36\"/>\n",
       "<polygon fill=\"black\" stroke=\"black\" points=\"419.27,-330.87 424,-321.38 414.39,-325.85 419.27,-330.87\"/>\n",
       "</g>\n",
       "</g>\n",
       "</svg>\n"
      ],
      "text/plain": [
       "<graphviz.files.Source at 0x129af8cc0>"
      ]
     },
     "execution_count": 50,
     "metadata": {},
     "output_type": "execute_result"
    }
   ],
   "source": []
  },
  {
   "cell_type": "code",
   "execution_count": 77,
   "metadata": {},
   "outputs": [
    {
     "name": "stdout",
     "output_type": "stream",
     "text": [
      "    |   Population Average    |             Best Individual              |\n",
      "---- ------------------------- ------------------------------------------ ----------\n",
      " Gen   Length          Fitness   Length          Fitness      OOB Fitness  Time Left\n",
      "   0   234.03      3.06184e+69        7          147.088          227.539      6.80m\n",
      "   1    34.45      9.72931e+09        7          147.973           222.37      3.07m\n",
      "   2    29.18       4.3915e+16       67          148.463          219.333      2.40m\n",
      "   3    30.62      1.05643e+17        9          146.681          230.013      2.07m\n",
      "   4    26.98      1.39332e+11       37          145.343          237.378      2.28m\n",
      "   5    28.66      1.97053e+10        5          148.088          221.588      3.73m\n",
      "   6    28.78      4.35881e+10        3          147.159          227.168      3.36m\n",
      "   7    26.64      2.13521e+19       15          146.676          229.845      2.20m\n",
      "   8    22.18      7.89244e+09       41          148.904          216.581      2.00m\n",
      "   9    24.65      6.10348e+12       33          147.113          227.353      2.01m\n",
      "  10    22.88      4.56243e+10       11          147.373          225.919      2.47m\n",
      "  11    21.37      2.87596e+15       41          147.177          226.939      2.87m\n",
      "  12    20.60      2.69008e+14       27          147.635          224.246      2.97m\n",
      "  13    20.27      1.80865e+11       29          146.652          229.962      2.01m\n",
      "  14    21.49      4.13251e+10       23          145.116          238.591      2.32m\n",
      "  15    21.97      2.73317e+09       11          147.668          227.093      1.81m\n",
      "  16    22.76      6.36761e+12       17          148.912          216.579      1.82m\n",
      "  17    24.44       9.9957e+09       17          148.462          219.334      1.99m\n",
      "  18    22.95       4.9057e+07       21          146.043          233.468      1.74m\n",
      "  19    23.87      2.01011e+13       45          147.768          223.508      2.44m\n",
      "  20    26.16      3.99158e+10       45          146.668          229.919      1.62m\n",
      "  21    24.10      1.60196e+10       59           148.41          219.659      2.11m\n",
      "  22    23.43      1.07731e+13       53          147.605          224.445      1.44m\n",
      "  23    21.81      1.21836e+10        5          147.313          226.233      1.32m\n",
      "  24    26.57       1.0488e+10       27          146.849          228.296      1.51m\n",
      "  25    22.52      2.49591e+13        5          147.592          224.595      1.21m\n",
      "  26    20.11      1.07782e+13       71          148.471          219.262      1.30m\n",
      "  27    18.01      8.79342e+07       13          146.836          228.955      1.37m\n",
      "  28    19.93      4.12933e+07       13          147.365          225.883      1.17m\n",
      "  29    17.75      6.55875e+11       31            147.4          225.642     58.62s\n",
      "  30    17.65      2.49197e+08       33          147.653          224.164      1.06m\n",
      "  31    15.15      1.67923e+07       11          143.989          244.655      1.93m\n",
      "  32    15.13      1.56677e+09       15           148.97          216.228      1.20m\n",
      "  33    14.52      1.06082e+10        1          148.455          219.396      1.44m\n",
      "  34    14.84      2.80698e+09       69          145.081           238.79     57.45s\n",
      "  35    13.97      2.41882e+07       35          148.959          216.376     59.76s\n",
      "  36    13.27      1.91153e+06        5          148.295          220.433     40.43s\n",
      "  37    12.62      3.64614e+09        7          145.616          235.849      1.42m\n",
      "  38    12.52           276824        9          147.319          230.288     59.22s\n",
      "  39    10.90           174061       19          146.591          230.357     48.03s\n",
      "  40    10.31           345231        9          147.422          225.629     31.42s\n",
      "  41    10.36      2.12291e+08       21          145.724          235.331     37.85s\n",
      "  42    10.62          2471.41       25          146.448          231.178     22.97s\n",
      "  43    10.67          1405.87        5           146.72           229.71     23.93s\n",
      "  44    11.12          1761.86       15          144.212          243.548     26.65s\n",
      "  45    10.37          1300.65        3          147.436          225.463     12.38s\n",
      "  46    10.56          29807.1        9          147.951          222.499     10.49s\n",
      "  47     9.35          607.747        9          146.833          228.988      5.69s\n",
      "  48     9.49          22752.1        3          147.466          225.292      3.40s\n",
      "  49     9.40          417.802       11          149.096          215.526      0.00s\n"
     ]
    },
    {
     "data": {
      "text/plain": [
       "SymbolicRegressor(function_set=['add', 'sub', 'mul', 'div'], generations=50,\n",
       "                  init_depth=(1, 10), max_samples=0.9, metric='rmse', n_jobs=-1,\n",
       "                  p_crossover=0.8, p_hoist_mutation=0, p_point_mutation=0.1,\n",
       "                  p_subtree_mutation=0, parsimony_coefficient=0.01,\n",
       "                  random_state=0, stopping_criteria=0.01, verbose=1)"
      ]
     },
     "execution_count": 77,
     "metadata": {},
     "output_type": "execute_result"
    }
   ],
   "source": [
    "# Return as input\n",
    "init_depth = (1,10)\n",
    "function_set = ['add', 'sub','mul','div']\n",
    "est_gp_index_1 = SymbolicRegressor(population_size=1000,function_set=function_set,init_depth = init_depth,\n",
    "                           generations=50, metric='rmse',stopping_criteria=0.01,\n",
    "                           p_crossover=0.8, p_subtree_mutation=0,\n",
    "                           p_hoist_mutation=0, p_point_mutation=0.1,\n",
    "                           max_samples=0.9, verbose=1,\n",
    "                           parsimony_coefficient=0.01, random_state=0,n_jobs=-1)\n",
    "est_gp_index_1.fit(SP_dataset_x_return*100, SP_dataset_y_return*100)"
   ]
  },
  {
   "cell_type": "code",
   "execution_count": 78,
   "metadata": {},
   "outputs": [
    {
     "data": {
      "image/svg+xml": [
       "<?xml version=\"1.0\" encoding=\"UTF-8\" standalone=\"no\"?>\n",
       "<!DOCTYPE svg PUBLIC \"-//W3C//DTD SVG 1.1//EN\"\n",
       " \"http://www.w3.org/Graphics/SVG/1.1/DTD/svg11.dtd\">\n",
       "<!-- Generated by graphviz version 2.44.1 (20200629.0846)\n",
       " -->\n",
       "<!-- Title: program Pages: 1 -->\n",
       "<svg width=\"278pt\" height=\"260pt\"\n",
       " viewBox=\"0.00 0.00 278.00 260.00\" xmlns=\"http://www.w3.org/2000/svg\" xmlns:xlink=\"http://www.w3.org/1999/xlink\">\n",
       "<g id=\"graph0\" class=\"graph\" transform=\"scale(1 1) rotate(0) translate(4 256)\">\n",
       "<title>program</title>\n",
       "<polygon fill=\"white\" stroke=\"transparent\" points=\"-4,4 -4,-256 274,-256 274,4 -4,4\"/>\n",
       "<!-- 0 -->\n",
       "<g id=\"node1\" class=\"node\">\n",
       "<title>0</title>\n",
       "<ellipse fill=\"#136ed4\" stroke=\"black\" cx=\"135\" cy=\"-234\" rx=\"27\" ry=\"18\"/>\n",
       "<text text-anchor=\"middle\" x=\"135\" y=\"-230.3\" font-family=\"Times,serif\" font-size=\"14.00\">div</text>\n",
       "</g>\n",
       "<!-- 1 -->\n",
       "<g id=\"node2\" class=\"node\">\n",
       "<title>1</title>\n",
       "<ellipse fill=\"#136ed4\" stroke=\"black\" cx=\"99\" cy=\"-162\" rx=\"27\" ry=\"18\"/>\n",
       "<text text-anchor=\"middle\" x=\"99\" y=\"-158.3\" font-family=\"Times,serif\" font-size=\"14.00\">div</text>\n",
       "</g>\n",
       "<!-- 0&#45;&gt;1 -->\n",
       "<g id=\"edge10\" class=\"edge\">\n",
       "<title>0&#45;&gt;1</title>\n",
       "<path fill=\"none\" stroke=\"black\" d=\"M126.65,-216.76C122.29,-208.28 116.85,-197.71 111.96,-188.2\"/>\n",
       "<polygon fill=\"black\" stroke=\"black\" points=\"114.99,-186.44 107.3,-179.15 108.77,-189.64 114.99,-186.44\"/>\n",
       "</g>\n",
       "<!-- 6 -->\n",
       "<g id=\"node7\" class=\"node\">\n",
       "<title>6</title>\n",
       "<ellipse fill=\"#136ed4\" stroke=\"black\" cx=\"171\" cy=\"-162\" rx=\"27\" ry=\"18\"/>\n",
       "<text text-anchor=\"middle\" x=\"171\" y=\"-158.3\" font-family=\"Times,serif\" font-size=\"14.00\">div</text>\n",
       "</g>\n",
       "<!-- 0&#45;&gt;6 -->\n",
       "<g id=\"edge9\" class=\"edge\">\n",
       "<title>0&#45;&gt;6</title>\n",
       "<path fill=\"none\" stroke=\"black\" d=\"M143.35,-216.76C147.71,-208.28 153.15,-197.71 158.04,-188.2\"/>\n",
       "<polygon fill=\"black\" stroke=\"black\" points=\"161.23,-189.64 162.7,-179.15 155.01,-186.44 161.23,-189.64\"/>\n",
       "</g>\n",
       "<!-- 2 -->\n",
       "<g id=\"node3\" class=\"node\">\n",
       "<title>2</title>\n",
       "<ellipse fill=\"#60a6f6\" stroke=\"black\" cx=\"27\" cy=\"-90\" rx=\"27\" ry=\"18\"/>\n",
       "<text text-anchor=\"middle\" x=\"27\" y=\"-86.3\" font-family=\"Times,serif\" font-size=\"14.00\">X1</text>\n",
       "</g>\n",
       "<!-- 1&#45;&gt;2 -->\n",
       "<g id=\"edge4\" class=\"edge\">\n",
       "<title>1&#45;&gt;2</title>\n",
       "<path fill=\"none\" stroke=\"black\" d=\"M84.43,-146.83C74.25,-136.94 60.48,-123.55 48.97,-112.36\"/>\n",
       "<polygon fill=\"black\" stroke=\"black\" points=\"51.41,-109.85 41.8,-105.38 46.53,-114.87 51.41,-109.85\"/>\n",
       "</g>\n",
       "<!-- 3 -->\n",
       "<g id=\"node4\" class=\"node\">\n",
       "<title>3</title>\n",
       "<ellipse fill=\"#136ed4\" stroke=\"black\" cx=\"99\" cy=\"-90\" rx=\"27\" ry=\"18\"/>\n",
       "<text text-anchor=\"middle\" x=\"99\" y=\"-86.3\" font-family=\"Times,serif\" font-size=\"14.00\">sub</text>\n",
       "</g>\n",
       "<!-- 1&#45;&gt;3 -->\n",
       "<g id=\"edge3\" class=\"edge\">\n",
       "<title>1&#45;&gt;3</title>\n",
       "<path fill=\"none\" stroke=\"black\" d=\"M99,-143.7C99,-135.98 99,-126.71 99,-118.11\"/>\n",
       "<polygon fill=\"black\" stroke=\"black\" points=\"102.5,-118.1 99,-108.1 95.5,-118.1 102.5,-118.1\"/>\n",
       "</g>\n",
       "<!-- 4 -->\n",
       "<g id=\"node5\" class=\"node\">\n",
       "<title>4</title>\n",
       "<ellipse fill=\"#60a6f6\" stroke=\"black\" cx=\"27\" cy=\"-18\" rx=\"27\" ry=\"18\"/>\n",
       "<text text-anchor=\"middle\" x=\"27\" y=\"-14.3\" font-family=\"Times,serif\" font-size=\"14.00\">X2</text>\n",
       "</g>\n",
       "<!-- 3&#45;&gt;4 -->\n",
       "<g id=\"edge2\" class=\"edge\">\n",
       "<title>3&#45;&gt;4</title>\n",
       "<path fill=\"none\" stroke=\"black\" d=\"M84.43,-74.83C74.25,-64.94 60.48,-51.55 48.97,-40.36\"/>\n",
       "<polygon fill=\"black\" stroke=\"black\" points=\"51.41,-37.85 41.8,-33.38 46.53,-42.87 51.41,-37.85\"/>\n",
       "</g>\n",
       "<!-- 5 -->\n",
       "<g id=\"node6\" class=\"node\">\n",
       "<title>5</title>\n",
       "<ellipse fill=\"#60a6f6\" stroke=\"black\" cx=\"99\" cy=\"-18\" rx=\"27\" ry=\"18\"/>\n",
       "<text text-anchor=\"middle\" x=\"99\" y=\"-14.3\" font-family=\"Times,serif\" font-size=\"14.00\">X2</text>\n",
       "</g>\n",
       "<!-- 3&#45;&gt;5 -->\n",
       "<g id=\"edge1\" class=\"edge\">\n",
       "<title>3&#45;&gt;5</title>\n",
       "<path fill=\"none\" stroke=\"black\" d=\"M99,-71.7C99,-63.98 99,-54.71 99,-46.11\"/>\n",
       "<polygon fill=\"black\" stroke=\"black\" points=\"102.5,-46.1 99,-36.1 95.5,-46.1 102.5,-46.1\"/>\n",
       "</g>\n",
       "<!-- 7 -->\n",
       "<g id=\"node8\" class=\"node\">\n",
       "<title>7</title>\n",
       "<ellipse fill=\"#136ed4\" stroke=\"black\" cx=\"171\" cy=\"-90\" rx=\"27\" ry=\"18\"/>\n",
       "<text text-anchor=\"middle\" x=\"171\" y=\"-86.3\" font-family=\"Times,serif\" font-size=\"14.00\">sub</text>\n",
       "</g>\n",
       "<!-- 6&#45;&gt;7 -->\n",
       "<g id=\"edge8\" class=\"edge\">\n",
       "<title>6&#45;&gt;7</title>\n",
       "<path fill=\"none\" stroke=\"black\" d=\"M171,-143.7C171,-135.98 171,-126.71 171,-118.11\"/>\n",
       "<polygon fill=\"black\" stroke=\"black\" points=\"174.5,-118.1 171,-108.1 167.5,-118.1 174.5,-118.1\"/>\n",
       "</g>\n",
       "<!-- 10 -->\n",
       "<g id=\"node11\" class=\"node\">\n",
       "<title>10</title>\n",
       "<ellipse fill=\"#60a6f6\" stroke=\"black\" cx=\"243\" cy=\"-90\" rx=\"27\" ry=\"18\"/>\n",
       "<text text-anchor=\"middle\" x=\"243\" y=\"-86.3\" font-family=\"Times,serif\" font-size=\"14.00\">X1</text>\n",
       "</g>\n",
       "<!-- 6&#45;&gt;10 -->\n",
       "<g id=\"edge7\" class=\"edge\">\n",
       "<title>6&#45;&gt;10</title>\n",
       "<path fill=\"none\" stroke=\"black\" d=\"M185.57,-146.83C195.75,-136.94 209.52,-123.55 221.03,-112.36\"/>\n",
       "<polygon fill=\"black\" stroke=\"black\" points=\"223.47,-114.87 228.2,-105.38 218.59,-109.85 223.47,-114.87\"/>\n",
       "</g>\n",
       "<!-- 8 -->\n",
       "<g id=\"node9\" class=\"node\">\n",
       "<title>8</title>\n",
       "<ellipse fill=\"#60a6f6\" stroke=\"black\" cx=\"171\" cy=\"-18\" rx=\"27\" ry=\"18\"/>\n",
       "<text text-anchor=\"middle\" x=\"171\" y=\"-14.3\" font-family=\"Times,serif\" font-size=\"14.00\">X2</text>\n",
       "</g>\n",
       "<!-- 7&#45;&gt;8 -->\n",
       "<g id=\"edge6\" class=\"edge\">\n",
       "<title>7&#45;&gt;8</title>\n",
       "<path fill=\"none\" stroke=\"black\" d=\"M171,-71.7C171,-63.98 171,-54.71 171,-46.11\"/>\n",
       "<polygon fill=\"black\" stroke=\"black\" points=\"174.5,-46.1 171,-36.1 167.5,-46.1 174.5,-46.1\"/>\n",
       "</g>\n",
       "<!-- 9 -->\n",
       "<g id=\"node10\" class=\"node\">\n",
       "<title>9</title>\n",
       "<ellipse fill=\"#60a6f6\" stroke=\"black\" cx=\"243\" cy=\"-18\" rx=\"27\" ry=\"18\"/>\n",
       "<text text-anchor=\"middle\" x=\"243\" y=\"-14.3\" font-family=\"Times,serif\" font-size=\"14.00\">X2</text>\n",
       "</g>\n",
       "<!-- 7&#45;&gt;9 -->\n",
       "<g id=\"edge5\" class=\"edge\">\n",
       "<title>7&#45;&gt;9</title>\n",
       "<path fill=\"none\" stroke=\"black\" d=\"M185.57,-74.83C195.75,-64.94 209.52,-51.55 221.03,-40.36\"/>\n",
       "<polygon fill=\"black\" stroke=\"black\" points=\"223.47,-42.87 228.2,-33.38 218.59,-37.85 223.47,-42.87\"/>\n",
       "</g>\n",
       "</g>\n",
       "</svg>\n"
      ],
      "text/plain": [
       "<graphviz.files.Source at 0x12e707cf8>"
      ]
     },
     "execution_count": 78,
     "metadata": {},
     "output_type": "execute_result"
    }
   ],
   "source": [
    "dot_data = est_gp_index_1._program.export_graphviz()\n",
    "graph = graphviz.Source(dot_data)\n",
    "graph"
   ]
  },
  {
   "cell_type": "code",
   "execution_count": 62,
   "metadata": {},
   "outputs": [
    {
     "name": "stdout",
     "output_type": "stream",
     "text": [
      "    |   Population Average    |             Best Individual              |\n",
      "---- ------------------------- ------------------------------------------ ----------\n",
      " Gen   Length          Fitness   Length          Fitness      OOB Fitness  Time Left\n",
      "   0   219.46      1.98096e+22        3           1.4567          2.13216      1.05m\n",
      "   1     6.81          13.5847        3          1.44919          2.17959     21.56s\n",
      "   2     2.97          1.68237        1          1.43528          2.25173     11.85s\n",
      "   3     2.33          1.64074        3          1.45569          2.13154     10.02s\n",
      "   4     1.87          1.60215        1          1.46063          2.10111      7.37s\n",
      "   5     1.31          1.57416        1          1.42647          2.30158      7.88s\n",
      "   6     1.04          1.54981        1          1.45089          2.16064      4.31s\n",
      "   7     1.01          1.54227        1          1.45992           2.1055      2.86s\n",
      "   8     1.00          1.54242        1           1.4371          2.24137      1.43s\n",
      "   9     1.00          1.53977        1          1.44236          2.21119      0.00s\n"
     ]
    },
    {
     "data": {
      "image/svg+xml": [
       "<?xml version=\"1.0\" encoding=\"UTF-8\" standalone=\"no\"?>\n",
       "<!DOCTYPE svg PUBLIC \"-//W3C//DTD SVG 1.1//EN\"\n",
       " \"http://www.w3.org/Graphics/SVG/1.1/DTD/svg11.dtd\">\n",
       "<!-- Generated by graphviz version 2.44.1 (20200629.0846)\n",
       " -->\n",
       "<!-- Title: program Pages: 1 -->\n",
       "<svg width=\"69pt\" height=\"44pt\"\n",
       " viewBox=\"0.00 0.00 69.09 44.00\" xmlns=\"http://www.w3.org/2000/svg\" xmlns:xlink=\"http://www.w3.org/1999/xlink\">\n",
       "<g id=\"graph0\" class=\"graph\" transform=\"scale(1 1) rotate(0) translate(4 40)\">\n",
       "<title>program</title>\n",
       "<polygon fill=\"white\" stroke=\"transparent\" points=\"-4,4 -4,-40 65.09,-40 65.09,4 -4,4\"/>\n",
       "<!-- 0 -->\n",
       "<g id=\"node1\" class=\"node\">\n",
       "<title>0</title>\n",
       "<ellipse fill=\"#60a6f6\" stroke=\"black\" cx=\"30.55\" cy=\"-18\" rx=\"30.59\" ry=\"18\"/>\n",
       "<text text-anchor=\"middle\" x=\"30.55\" y=\"-14.3\" font-family=\"Times,serif\" font-size=\"14.00\">0.001</text>\n",
       "</g>\n",
       "</g>\n",
       "</svg>\n"
      ],
      "text/plain": [
       "<graphviz.files.Source at 0x131645e48>"
      ]
     },
     "execution_count": 62,
     "metadata": {},
     "output_type": "execute_result"
    }
   ],
   "source": [
    "# Return as input\n",
    "function_set = ['add', 'sub','div','mul']\n",
    "est_gp_index_1 = SymbolicRegressor(population_size=1000,function_set=function_set,init_depth = init_depth,\n",
    "                           generations=10, metric='rmse',stopping_criteria=0.01,\n",
    "                           p_crossover=0.8, p_subtree_mutation=0,\n",
    "                           p_hoist_mutation=0, p_point_mutation=0.1,\n",
    "                           max_samples=0.9, verbose=1,\n",
    "                           parsimony_coefficient=0.01, random_state=1,n_jobs=-1)\n",
    "est_gp_index_1.fit(SP_dataset_x_return, SP_dataset_y_return)\n",
    "dot_data = est_gp_index_1._program.export_graphviz()\n",
    "graph = graphviz.Source(dot_data)\n",
    "graph"
   ]
  },
  {
   "cell_type": "code",
   "execution_count": 63,
   "metadata": {},
   "outputs": [
    {
     "name": "stdout",
     "output_type": "stream",
     "text": [
      "    |   Population Average    |             Best Individual              |\n",
      "---- ------------------------- ------------------------------------------ ----------\n",
      " Gen   Length          Fitness   Length          Fitness      OOB Fitness  Time Left\n",
      "   0   219.46      1.98096e+22        3           1.4567          2.13216      4.66m\n",
      "   1     6.81          13.5847        3          1.44919          2.17959      2.44m\n",
      "   2     2.97          1.68237        1          1.43528          2.25173      1.42m\n",
      "   3     2.33          1.64074        3          1.45569          2.13154      1.16m\n",
      "   4     1.87          1.60215        1          1.46063          2.10111      1.09m\n",
      "   5     1.31          1.57416        1          1.42647          2.30158      1.33m\n",
      "   6     1.04          1.54981        1          1.45089          2.16064      1.51m\n",
      "   7     1.01          1.54227        1          1.45992           2.1055      1.16m\n",
      "   8     1.00          1.54242        1           1.4371          2.24137      1.28m\n",
      "   9     1.00          1.53977        1          1.44236          2.21119     56.65s\n",
      "  10     1.00          1.53812        1           1.4461          2.18945      1.33m\n",
      "  11     1.00          1.54255        1          1.45636          2.12748     53.82s\n",
      "  12     1.00          1.53979        1          1.43541          2.25125     52.41s\n",
      "  13     1.00          1.54039        1          1.43594          2.24801     51.67s\n",
      "  14     1.00          1.53868        1          1.45424          2.14037     52.15s\n",
      "  15     1.00          1.53721        1          1.44044          2.22232      1.26m\n",
      "  16     1.00          1.53814        1          1.44048           2.2221     47.33s\n",
      "  17     1.00          1.54003        1          1.44296          2.20768     52.66s\n",
      "  18     1.00          1.54264        1          1.46101           2.0987      1.06m\n",
      "  19     1.00          1.54083        1          1.42413          2.31448     52.54s\n",
      "  20     1.00          1.54081        1          1.44533          2.19399     57.77s\n",
      "  21     1.00          1.53945        1          1.43909          2.23041      1.16m\n",
      "  22     1.00          1.53964        1          1.42554          2.30698      1.25m\n",
      "  23     1.00          1.53697        1          1.44542           2.1932     48.16s\n",
      "  24     1.00          1.53747        1          1.44882          2.17333     50.43s\n",
      "  25     1.00          1.53783        1          1.44022           2.2236     36.33s\n",
      "  26     1.00          1.53876        1          1.45417          2.14108     38.36s\n",
      "  27     1.00          1.53796        1          1.43758          2.23912     31.27s\n",
      "  28     1.00          1.54153        1          1.46097           2.0993     33.78s\n",
      "  29     1.00          1.53957        1          1.41999          2.33743     44.05s\n",
      "  30     1.00          1.54096        1          1.44191          2.21407     30.50s\n",
      "  31     1.00          1.54132        1          1.41943          2.34047     27.45s\n",
      "  32     1.00          1.54025        1          1.45285           2.1488     30.97s\n",
      "  33     1.00          1.54098        1           1.4459          2.19064     30.53s\n",
      "  34     1.00          1.53994        1          1.43805          2.23639     28.46s\n",
      "  35     1.00          1.54174        1          1.45143          2.15714     26.48s\n",
      "  36     1.00          1.54023        1          1.44681          2.18524     23.52s\n",
      "  37     1.00          1.53767        1          1.42586          2.30468     21.58s\n",
      "  38     1.00          1.54168        1            1.444          2.20128     17.47s\n",
      "  39     1.00          1.53846        1          1.45501            2.136     21.37s\n",
      "  40     1.00          1.53952        1          1.43741          2.24007     18.52s\n",
      "  41     1.00          1.53989        1          1.45657          2.12616     16.94s\n",
      "  42     1.00          1.54161        1          1.43324           2.2639     17.56s\n",
      "  43     1.00          1.53888        1          1.44954          2.16846     12.66s\n",
      "  44     1.00           1.5394        1          1.44488          2.19613     10.12s\n",
      "  45     1.00          1.54298        1          1.45326          2.14634      6.97s\n",
      "  46     1.00          1.54024        1          1.44481          2.19679      4.77s\n",
      "  47     1.00          1.54149        1          1.44815          2.17731      2.83s\n",
      "  48     1.00          1.53842        1          1.45001          2.16591      1.41s\n",
      "  49     1.00          1.53738        1          1.45266          2.15028      0.00s\n"
     ]
    },
    {
     "data": {
      "image/svg+xml": [
       "<?xml version=\"1.0\" encoding=\"UTF-8\" standalone=\"no\"?>\n",
       "<!DOCTYPE svg PUBLIC \"-//W3C//DTD SVG 1.1//EN\"\n",
       " \"http://www.w3.org/Graphics/SVG/1.1/DTD/svg11.dtd\">\n",
       "<!-- Generated by graphviz version 2.44.1 (20200629.0846)\n",
       " -->\n",
       "<!-- Title: program Pages: 1 -->\n",
       "<svg width=\"76pt\" height=\"44pt\"\n",
       " viewBox=\"0.00 0.00 75.59 44.00\" xmlns=\"http://www.w3.org/2000/svg\" xmlns:xlink=\"http://www.w3.org/1999/xlink\">\n",
       "<g id=\"graph0\" class=\"graph\" transform=\"scale(1 1) rotate(0) translate(4 40)\">\n",
       "<title>program</title>\n",
       "<polygon fill=\"white\" stroke=\"transparent\" points=\"-4,4 -4,-40 71.59,-40 71.59,4 -4,4\"/>\n",
       "<!-- 0 -->\n",
       "<g id=\"node1\" class=\"node\">\n",
       "<title>0</title>\n",
       "<ellipse fill=\"#60a6f6\" stroke=\"black\" cx=\"33.8\" cy=\"-18\" rx=\"33.6\" ry=\"18\"/>\n",
       "<text text-anchor=\"middle\" x=\"33.8\" y=\"-14.3\" font-family=\"Times,serif\" font-size=\"14.00\">&#45;0.031</text>\n",
       "</g>\n",
       "</g>\n",
       "</svg>\n"
      ],
      "text/plain": [
       "<graphviz.files.Source at 0x12ede4240>"
      ]
     },
     "execution_count": 63,
     "metadata": {},
     "output_type": "execute_result"
    }
   ],
   "source": [
    "# Return as input\n",
    "function_set = ['add', 'sub','div','mul']\n",
    "est_gp_index_2 = SymbolicRegressor(population_size=1000,function_set=function_set,init_depth = init_depth,\n",
    "                           generations=50, metric='rmse',stopping_criteria=0.01,\n",
    "                           p_crossover=0.8, p_subtree_mutation=0,\n",
    "                           p_hoist_mutation=0, p_point_mutation=0.1,\n",
    "                           max_samples=0.9, verbose=1,\n",
    "                           parsimony_coefficient=0.01, random_state=1,n_jobs=-1)\n",
    "est_gp_index_2.fit(SP_dataset_x_return, SP_dataset_y_return)\n",
    "dot_data = est_gp_index_2._program.export_graphviz()\n",
    "graph = graphviz.Source(dot_data)\n",
    "graph"
   ]
  },
  {
   "cell_type": "code",
   "execution_count": 64,
   "metadata": {},
   "outputs": [
    {
     "name": "stdout",
     "output_type": "stream",
     "text": [
      "    |   Population Average    |             Best Individual              |\n",
      "---- ------------------------- ------------------------------------------ ----------\n",
      " Gen   Length          Fitness   Length          Fitness      OOB Fitness  Time Left\n",
      "   0   103.17      3.12705e+06        8          1.41992          2.33748      1.96m\n",
      "   1     4.64          1.79955        6          1.43579          2.24905      2.46m\n",
      "   2     2.48          1.62911        2          1.44312          2.20667      2.29m\n",
      "   3     2.16          1.60421        3          1.45569          2.13154      1.45m\n",
      "   4     2.07          1.58967        2          1.46062           2.1011      3.02m\n",
      "   5     2.07          1.58248        2          1.42647          2.30153      3.90m\n",
      "   6     2.08          1.57972        2          1.45088          2.16066      2.73m\n",
      "   7     2.07          1.58423        2          1.45992          2.10549      3.27m\n",
      "   8     2.09          1.57887        2          1.43718          2.24113      2.13m\n",
      "   9     2.07          1.57437        3          1.44235          2.21121      2.07m\n",
      "  10     2.10          1.57032        2          1.44544          2.19303      2.17m\n",
      "  11     2.08          1.57455        3          1.45634          2.12753      2.12m\n",
      "  12     2.16           1.5866        3          1.43541          2.25121      2.14m\n",
      "  13     2.15          1.58248        3          1.43593          2.24825      1.88m\n",
      "  14     2.09          1.56854        2          1.45424          2.14038      1.84m\n",
      "  15     2.09          1.58065        2          1.44044          2.22228      1.72m\n",
      "  16     2.14            1.573        2          1.44049          2.22201      1.61m\n",
      "  17     2.08          1.57858        2          1.44029          2.22315      1.67m\n",
      "  18     2.08          1.59032        2          1.46101           2.0987      1.41m\n",
      "  19     2.06          1.57768        2          1.42413          2.31446      1.43m\n",
      "  20     2.14          1.57952        2          1.42869          2.28915      1.54m\n",
      "  21     2.06          1.58545        2          1.43915          2.22977      1.75m\n",
      "  22     2.03          1.58869        2          1.42522          2.30846      1.30m\n",
      "  23     2.04          1.58706        2           1.4486          2.17432      1.23m\n",
      "  24     2.03           1.5868        2          1.44904          2.17168      1.15m\n",
      "  25     2.05           1.5882        2          1.44022          2.22357      1.21m\n",
      "  26     2.04          1.57863        2          1.45433          2.13978      1.09m\n",
      "  27     2.03          1.58488        2          1.43776          2.23777      1.01m\n",
      "  28     2.05          1.57798        2          1.46053          2.10167      1.14m\n",
      "  29     2.09          1.58525        2          1.44868          2.17381      1.23m\n",
      "  30     2.10          1.57913        2          1.44189          2.21387      1.08m\n",
      "  31     2.12          1.57854        2           1.4188          2.34355     55.67s\n",
      "  32     2.08          1.58533        2          1.45069          2.16183     49.67s\n",
      "  33     2.11          1.57877        2           1.4453          2.19388     51.98s\n",
      "  34     2.05          1.58849        2          1.43813          2.23567     45.18s\n",
      "  35     2.03          1.58261        2          1.45148          2.15706     40.40s\n",
      "  36     2.06          1.58937        2          1.44688          2.18455     37.55s\n",
      "  37     2.04          1.57974        2          1.42584            2.305     37.87s\n",
      "  38     2.00          1.59014        2          1.44407          2.20112     31.44s\n",
      "  39     2.05          1.58099        2          1.45444          2.13914     28.19s\n",
      "  40     2.13          1.57099        3          1.43724          2.24077     36.00s\n",
      "  41     2.10          1.57987        3          1.45656          2.12618     28.48s\n",
      "  42     2.07          1.57665        2          1.43326          2.26348     23.91s\n",
      "  43     2.11           1.5728        2          1.44949          2.16902     23.81s\n",
      "  44     2.09          1.58458        2          1.44482          2.19669     15.59s\n",
      "  45     2.15          1.57495        3          1.45326          2.14631     12.22s\n",
      "  46     2.16          1.57757        3          1.44482          2.19672      9.88s\n",
      "  47     2.19          1.58196        2          1.44766           2.1799      5.99s\n",
      "  48     2.11          1.58061        2          1.45597          2.12982      2.98s\n",
      "  49     2.12          1.57723        2          1.46288          2.08702      0.00s\n"
     ]
    },
    {
     "data": {
      "image/svg+xml": [
       "<?xml version=\"1.0\" encoding=\"UTF-8\" standalone=\"no\"?>\n",
       "<!DOCTYPE svg PUBLIC \"-//W3C//DTD SVG 1.1//EN\"\n",
       " \"http://www.w3.org/Graphics/SVG/1.1/DTD/svg11.dtd\">\n",
       "<!-- Generated by graphviz version 2.44.1 (20200629.0846)\n",
       " -->\n",
       "<!-- Title: program Pages: 1 -->\n",
       "<svg width=\"89pt\" height=\"116pt\"\n",
       " viewBox=\"0.00 0.00 88.59 116.00\" xmlns=\"http://www.w3.org/2000/svg\" xmlns:xlink=\"http://www.w3.org/1999/xlink\">\n",
       "<g id=\"graph0\" class=\"graph\" transform=\"scale(1 1) rotate(0) translate(4 112)\">\n",
       "<title>program</title>\n",
       "<polygon fill=\"white\" stroke=\"transparent\" points=\"-4,4 -4,-112 84.59,-112 84.59,4 -4,4\"/>\n",
       "<!-- 0 -->\n",
       "<g id=\"node1\" class=\"node\">\n",
       "<title>0</title>\n",
       "<ellipse fill=\"#136ed4\" stroke=\"black\" cx=\"40.3\" cy=\"-90\" rx=\"40.09\" ry=\"18\"/>\n",
       "<text text-anchor=\"middle\" x=\"40.3\" y=\"-86.3\" font-family=\"Times,serif\" font-size=\"14.00\">log_indi</text>\n",
       "</g>\n",
       "<!-- 1 -->\n",
       "<g id=\"node2\" class=\"node\">\n",
       "<title>1</title>\n",
       "<ellipse fill=\"#60a6f6\" stroke=\"black\" cx=\"40.3\" cy=\"-18\" rx=\"27\" ry=\"18\"/>\n",
       "<text text-anchor=\"middle\" x=\"40.3\" y=\"-14.3\" font-family=\"Times,serif\" font-size=\"14.00\">X0</text>\n",
       "</g>\n",
       "<!-- 0&#45;&gt;1 -->\n",
       "<g id=\"edge1\" class=\"edge\">\n",
       "<title>0&#45;&gt;1</title>\n",
       "<path fill=\"none\" stroke=\"black\" d=\"M40.3,-71.7C40.3,-63.98 40.3,-54.71 40.3,-46.11\"/>\n",
       "<polygon fill=\"black\" stroke=\"black\" points=\"43.8,-46.1 40.3,-36.1 36.8,-46.1 43.8,-46.1\"/>\n",
       "</g>\n",
       "</g>\n",
       "</svg>\n"
      ],
      "text/plain": [
       "<graphviz.files.Source at 0x127f8eb00>"
      ]
     },
     "execution_count": 64,
     "metadata": {},
     "output_type": "execute_result"
    }
   ],
   "source": [
    "# Return as input\n",
    "function_set = ['add', 'sub','div','mul',log_indi]\n",
    "est_gp_index_3 = SymbolicRegressor(population_size=1000,function_set=function_set,init_depth = init_depth,\n",
    "                           generations=50, metric='rmse',stopping_criteria=0.01,\n",
    "                           p_crossover=0.8, p_subtree_mutation=0,\n",
    "                           p_hoist_mutation=0, p_point_mutation=0.1,\n",
    "                           max_samples=0.9, verbose=1,\n",
    "                           parsimony_coefficient=0.01, random_state=1,n_jobs=-1)\n",
    "est_gp_index_3.fit(SP_dataset_x_return, SP_dataset_y_return)\n",
    "dot_data = est_gp_index_3._program.export_graphviz()\n",
    "graph = graphviz.Source(dot_data)\n",
    "graph"
   ]
  },
  {
   "cell_type": "code",
   "execution_count": 65,
   "metadata": {},
   "outputs": [
    {
     "name": "stdout",
     "output_type": "stream",
     "text": [
      "    |   Population Average    |             Best Individual              |\n",
      "---- ------------------------- ------------------------------------------ ----------\n",
      " Gen   Length          Fitness   Length          Fitness      OOB Fitness  Time Left\n",
      "   0   103.17      4.76304e+23        8          141.992          233.748      2.37m\n",
      "   1    31.88           267264        6          143.579          224.905      6.00m\n",
      "   2    22.64            87736        2          143.532          225.174      4.88m\n",
      "   3    12.95          2756.86        3          145.569          213.154      2.42m\n",
      "   4    10.72          1185.23        2          146.062           210.11      2.40m\n",
      "   5    11.07          972.756        7          142.813           229.63      3.56m\n",
      "   6     9.85            58752        7          145.088          216.066      3.17m\n",
      "   7     7.76          27491.1        2          145.992          210.549      3.09m\n",
      "   8     7.86           1124.9        3          143.718          224.113      2.92m\n",
      "   9     6.64          1637.42       42          144.235          221.121      2.62m\n",
      "  10     7.53           635117        6          144.546          219.291      3.36m\n",
      "  11     6.77          519.029        5          145.634          212.753      6.05m\n",
      "  12     6.51          378.633        5          143.541          225.121      6.54m\n",
      "  13     8.63          641.804       45          143.593          224.825      3.53m\n",
      "  14     8.27          625.494       42          144.696          218.407      3.70m\n",
      "  15     8.33          375.853        9          144.044          222.228      2.82m\n",
      "  16     7.38          295.933        7          144.049          222.201      2.89m\n",
      "  17     6.83          165.723        2          144.029          222.315      2.82m\n",
      "  18     6.76          174.371        4          146.101           209.87      4.34m\n",
      "  19     5.58          282.799        4          142.413          231.446      5.54m\n",
      "  20     5.48          267.905        2          142.869          228.915      3.99m\n",
      "  21     4.79          200.867        8          143.915          222.977      2.84m\n",
      "  22     4.74            282.1        2          142.522          230.846      2.15m\n",
      "  23     4.04          334.065        3          144.776           217.93      2.13m\n",
      "  24     4.21          157.372        2          144.904          217.168      2.62m\n",
      "  25     4.02           157.52        5          144.022          222.357      4.52m\n",
      "  26     3.62          287.598        3          145.433          213.978      2.47m\n",
      "  27     4.02          219.076        3          143.776          223.777      1.47m\n",
      "  28     3.77          157.206        2          146.053          210.167      3.21m\n",
      "  29     3.71          156.771        2          141.965          233.894      4.87m\n",
      "  30     4.07          157.261        4          144.189          221.387      1.97m\n",
      "  31     3.88          251.526        3           141.88          234.355      1.49m\n",
      "  32     4.15           157.29        3          144.664          218.596      1.16m\n",
      "  33     4.50          156.611        3           144.53          219.388      1.14m\n",
      "  34     3.92          156.965        3          143.813          223.567      1.18m\n",
      "  35     3.58          225.777        2          145.148          215.706     58.10s\n",
      "  36     3.96          220.856        2          144.688          218.455      1.05m\n",
      "  37     4.31          155.473        3          142.584            230.5      1.88m\n",
      "  38     3.88          155.834        2          144.407          220.112      1.12m\n",
      "  39     4.03          155.346        7          145.711           212.28     55.81s\n",
      "  40     4.37          155.054        3          143.724          224.077     40.15s\n",
      "  41     3.80          156.088        4          145.675          212.589     38.81s\n",
      "  42     3.50          155.376        2          143.326          226.348     35.90s\n",
      "  43     3.59          155.565        3          144.949          216.902     29.19s\n",
      "  44     3.21          155.962        2          144.482          219.669     35.64s\n",
      "  45     3.06          155.824        4          145.326          214.631     26.26s\n",
      "  46     2.96           155.61        3          144.482          219.672     12.31s\n",
      "  47     2.75          156.577        3          144.766           217.99      8.31s\n",
      "  48     2.71          156.847        3          145.597          212.982      4.19s\n",
      "  49     2.80          156.329        2          145.239          215.158      0.00s\n"
     ]
    },
    {
     "data": {
      "image/svg+xml": [
       "<?xml version=\"1.0\" encoding=\"UTF-8\" standalone=\"no\"?>\n",
       "<!DOCTYPE svg PUBLIC \"-//W3C//DTD SVG 1.1//EN\"\n",
       " \"http://www.w3.org/Graphics/SVG/1.1/DTD/svg11.dtd\">\n",
       "<!-- Generated by graphviz version 2.44.1 (20200629.0846)\n",
       " -->\n",
       "<!-- Title: program Pages: 1 -->\n",
       "<svg width=\"89pt\" height=\"116pt\"\n",
       " viewBox=\"0.00 0.00 88.59 116.00\" xmlns=\"http://www.w3.org/2000/svg\" xmlns:xlink=\"http://www.w3.org/1999/xlink\">\n",
       "<g id=\"graph0\" class=\"graph\" transform=\"scale(1 1) rotate(0) translate(4 112)\">\n",
       "<title>program</title>\n",
       "<polygon fill=\"white\" stroke=\"transparent\" points=\"-4,4 -4,-112 84.59,-112 84.59,4 -4,4\"/>\n",
       "<!-- 0 -->\n",
       "<g id=\"node1\" class=\"node\">\n",
       "<title>0</title>\n",
       "<ellipse fill=\"#136ed4\" stroke=\"black\" cx=\"40.3\" cy=\"-90\" rx=\"40.09\" ry=\"18\"/>\n",
       "<text text-anchor=\"middle\" x=\"40.3\" y=\"-86.3\" font-family=\"Times,serif\" font-size=\"14.00\">log_indi</text>\n",
       "</g>\n",
       "<!-- 1 -->\n",
       "<g id=\"node2\" class=\"node\">\n",
       "<title>1</title>\n",
       "<ellipse fill=\"#60a6f6\" stroke=\"black\" cx=\"40.3\" cy=\"-18\" rx=\"27\" ry=\"18\"/>\n",
       "<text text-anchor=\"middle\" x=\"40.3\" y=\"-14.3\" font-family=\"Times,serif\" font-size=\"14.00\">X0</text>\n",
       "</g>\n",
       "<!-- 0&#45;&gt;1 -->\n",
       "<g id=\"edge1\" class=\"edge\">\n",
       "<title>0&#45;&gt;1</title>\n",
       "<path fill=\"none\" stroke=\"black\" d=\"M40.3,-71.7C40.3,-63.98 40.3,-54.71 40.3,-46.11\"/>\n",
       "<polygon fill=\"black\" stroke=\"black\" points=\"43.8,-46.1 40.3,-36.1 36.8,-46.1 43.8,-46.1\"/>\n",
       "</g>\n",
       "</g>\n",
       "</svg>\n"
      ],
      "text/plain": [
       "<graphviz.files.Source at 0x12826def0>"
      ]
     },
     "execution_count": 65,
     "metadata": {},
     "output_type": "execute_result"
    }
   ],
   "source": [
    "# Return*100 as input\n",
    "function_set = ['add', 'sub','div','mul',log_indi]\n",
    "est_gp_index_3 = SymbolicRegressor(population_size=1000,function_set=function_set,init_depth = init_depth,\n",
    "                           generations=50, metric='rmse',stopping_criteria=0.01,\n",
    "                           p_crossover=0.8, p_subtree_mutation=0,\n",
    "                           p_hoist_mutation=0, p_point_mutation=0.1,\n",
    "                           max_samples=0.9, verbose=1,\n",
    "                           parsimony_coefficient=0.01, random_state=1,n_jobs=-1)\n",
    "est_gp_index_3.fit(SP_dataset_x_return*100, SP_dataset_y_return*100)\n",
    "dot_data = est_gp_index_3._program.export_graphviz()\n",
    "graph = graphviz.Source(dot_data)\n",
    "graph"
   ]
  },
  {
   "cell_type": "code",
   "execution_count": 66,
   "metadata": {},
   "outputs": [
    {
     "name": "stdout",
     "output_type": "stream",
     "text": [
      "    |   Population Average    |             Best Individual              |\n",
      "---- ------------------------- ------------------------------------------ ----------\n",
      " Gen   Length          Fitness   Length          Fitness      OOB Fitness  Time Left\n",
      "   0   104.67      3.10155e+06       48          1.38081          2.53852      5.57m\n",
      "   1     4.38          2.52545        4          1.41973           2.3385      3.36m\n",
      "   2     2.41          1.62746        2          1.39694          2.45828      2.17m\n",
      "   3     2.18          1.58041        2           1.4083          2.39959      1.99m\n",
      "   4     2.07          1.57713        2          1.42115           2.3308      1.45m\n",
      "   5     2.02          1.57403        2          1.40045          2.44033      1.34m\n",
      "   6     1.98          1.57331        2          1.41351          2.37202      1.40m\n",
      "   7     1.90          1.56962        2          1.39921          2.44672      1.18m\n",
      "   8     1.81          1.56846        1          1.41544          2.36271     29.29s\n",
      "   9     1.70          1.56529        2          1.41629          2.35714      0.00s\n"
     ]
    },
    {
     "data": {
      "image/svg+xml": [
       "<?xml version=\"1.0\" encoding=\"UTF-8\" standalone=\"no\"?>\n",
       "<!DOCTYPE svg PUBLIC \"-//W3C//DTD SVG 1.1//EN\"\n",
       " \"http://www.w3.org/Graphics/SVG/1.1/DTD/svg11.dtd\">\n",
       "<!-- Generated by graphviz version 2.44.1 (20200629.0846)\n",
       " -->\n",
       "<!-- Title: program Pages: 1 -->\n",
       "<svg width=\"89pt\" height=\"116pt\"\n",
       " viewBox=\"0.00 0.00 88.59 116.00\" xmlns=\"http://www.w3.org/2000/svg\" xmlns:xlink=\"http://www.w3.org/1999/xlink\">\n",
       "<g id=\"graph0\" class=\"graph\" transform=\"scale(1 1) rotate(0) translate(4 112)\">\n",
       "<title>program</title>\n",
       "<polygon fill=\"white\" stroke=\"transparent\" points=\"-4,4 -4,-112 84.59,-112 84.59,4 -4,4\"/>\n",
       "<!-- 0 -->\n",
       "<g id=\"node1\" class=\"node\">\n",
       "<title>0</title>\n",
       "<ellipse fill=\"#136ed4\" stroke=\"black\" cx=\"40.3\" cy=\"-90\" rx=\"40.09\" ry=\"18\"/>\n",
       "<text text-anchor=\"middle\" x=\"40.3\" y=\"-86.3\" font-family=\"Times,serif\" font-size=\"14.00\">log_indi</text>\n",
       "</g>\n",
       "<!-- 1 -->\n",
       "<g id=\"node2\" class=\"node\">\n",
       "<title>1</title>\n",
       "<ellipse fill=\"#60a6f6\" stroke=\"black\" cx=\"40.3\" cy=\"-18\" rx=\"27\" ry=\"18\"/>\n",
       "<text text-anchor=\"middle\" x=\"40.3\" y=\"-14.3\" font-family=\"Times,serif\" font-size=\"14.00\">X1</text>\n",
       "</g>\n",
       "<!-- 0&#45;&gt;1 -->\n",
       "<g id=\"edge1\" class=\"edge\">\n",
       "<title>0&#45;&gt;1</title>\n",
       "<path fill=\"none\" stroke=\"black\" d=\"M40.3,-71.7C40.3,-63.98 40.3,-54.71 40.3,-46.11\"/>\n",
       "<polygon fill=\"black\" stroke=\"black\" points=\"43.8,-46.1 40.3,-36.1 36.8,-46.1 43.8,-46.1\"/>\n",
       "</g>\n",
       "</g>\n",
       "</svg>\n"
      ],
      "text/plain": [
       "<graphviz.files.Source at 0x127ec4940>"
      ]
     },
     "execution_count": 66,
     "metadata": {},
     "output_type": "execute_result"
    }
   ],
   "source": [
    "# Return as input\n",
    "function_set = ['add', 'sub','div','mul',log_indi]\n",
    "est_gp_index_3 = SymbolicRegressor(population_size=10000,function_set=function_set,init_depth = init_depth,\n",
    "                           generations=10, metric='rmse',stopping_criteria=0.01,\n",
    "                           p_crossover=0.8, p_subtree_mutation=0,\n",
    "                           p_hoist_mutation=0, p_point_mutation=0.1,\n",
    "                           max_samples=0.9, verbose=1,\n",
    "                           parsimony_coefficient=0.01, random_state=1,n_jobs=-1)\n",
    "est_gp_index_3.fit(SP_dataset_x_return, SP_dataset_y_return)\n",
    "dot_data = est_gp_index_3._program.export_graphviz()\n",
    "graph = graphviz.Source(dot_data)\n",
    "graph"
   ]
  },
  {
   "cell_type": "code",
   "execution_count": null,
   "metadata": {},
   "outputs": [],
   "source": []
  },
  {
   "cell_type": "code",
   "execution_count": null,
   "metadata": {},
   "outputs": [],
   "source": []
  },
  {
   "cell_type": "code",
   "execution_count": null,
   "metadata": {},
   "outputs": [],
   "source": []
  },
  {
   "cell_type": "code",
   "execution_count": 48,
   "metadata": {},
   "outputs": [
    {
     "name": "stdout",
     "output_type": "stream",
     "text": [
      "div(-0.295, add(X0, sub(X0, X0)))\n",
      "1562\n",
      "[ 1.         -0.00191223 -0.04176723 ...  0.04668894  1.\n",
      " -0.07936086]\n",
      "1562\n",
      "[  0.7855151    8.63659615  10.98125454 ...  -6.32852511   1.11708961\n",
      " -36.18259352]\n",
      "1562\n"
     ]
    },
    {
     "ename": "ValueError",
     "evalue": "Number of features of the model must match the input. Model n_features is 3 and input n_features is 1.",
     "output_type": "error",
     "traceback": [
      "\u001b[0;31m---------------------------------------------------------------------------\u001b[0m",
      "\u001b[0;31mValueError\u001b[0m                                Traceback (most recent call last)",
      "\u001b[0;32m<ipython-input-48-d89b42d48278>\u001b[0m in \u001b[0;36m<module>\u001b[0;34m\u001b[0m\n\u001b[1;32m      6\u001b[0m \u001b[0mprint\u001b[0m\u001b[0;34m(\u001b[0m\u001b[0mSP_dataset_y_OoS_new\u001b[0m\u001b[0;34m)\u001b[0m\u001b[0;34m\u001b[0m\u001b[0;34m\u001b[0m\u001b[0m\n\u001b[1;32m      7\u001b[0m \u001b[0mprint\u001b[0m\u001b[0;34m(\u001b[0m\u001b[0mlen\u001b[0m\u001b[0;34m(\u001b[0m\u001b[0mSP_dataset_y_OoS_new\u001b[0m\u001b[0;34m)\u001b[0m\u001b[0;34m)\u001b[0m\u001b[0;34m\u001b[0m\u001b[0;34m\u001b[0m\u001b[0m\n\u001b[0;32m----> 8\u001b[0;31m \u001b[0mest_gp_index_1\u001b[0m\u001b[0;34m.\u001b[0m\u001b[0mscore\u001b[0m\u001b[0;34m(\u001b[0m\u001b[0mprediction\u001b[0m\u001b[0;34m.\u001b[0m\u001b[0mreshape\u001b[0m\u001b[0;34m(\u001b[0m\u001b[0;34m-\u001b[0m\u001b[0;36m1\u001b[0m\u001b[0;34m,\u001b[0m \u001b[0;36m1\u001b[0m\u001b[0;34m)\u001b[0m\u001b[0;34m,\u001b[0m\u001b[0mSP_dataset_y_OoS_new\u001b[0m\u001b[0;34m.\u001b[0m\u001b[0mreshape\u001b[0m\u001b[0;34m(\u001b[0m\u001b[0;34m-\u001b[0m\u001b[0;36m1\u001b[0m\u001b[0;34m,\u001b[0m \u001b[0;36m1\u001b[0m\u001b[0;34m)\u001b[0m\u001b[0;34m)\u001b[0m\u001b[0;34m\u001b[0m\u001b[0;34m\u001b[0m\u001b[0m\n\u001b[0m",
      "\u001b[0;32m~/.pyenv/versions/3.7.1/envs/myenv/lib/python3.7/site-packages/sklearn/base.py\u001b[0m in \u001b[0;36mscore\u001b[0;34m(self, X, y, sample_weight)\u001b[0m\n\u001b[1;32m    549\u001b[0m \u001b[0;34m\u001b[0m\u001b[0m\n\u001b[1;32m    550\u001b[0m         \u001b[0;32mfrom\u001b[0m \u001b[0;34m.\u001b[0m\u001b[0mmetrics\u001b[0m \u001b[0;32mimport\u001b[0m \u001b[0mr2_score\u001b[0m\u001b[0;34m\u001b[0m\u001b[0;34m\u001b[0m\u001b[0m\n\u001b[0;32m--> 551\u001b[0;31m         \u001b[0my_pred\u001b[0m \u001b[0;34m=\u001b[0m \u001b[0mself\u001b[0m\u001b[0;34m.\u001b[0m\u001b[0mpredict\u001b[0m\u001b[0;34m(\u001b[0m\u001b[0mX\u001b[0m\u001b[0;34m)\u001b[0m\u001b[0;34m\u001b[0m\u001b[0;34m\u001b[0m\u001b[0m\n\u001b[0m\u001b[1;32m    552\u001b[0m         \u001b[0;32mreturn\u001b[0m \u001b[0mr2_score\u001b[0m\u001b[0;34m(\u001b[0m\u001b[0my\u001b[0m\u001b[0;34m,\u001b[0m \u001b[0my_pred\u001b[0m\u001b[0;34m,\u001b[0m \u001b[0msample_weight\u001b[0m\u001b[0;34m=\u001b[0m\u001b[0msample_weight\u001b[0m\u001b[0;34m)\u001b[0m\u001b[0;34m\u001b[0m\u001b[0;34m\u001b[0m\u001b[0m\n\u001b[1;32m    553\u001b[0m \u001b[0;34m\u001b[0m\u001b[0m\n",
      "\u001b[0;32m~/.pyenv/versions/3.7.1/envs/myenv/lib/python3.7/site-packages/gplearn/genetic.py\u001b[0m in \u001b[0;36mpredict\u001b[0;34m(self, X)\u001b[0m\n\u001b[1;32m    850\u001b[0m                              \u001b[0;34m'input. Model n_features is %s and input '\u001b[0m\u001b[0;34m\u001b[0m\u001b[0;34m\u001b[0m\u001b[0m\n\u001b[1;32m    851\u001b[0m                              \u001b[0;34m'n_features is %s.'\u001b[0m\u001b[0;34m\u001b[0m\u001b[0;34m\u001b[0m\u001b[0m\n\u001b[0;32m--> 852\u001b[0;31m                              % (self.n_features_, n_features))\n\u001b[0m\u001b[1;32m    853\u001b[0m \u001b[0;34m\u001b[0m\u001b[0m\n\u001b[1;32m    854\u001b[0m         \u001b[0my\u001b[0m \u001b[0;34m=\u001b[0m \u001b[0mself\u001b[0m\u001b[0;34m.\u001b[0m\u001b[0m_program\u001b[0m\u001b[0;34m.\u001b[0m\u001b[0mexecute\u001b[0m\u001b[0;34m(\u001b[0m\u001b[0mX\u001b[0m\u001b[0;34m)\u001b[0m\u001b[0;34m\u001b[0m\u001b[0;34m\u001b[0m\u001b[0m\n",
      "\u001b[0;31mValueError\u001b[0m: Number of features of the model must match the input. Model n_features is 3 and input n_features is 1."
     ]
    }
   ],
   "source": [
    "print(est_gp_index_1._program)\n",
    "prediction = est_gp_index_1.predict(SP_dataset_x_OoS_new)\n",
    "print(prediction)\n",
    "print(SP_dataset_y_OoS_new)\n",
    "est_gp_index_1.score(prediction.reshape(-1, 1),SP_dataset_y_OoS_new.reshape(-1, 1))"
   ]
  },
  {
   "cell_type": "code",
   "execution_count": null,
   "metadata": {},
   "outputs": [],
   "source": []
  },
  {
   "cell_type": "code",
   "execution_count": 49,
   "metadata": {},
   "outputs": [
    {
     "data": {
      "text/plain": [
       "array([[ 1.        ],\n",
       "       [-0.00191223],\n",
       "       [-0.04176723],\n",
       "       ...,\n",
       "       [ 0.04668894],\n",
       "       [ 1.        ],\n",
       "       [-0.07936086]])"
      ]
     },
     "execution_count": 49,
     "metadata": {},
     "output_type": "execute_result"
    }
   ],
   "source": [
    "prediction.reshape(-1, 1)"
   ]
  },
  {
   "cell_type": "code",
   "execution_count": 50,
   "metadata": {},
   "outputs": [
    {
     "data": {
      "text/plain": [
       "array([[  0.7855151 ],\n",
       "       [  8.63659615],\n",
       "       [ 10.98125454],\n",
       "       ...,\n",
       "       [ -6.32852511],\n",
       "       [  1.11708961],\n",
       "       [-36.18259352]])"
      ]
     },
     "execution_count": 50,
     "metadata": {},
     "output_type": "execute_result"
    }
   ],
   "source": [
    "SP_dataset_y_OoS_new.reshape(-1, 1)"
   ]
  },
  {
   "cell_type": "code",
   "execution_count": 56,
   "metadata": {},
   "outputs": [
    {
     "data": {
      "text/plain": [
       "0.47695262483994877"
      ]
     },
     "execution_count": 56,
     "metadata": {},
     "output_type": "execute_result"
    }
   ],
   "source": [
    "sum(prediction*SP_dataset_y_OoS_new > 0)/len(prediction)"
   ]
  },
  {
   "cell_type": "code",
   "execution_count": null,
   "metadata": {},
   "outputs": [],
   "source": []
  },
  {
   "cell_type": "code",
   "execution_count": 58,
   "metadata": {},
   "outputs": [
    {
     "name": "stdout",
     "output_type": "stream",
     "text": [
      "    |   Population Average    |             Best Individual              |\n",
      "---- ------------------------- ------------------------------------------ ----------\n",
      " Gen   Length          Fitness   Length          Fitness      OOB Fitness  Time Left\n",
      "   0   241.93      2.49982e+76     2047          147.109          202.125     11.46m\n",
      "   1    36.28      5.44003e+22       13          142.531          229.617      4.54m\n",
      "   2    18.63      7.84824e+19        3          146.654          205.096      2.92m\n",
      "   3    16.67      1.15066e+16       17          143.877          221.968      2.83m\n",
      "   4    17.16      3.51906e+18       15          144.397          218.918      2.63m\n",
      "   5    14.83      2.91252e+15       29          143.777          223.117      2.91m\n",
      "   6    14.74       1.4833e+18        3          144.539          218.088      2.71m\n",
      "   7    15.31      1.51479e+10       59          143.997          221.264      2.84m\n",
      "   8    16.35      1.09385e+14       25          141.933          232.899      2.64m\n",
      "   9    17.18      1.32003e+19        3          144.333          219.297      2.89m\n",
      "  10    16.46      2.22434e+23        3          144.297          219.518      2.62m\n",
      "  11    16.32      1.18841e+27        3          141.236          236.664      2.89m\n",
      "  12    17.65      4.30802e+13        3          145.862          210.058      3.21m\n",
      "  13    18.96      1.96887e+14       53          145.132          215.499      2.90m\n",
      "  14    17.92      1.40385e+07       53           143.78           222.53      2.84m\n",
      "  15    22.86           178420       31          145.766          210.712      3.31m\n",
      "  16    25.43      2.45646e+08       19          143.166          226.068      2.85m\n",
      "  17    21.00      1.21293e+08        3          143.931          221.657      3.02m\n",
      "  18    21.24      8.28212e+07        3          144.853          216.214      2.67m\n",
      "  19    19.67      8.08603e+07       13           143.46          224.357      2.88m\n",
      "  20    20.77      5.97862e+07       41           142.45          230.104      2.59m\n",
      "  21    19.67      1.15581e+12        9          143.713          222.922      4.13m\n",
      "  22    21.16      6.70474e+09        7          143.357           224.96      6.66m\n",
      "  23    24.26      2.71024e+10       73          144.594          217.788      4.62m\n",
      "  24    20.80      6.64547e+09        9          143.438           224.49      3.49m\n",
      "  25    23.79      9.51053e+07        3          141.492          235.291      2.84m\n",
      "  26    21.81      1.12018e+08       81          141.987          232.658      2.65m\n",
      "  27    19.40      3.08503e+10       45          141.434          235.655      2.57m\n",
      "  28    18.29      2.30011e+13       35           144.42          218.795      2.36m\n",
      "  29    17.52      6.06768e+10        9          144.937          215.709      2.67m\n",
      "  30    16.19      1.88674e+08        3          145.726          210.902      2.19m\n",
      "  31    17.41      3.54871e+15       23          142.865          227.753      2.38m\n",
      "  32    19.10       1.8402e+10        3          144.176          220.226      2.17m\n",
      "  33    20.82      2.09406e+11       47          145.732          210.861      2.52m\n",
      "  34    19.58           610985       19          141.176          237.017      2.32m\n",
      "  35    18.28       9.4621e+10       17          143.878          221.967      2.06m\n",
      "  36    18.01      2.99969e+10        9          141.952          232.786      2.34m\n",
      "  37    17.85      9.22266e+13       15          143.242          225.614      1.97m\n",
      "  38    15.45      4.40041e+07       27          142.072          232.133      2.15m\n",
      "  39    13.63      4.12505e+10        3          143.093           226.46      1.81m\n",
      "  40    12.40      3.08358e+10       23          142.567          224.051      2.30m\n",
      "  41    12.66      1.64108e+10        3          144.021          221.133      2.35m\n",
      "  42    13.71      4.10916e+07        7           143.23          225.686      2.68m\n",
      "  43    14.68       3.2502e+13        7          143.834          222.211      2.36m\n",
      "  44    12.10      6.06983e+13       13          142.953          227.251      1.83m\n",
      "  45    11.77      2.91001e+10        3           144.13          220.497      1.59m\n",
      "  46    10.38      2.16882e+10       17          144.121          220.548      1.71m\n",
      "  47     9.30      2.58093e+10        3          142.824          227.978      1.92m\n",
      "  48     9.39      4.21661e+13        3          144.539          218.087      1.55m\n",
      "  49     9.43      7.72955e+07        3          144.344          219.243      1.35m\n",
      "  50     9.41      1.93264e+08        9          143.507          224.095      1.46m\n",
      "  51     9.33      3.56233e+10        3          143.437          225.853      1.32m\n",
      "  52     9.16      2.24186e+10        7          143.951           221.54      1.29m\n",
      "  53     9.83      4.46905e+12       13           145.77          210.627      1.55m\n",
      "  54    11.05      4.41763e+18       11           143.82          222.301      1.33m\n",
      "  55    11.44       6.4545e+12        9          144.214          220.008      1.63m\n",
      "  56    11.68      5.38775e+08        9          142.134          231.801      1.30m\n",
      "  57    13.13      1.25448e+19       19          142.457          230.018      1.42m\n",
      "  58    11.43       3.8261e+10       13          142.817          228.015      1.37m\n",
      "  59    10.95      1.00971e+13        3          145.386          212.962      1.56m\n",
      "  60    10.33      1.10309e+13       17          144.809          216.476      1.12m\n",
      "  61     9.36      4.88224e+12        5          145.684           211.16      1.18m\n",
      "  62     8.82      5.84221e+10        3          145.005          215.302      1.03m\n",
      "  63     8.40      9.20122e+09        9          143.144          226.172      1.21m\n",
      "  64     8.21      1.77224e+08       17          144.911          215.867      1.06m\n",
      "  65     9.47      6.70272e+09        7          143.962          221.479     56.52s\n",
      "  66     9.70      1.39756e+11        7           143.94          221.604      1.14m\n",
      "  67     9.39      1.23824e+08       23          144.305          219.457     56.13s\n",
      "  68    10.19      4.50417e+12       23          143.233           225.67     53.39s\n",
      "  69     9.73      2.47994e+07       19          145.177          214.261     55.45s\n",
      "  70    11.86      3.43133e+13       29          144.009          221.203     57.60s\n",
      "  71    12.94           837418       21          143.866          222.035     58.65s\n",
      "  72    13.81      4.72487e+15        7          144.382          219.013     50.17s\n",
      "  73    13.25         2.68e+21       15          140.496           240.57     51.88s\n",
      "  74    13.42      8.97335e+12        3           144.49          218.379     51.30s\n",
      "  75    10.66      6.46499e+07       11          143.237          225.646     47.50s\n",
      "  76     8.56      1.79349e+13        7          145.976           209.33     42.30s\n",
      "  77     8.07          36164.1       15          142.459           230.01     44.47s\n",
      "  78     7.34           443580       17          141.179          236.965     37.10s\n",
      "  79     8.38      2.59222e+07       23          143.633          223.362     31.79s\n",
      "  80     8.83           248026        3          143.034          226.796     34.53s\n",
      "  81     9.00      1.48284e+07        3          141.916          232.996     46.03s\n",
      "  82     8.42            92503       45          141.339          236.115     49.17s\n",
      "  83    10.24          88166.5        3          143.558          223.786     45.41s\n",
      "  84     9.70      1.23717e+08        5          144.956          215.598     39.29s\n",
      "  85    10.22      1.29124e+11        5          141.016          237.863     32.46s\n",
      "  86     9.83      7.25016e+06        3          142.949          227.271     22.16s\n",
      "  87    10.81       1.4795e+11        3          144.618          217.618     19.67s\n",
      "  88    10.68      2.65494e+08       11          143.902          221.827     24.08s\n",
      "  89    11.10      1.00976e+08       17          144.128          220.509     16.88s\n",
      "  90    12.90      1.04914e+08       23           143.87          222.011     15.65s\n",
      "  91    14.00      1.48587e+07       25          142.647          228.964     15.73s\n",
      "  92    13.23      1.05754e+08       37          143.726          222.875     13.30s\n",
      "  93    13.21          92320.2       21          145.062           214.96     12.69s\n",
      "  94    12.39      1.23869e+08        3          143.654           223.23      8.89s\n",
      "  95    12.69      2.19246e+11        3          140.345          241.359      7.98s\n",
      "  96    12.85      3.28363e+16       21          146.446          206.417      5.35s\n",
      "  97    13.52      1.18032e+08        3          144.687          217.209      3.52s\n",
      "  98    13.63      4.20716e+08        7          144.877          216.035      2.24s\n",
      "  99    13.79      9.34868e+10       21          144.567          217.919      0.00s\n"
     ]
    },
    {
     "data": {
      "text/plain": [
       "SymbolicRegressor(function_set=['add', 'sub', 'div', 'mul'], generations=100,\n",
       "                  init_depth=(1, 10), max_samples=0.9, metric='rmse', n_jobs=-1,\n",
       "                  p_crossover=0.8, p_hoist_mutation=0, p_point_mutation=0.1,\n",
       "                  p_subtree_mutation=0, parsimony_coefficient=0.01,\n",
       "                  random_state=2, stopping_criteria=0.01, verbose=1)"
      ]
     },
     "execution_count": 58,
     "metadata": {},
     "output_type": "execute_result"
    }
   ],
   "source": [
    "# Log Return *10000 as input\n",
    "function_set = ['add', 'sub','div','mul']\n",
    "est_gp_index_2 = SymbolicRegressor(population_size=1000,function_set=function_set,init_depth = init_depth,\n",
    "                           generations=100, metric='rmse',stopping_criteria=0.01,\n",
    "                           p_crossover=0.8, p_subtree_mutation=0,\n",
    "                           p_hoist_mutation=0, p_point_mutation=0.1,\n",
    "                           max_samples=0.9, verbose=1,\n",
    "                           parsimony_coefficient=0.01, random_state=2,n_jobs=-1)\n",
    "est_gp_index_2.fit(SP_dataset_x_new, SP_dataset_y_new)"
   ]
  },
  {
   "cell_type": "code",
   "execution_count": 59,
   "metadata": {},
   "outputs": [
    {
     "name": "stdout",
     "output_type": "stream",
     "text": [
      "mul(mul(mul(X1, sub(X0, X0)), mul(div(0.589, X1), mul(mul(sub(X1, X1), X1), X1))), div(X1, X1))\n",
      "[0. 0. 0. ... 0. 0. 0.]\n",
      "[  0.7855151    8.63659615  10.98125454 ...  -6.32852511   1.11708961\n",
      " -36.18259352]\n"
     ]
    },
    {
     "data": {
      "text/plain": [
       "0.0"
      ]
     },
     "execution_count": 59,
     "metadata": {},
     "output_type": "execute_result"
    }
   ],
   "source": [
    "print(est_gp_index_2._program)\n",
    "prediction = est_gp_index_2.predict(SP_dataset_x_OoS_new)\n",
    "print(prediction)\n",
    "print(SP_dataset_y_OoS_new)\n",
    "sum(prediction*SP_dataset_y_OoS_new > 0)/len(prediction)"
   ]
  },
  {
   "cell_type": "code",
   "execution_count": 25,
   "metadata": {},
   "outputs": [
    {
     "name": "stdout",
     "output_type": "stream",
     "text": [
      "    |   Population Average    |             Best Individual              |\n",
      "---- ------------------------- ------------------------------------------ ----------\n",
      " Gen   Length          Fitness   Length          Fitness      OOB Fitness  Time Left\n",
      "   0    84.64      2.34235e+48       20          142.134          231.801      2.62m\n",
      "   1    32.86      2.48818e+13       38          139.929          243.511      2.67m\n",
      "   2    22.48      3.71497e+15       86          142.744          228.424      2.28m\n",
      "   3    20.19      8.52491e+09       28           141.67          234.328      1.78m\n",
      "   4    18.59      2.72912e+14       53          141.146          237.141      1.56m\n",
      "   5    16.93      1.00611e+13        7          141.343          236.222      1.69m\n",
      "   6    16.08      1.27725e+13       14           142.95          227.266      1.89m\n",
      "   7    15.37      8.62141e+09       34          141.814          233.547      1.66m\n",
      "   8    14.73      1.16212e+10       26           140.58          240.131     56.89s\n",
      "   9    14.01      1.54432e+09       10          141.972          232.688      0.00s\n"
     ]
    },
    {
     "data": {
      "text/plain": [
       "SymbolicRegressor(function_set=['add', 'sub', 'mul',\n",
       "                                <gplearn.functions._Function object at 0x133112400>],\n",
       "                  generations=10, init_depth=(1, 10), max_samples=0.9,\n",
       "                  metric='rmse', n_jobs=-1, p_crossover=0.8, p_hoist_mutation=0,\n",
       "                  p_point_mutation=0.1, p_subtree_mutation=0,\n",
       "                  parsimony_coefficient=0.01, population_size=10000,\n",
       "                  random_state=3, stopping_criteria=0.01, verbose=1)"
      ]
     },
     "execution_count": 25,
     "metadata": {},
     "output_type": "execute_result"
    }
   ],
   "source": [
    "# Log Return *10000 as input\n",
    "\n",
    "est_gp_index_3 = SymbolicRegressor(population_size=10000,function_set=function_set,init_depth = init_depth,\n",
    "                           generations=10, metric='rmse',stopping_criteria=0.01,\n",
    "                           p_crossover=0.8, p_subtree_mutation=0,\n",
    "                           p_hoist_mutation=0, p_point_mutation=0.1,\n",
    "                           max_samples=0.9, verbose=1,\n",
    "                           parsimony_coefficient=0.01, random_state=3,n_jobs=-1)\n",
    "est_gp_index_3.fit(SP_dataset_x_new, SP_dataset_y_new)"
   ]
  },
  {
   "cell_type": "code",
   "execution_count": 26,
   "metadata": {},
   "outputs": [
    {
     "name": "stdout",
     "output_type": "stream",
     "text": [
      "    |   Population Average    |             Best Individual              |\n",
      "---- ------------------------- ------------------------------------------ ----------\n",
      " Gen   Length          Fitness   Length          Fitness      OOB Fitness  Time Left\n",
      "   0    82.92      2.99708e+38       79          139.393           246.25      3.14m\n",
      "   1    33.80      2.51727e+15       12          139.625          245.069      2.87m\n",
      "   2    23.44      2.69124e+14       48          140.448          240.826      2.27m\n",
      "   3    21.97      6.97653e+13        6          140.713          239.436      3.10m\n",
      "   4    19.72      2.99235e+12       10          140.772          239.122      1.66m\n",
      "   5    18.53      3.34865e+09       86           141.44           235.57      1.70m\n",
      "   6    17.01      1.61115e+09       10          141.518          235.149      1.77m\n",
      "   7    15.62      1.98768e+09        7          142.649          228.955      1.69m\n",
      "   8    15.92      2.34951e+07       12          139.784          244.257      1.01m\n",
      "   9    14.61      2.89535e+07       43          141.775          233.762      0.00s\n"
     ]
    },
    {
     "data": {
      "text/plain": [
       "SymbolicRegressor(function_set=['add', 'sub', 'mul',\n",
       "                                <gplearn.functions._Function object at 0x133112400>],\n",
       "                  generations=10, init_depth=(1, 10), max_samples=0.9,\n",
       "                  metric='rmse', n_jobs=-1, p_crossover=0.8, p_hoist_mutation=0,\n",
       "                  p_point_mutation=0.1, p_subtree_mutation=0,\n",
       "                  parsimony_coefficient=0.01, population_size=10000,\n",
       "                  random_state=4, stopping_criteria=0.01, verbose=1)"
      ]
     },
     "execution_count": 26,
     "metadata": {},
     "output_type": "execute_result"
    }
   ],
   "source": [
    "# Log Return *10000 as input\n",
    "est_gp_index_4 = SymbolicRegressor(population_size=10000,function_set=function_set,init_depth = init_depth,\n",
    "                           generations=10, metric='rmse',stopping_criteria=0.01,\n",
    "                           p_crossover=0.8, p_subtree_mutation=0,\n",
    "                           p_hoist_mutation=0, p_point_mutation=0.1,\n",
    "                           max_samples=0.9, verbose=1,\n",
    "                           parsimony_coefficient=0.01, random_state=4,n_jobs=-1)\n",
    "est_gp_index_4.fit(SP_dataset_x_new, SP_dataset_y_new)"
   ]
  },
  {
   "cell_type": "code",
   "execution_count": 45,
   "metadata": {},
   "outputs": [
    {
     "name": "stdout",
     "output_type": "stream",
     "text": [
      "    |   Population Average    |             Best Individual              |\n",
      "---- ------------------------- ------------------------------------------ ----------\n",
      " Gen   Length          Fitness   Length          Fitness      OOB Fitness  Time Left\n",
      "   0    85.99       8.9772e+43        9          136.114          262.151      0.00s\n"
     ]
    },
    {
     "data": {
      "text/plain": [
       "SymbolicRegressor(function_set=['add', 'sub', 'mul',\n",
       "                                <gplearn.functions._Function object at 0x133112400>],\n",
       "                  generations=1, init_depth=(1, 10), max_samples=0.9,\n",
       "                  metric='rmse', n_jobs=-1, p_crossover=0.8, p_hoist_mutation=0,\n",
       "                  p_point_mutation=0.1, p_subtree_mutation=0,\n",
       "                  parsimony_coefficient=0.01, population_size=10000,\n",
       "                  random_state=2, stopping_criteria=0.01, verbose=1)"
      ]
     },
     "execution_count": 45,
     "metadata": {},
     "output_type": "execute_result"
    }
   ],
   "source": [
    "# Log Return *10000 as input\n",
    "est_gp_index_5 = SymbolicRegressor(population_size=10000,function_set=function_set,init_depth = init_depth,\n",
    "                           generations=1, metric='rmse',stopping_criteria=0.01,\n",
    "                           p_crossover=0.8, p_subtree_mutation=0,\n",
    "                           p_hoist_mutation=0, p_point_mutation=0.1,\n",
    "                           max_samples=0.9, verbose=1,\n",
    "                           parsimony_coefficient=0.01, random_state=2,n_jobs=-1)\n",
    "est_gp_index_5.fit(SP_dataset_x_new, SP_dataset_y_new)"
   ]
  },
  {
   "cell_type": "code",
   "execution_count": 49,
   "metadata": {},
   "outputs": [
    {
     "name": "stdout",
     "output_type": "stream",
     "text": [
      "    |   Population Average    |             Best Individual              |\n",
      "---- ------------------------- ------------------------------------------ ----------\n",
      " Gen   Length          Fitness   Length          Fitness      OOB Fitness  Time Left\n",
      "   0   226.19              nan     2047              nan              nan      5.77m\n",
      "   1   165.57              nan     2043              nan              nan      4.16m\n",
      "   2  1540.88              nan     2043              nan              nan     15.76m\n"
     ]
    },
    {
     "name": "stderr",
     "output_type": "stream",
     "text": [
      "ERROR:root:Internal Python error in the inspect module.\n",
      "Below is the traceback from this internal error.\n",
      "\n"
     ]
    },
    {
     "name": "stdout",
     "output_type": "stream",
     "text": [
      "Traceback (most recent call last):\n",
      "  File \"/Users/seungjuseo/.pyenv/versions/3.7.1/envs/myenv/lib/python3.7/site-packages/IPython/core/interactiveshell.py\", line 3331, in run_code\n",
      "    exec(code_obj, self.user_global_ns, self.user_ns)\n",
      "  File \"<ipython-input-49-1126ec59261c>\", line 9, in <module>\n",
      "    est_gp_index_6.fit(SP_dataset_x_new, SP_dataset_y_new)\n",
      "  File \"/Users/seungjuseo/.pyenv/versions/3.7.1/envs/myenv/lib/python3.7/site-packages/gplearn/genetic.py\", line 471, in fit\n",
      "    for i in range(n_jobs))\n",
      "  File \"/Users/seungjuseo/.pyenv/versions/3.7.1/envs/myenv/lib/python3.7/site-packages/joblib/parallel.py\", line 1017, in __call__\n",
      "    self.retrieve()\n",
      "  File \"/Users/seungjuseo/.pyenv/versions/3.7.1/envs/myenv/lib/python3.7/site-packages/joblib/parallel.py\", line 909, in retrieve\n",
      "    self._output.extend(job.get(timeout=self.timeout))\n",
      "  File \"/Users/seungjuseo/.pyenv/versions/3.7.1/envs/myenv/lib/python3.7/site-packages/joblib/_parallel_backends.py\", line 562, in wrap_future_result\n",
      "    return future.result(timeout=timeout)\n",
      "  File \"/Users/seungjuseo/.pyenv/versions/3.7.1/lib/python3.7/concurrent/futures/_base.py\", line 427, in result\n",
      "    self._condition.wait(timeout)\n",
      "  File \"/Users/seungjuseo/.pyenv/versions/3.7.1/lib/python3.7/threading.py\", line 296, in wait\n",
      "    waiter.acquire()\n",
      "KeyboardInterrupt\n",
      "\n",
      "During handling of the above exception, another exception occurred:\n",
      "\n",
      "Traceback (most recent call last):\n",
      "  File \"/Users/seungjuseo/.pyenv/versions/3.7.1/envs/myenv/lib/python3.7/site-packages/IPython/core/interactiveshell.py\", line 2044, in showtraceback\n",
      "    stb = value._render_traceback_()\n",
      "AttributeError: 'KeyboardInterrupt' object has no attribute '_render_traceback_'\n",
      "\n",
      "During handling of the above exception, another exception occurred:\n",
      "\n",
      "Traceback (most recent call last):\n",
      "  File \"/Users/seungjuseo/.pyenv/versions/3.7.1/envs/myenv/lib/python3.7/site-packages/IPython/core/ultratb.py\", line 1151, in get_records\n",
      "    return _fixed_getinnerframes(etb, number_of_lines_of_context, tb_offset)\n",
      "  File \"/Users/seungjuseo/.pyenv/versions/3.7.1/envs/myenv/lib/python3.7/site-packages/IPython/core/ultratb.py\", line 319, in wrapped\n",
      "    return f(*args, **kwargs)\n",
      "  File \"/Users/seungjuseo/.pyenv/versions/3.7.1/envs/myenv/lib/python3.7/site-packages/IPython/core/ultratb.py\", line 353, in _fixed_getinnerframes\n",
      "    records = fix_frame_records_filenames(inspect.getinnerframes(etb, context))\n",
      "  File \"/Users/seungjuseo/.pyenv/versions/3.7.1/lib/python3.7/inspect.py\", line 1500, in getinnerframes\n",
      "    frameinfo = (tb.tb_frame,) + getframeinfo(tb, context)\n",
      "  File \"/Users/seungjuseo/.pyenv/versions/3.7.1/lib/python3.7/inspect.py\", line 1458, in getframeinfo\n",
      "    filename = getsourcefile(frame) or getfile(frame)\n",
      "  File \"/Users/seungjuseo/.pyenv/versions/3.7.1/lib/python3.7/inspect.py\", line 696, in getsourcefile\n",
      "    if getattr(getmodule(object, filename), '__loader__', None) is not None:\n",
      "  File \"/Users/seungjuseo/.pyenv/versions/3.7.1/lib/python3.7/inspect.py\", line 742, in getmodule\n",
      "    os.path.realpath(f)] = module.__name__\n",
      "  File \"/Users/seungjuseo/.pyenv/versions/3.7.1/lib/python3.7/posixpath.py\", line 388, in realpath\n",
      "    path, ok = _joinrealpath(filename[:0], filename, {})\n",
      "  File \"/Users/seungjuseo/.pyenv/versions/3.7.1/lib/python3.7/posixpath.py\", line 422, in _joinrealpath\n",
      "    if not islink(newpath):\n",
      "  File \"/Users/seungjuseo/.pyenv/versions/3.7.1/lib/python3.7/posixpath.py\", line 171, in islink\n",
      "    st = os.lstat(path)\n",
      "KeyboardInterrupt\n"
     ]
    },
    {
     "ename": "KeyboardInterrupt",
     "evalue": "",
     "output_type": "error",
     "traceback": [
      "\u001b[0;31m---------------------------------------------------------------------------\u001b[0m"
     ]
    }
   ],
   "source": [
    "# Log Return *10000 as input\n",
    "func = ['add', 'sub', 'mul']\n",
    "est_gp_index_6 = SymbolicRegressor(population_size=10000,function_set=func,init_depth = init_depth,\n",
    "                           generations=10, metric='rmse',stopping_criteria=0.01,\n",
    "                           p_crossover=0.8, p_subtree_mutation=0,\n",
    "                           p_hoist_mutation=0, p_point_mutation=0.1,\n",
    "                           max_samples=0.9, verbose=1,\n",
    "                           parsimony_coefficient=0.01, random_state=6,n_jobs=-1)\n",
    "est_gp_index_6.fit(SP_dataset_x_new, SP_dataset_y_new)"
   ]
  },
  {
   "cell_type": "code",
   "execution_count": 46,
   "metadata": {},
   "outputs": [
    {
     "name": "stdout",
     "output_type": "stream",
     "text": [
      "log_indi(add(log_indi(X1), log_indi(mul(log_indi(add(X2, X2)), sub(mul(mul(log_indi(X1), log_indi(X0)), log_indi(X1)), log_indi(X2))))))\n",
      "mul(log_indi(log_indi(add(log_indi(0.628), log_indi(X0)))), log_indi(sub(X2, X0)))\n",
      "add(log_indi(0.436), mul(mul(0.229, log_indi(log_indi(log_indi(log_indi(X2))))), log_indi(add(X2, X2))))\n",
      "log_indi(log_indi(sub(mul(log_indi(log_indi(X0)), log_indi(X2)), X0)))\n",
      "log_indi(mul(sub(add(X2, X0), log_indi(X0)), mul(add(X2, X1), log_indi(mul(mul(add(sub(add(X0, 0.485), sub(X1, X0)), add(-0.654, X1)), mul(add(-0.016, mul(log_indi(log_indi(log_indi(X0))), X0)), log_indi(X2))), log_indi(sub(mul(X0, -0.834), X2)))))))\n",
      "log_indi(add(log_indi(X0), sub(add(X1, 0.877), -0.345)))\n"
     ]
    }
   ],
   "source": [
    "print(est_gp_index_0._program)\n",
    "print(est_gp_index_1._program)\n",
    "print(est_gp_index_2._program)\n",
    "print(est_gp_index_3._program)\n",
    "print(est_gp_index_4._program)\n",
    "print(est_gp_index_5._program)"
   ]
  },
  {
   "cell_type": "code",
   "execution_count": null,
   "metadata": {},
   "outputs": [],
   "source": []
  },
  {
   "cell_type": "code",
   "execution_count": 33,
   "metadata": {},
   "outputs": [
    {
     "data": {
      "text/plain": [
       "array([ 0.,  0.,  0., ..., -0., -0.,  0.])"
      ]
     },
     "execution_count": 33,
     "metadata": {},
     "output_type": "execute_result"
    }
   ],
   "source": [
    "est_gp_index_0.predict(SP_dataset_x_OoS_new)"
   ]
  },
  {
   "cell_type": "code",
   "execution_count": 34,
   "metadata": {},
   "outputs": [
    {
     "data": {
      "text/plain": [
       "array([-0.,  0., -0., ...,  0., -0.,  0.])"
      ]
     },
     "execution_count": 34,
     "metadata": {},
     "output_type": "execute_result"
    }
   ],
   "source": [
    "est_gp_index_1.predict(SP_dataset_x_OoS_new)"
   ]
  },
  {
   "cell_type": "code",
   "execution_count": 35,
   "metadata": {},
   "outputs": [
    {
     "data": {
      "text/plain": [
       "array([-0.82929312, -0.82929312, -0.82929312, ..., -0.82929312,\n",
       "       -0.82929312, -0.82929312])"
      ]
     },
     "execution_count": 35,
     "metadata": {},
     "output_type": "execute_result"
    }
   ],
   "source": [
    "est_gp_index_2.predict(SP_dataset_x_OoS_new)"
   ]
  },
  {
   "cell_type": "code",
   "execution_count": 37,
   "metadata": {},
   "outputs": [
    {
     "data": {
      "text/plain": [
       "array([ 0., -0., -0., ..., -0.,  0., -0.])"
      ]
     },
     "execution_count": 37,
     "metadata": {},
     "output_type": "execute_result"
    }
   ],
   "source": [
    "est_gp_index_3.predict(SP_dataset_x_OoS_new)"
   ]
  },
  {
   "cell_type": "code",
   "execution_count": 38,
   "metadata": {},
   "outputs": [
    {
     "data": {
      "text/plain": [
       "array([-0.,  0.,  0., ..., -0.,  0., -0.])"
      ]
     },
     "execution_count": 38,
     "metadata": {},
     "output_type": "execute_result"
    }
   ],
   "source": [
    "est_gp_index_4.predict(SP_dataset_x_OoS_new)"
   ]
  },
  {
   "cell_type": "code",
   "execution_count": 47,
   "metadata": {},
   "outputs": [
    {
     "data": {
      "text/plain": [
       "array([ 0.,  0.,  0., ...,  0., -0., -0.])"
      ]
     },
     "execution_count": 47,
     "metadata": {},
     "output_type": "execute_result"
    }
   ],
   "source": [
    "est_gp_index_5.predict(SP_dataset_x_OoS_new)"
   ]
  },
  {
   "cell_type": "code",
   "execution_count": 39,
   "metadata": {},
   "outputs": [
    {
     "data": {
      "text/plain": [
       "1563"
      ]
     },
     "execution_count": 39,
     "metadata": {},
     "output_type": "execute_result"
    }
   ],
   "source": [
    "len(est_gp_index_4.predict(SP_dataset_x_OoS_new))"
   ]
  },
  {
   "cell_type": "code",
   "execution_count": 40,
   "metadata": {},
   "outputs": [
    {
     "data": {
      "text/plain": [
       "1563"
      ]
     },
     "execution_count": 40,
     "metadata": {},
     "output_type": "execute_result"
    }
   ],
   "source": [
    "len(SP_dataset_x_OoS_new)"
   ]
  },
  {
   "cell_type": "code",
   "execution_count": 41,
   "metadata": {},
   "outputs": [
    {
     "data": {
      "text/plain": [
       "array([[   0.        ,  157.34659472,   45.39769851],\n",
       "       [ 157.34659472,   45.39769851,    6.24560876],\n",
       "       [  45.39769851,    6.24560876,   81.61407083],\n",
       "       ...,\n",
       "       [   0.        ,   -0.79349335, -125.365957  ],\n",
       "       [  -0.79349335, -125.365957  ,  103.12254141],\n",
       "       [   3.72217677,   -6.32852511,    1.11708961]])"
      ]
     },
     "execution_count": 41,
     "metadata": {},
     "output_type": "execute_result"
    }
   ],
   "source": [
    "SP_dataset_x_OoS_new"
   ]
  },
  {
   "cell_type": "code",
   "execution_count": 48,
   "metadata": {},
   "outputs": [
    {
     "data": {
      "text/plain": [
       "{'method': 'Crossover',\n",
       " 'parent_idx': 3084,\n",
       " 'parent_nodes': range(11, 17),\n",
       " 'donor_idx': 8216,\n",
       " 'donor_nodes': [0, 1, 2, 3, 4, 5, 6, 7, 8, 9, 10, 11, 12]}"
      ]
     },
     "execution_count": 48,
     "metadata": {},
     "output_type": "execute_result"
    }
   ],
   "source": [
    "est_gp_index._program.parents"
   ]
  },
  {
   "cell_type": "code",
   "execution_count": null,
   "metadata": {},
   "outputs": [],
   "source": []
  },
  {
   "cell_type": "code",
   "execution_count": null,
   "metadata": {},
   "outputs": [],
   "source": []
  },
  {
   "cell_type": "code",
   "execution_count": 45,
   "metadata": {},
   "outputs": [
    {
     "name": "stdout",
     "output_type": "stream",
     "text": [
      "0\n",
      "log_indi(add(log_indi(X1), log_indi(mul(log_indi(add(X2, X2)), sub(add(mul(-0.145, X1), log_indi(X2)), log_indi(X2))))))\n",
      "1\n",
      "log_indi(add(log_indi(X1), log_indi(mul(log_indi(add(X2, X2)), sub(add(mul(-0.145, X1), log_indi(X2)), mul(log_indi(X1), X0))))))\n",
      "2\n",
      "log_indi(add(log_indi(X1), log_indi(mul(log_indi(mul(mul(X0, X0), mul(log_indi(log_indi(mul(add(X0, 0.217), log_indi(log_indi(log_indi(mul(X1, 0.864))))))), X2))), sub(add(mul(-0.145, X1), log_indi(X2)), mul(log_indi(X1), X0))))))\n",
      "3\n",
      "log_indi(add(log_indi(X1), log_indi(mul(log_indi(mul(mul(X0, X0), mul(log_indi(log_indi(mul(add(X0, 0.217), log_indi(log_indi(log_indi(sub(X1, 0.864))))))), X2))), add(add(mul(-0.145, X1), log_indi(X2)), mul(log_indi(X1), X0))))))\n",
      "4\n",
      "log_indi(add(log_indi(X1), log_indi(mul(log_indi(mul(mul(X0, X0), mul(X1, X2))), add(add(mul(-0.145, X1), log_indi(X2)), mul(log_indi(X1), X0))))))\n",
      "5\n",
      "log_indi(add(log_indi(X1), log_indi(mul(log_indi(mul(mul(X0, X0), mul(X1, X2))), add(add(mul(-0.145, X1), log_indi(X2)), mul(log_indi(X1), X0))))))\n",
      "6\n",
      "log_indi(add(log_indi(X1), log_indi(X2)))\n",
      "7\n",
      "log_indi(log_indi(log_indi(X0)))\n"
     ]
    },
    {
     "data": {
      "text/plain": [
       "{'method': 'Crossover',\n",
       " 'parent_idx': 6065,\n",
       " 'parent_nodes': range(0, 13),\n",
       " 'donor_idx': 5232,\n",
       " 'donor_nodes': [0, 1, 6, 7]}"
      ]
     },
     "execution_count": 45,
     "metadata": {},
     "output_type": "execute_result"
    }
   ],
   "source": [
    "get_best_indi(est_gp_index)[2][7].parents"
   ]
  },
  {
   "cell_type": "code",
   "execution_count": 66,
   "metadata": {},
   "outputs": [
    {
     "data": {
      "text/plain": [
       "[<gplearn._program._Program at 0x138589358>,\n",
       " <gplearn._program._Program at 0x1340989b0>,\n",
       " <gplearn._program._Program at 0x137360c88>,\n",
       " <gplearn._program._Program at 0x131b32c88>,\n",
       " <gplearn._program._Program at 0x13601fb70>,\n",
       " <gplearn._program._Program at 0x13153e6d8>,\n",
       " <gplearn._program._Program at 0x13316fc18>,\n",
       " <gplearn._program._Program at 0x131a531d0>,\n",
       " <gplearn._program._Program at 0x1325a3470>]"
      ]
     },
     "execution_count": 66,
     "metadata": {},
     "output_type": "execute_result"
    }
   ],
   "source": [
    "get_best_indi(est_gp_index)"
   ]
  },
  {
   "cell_type": "code",
   "execution_count": null,
   "metadata": {},
   "outputs": [],
   "source": []
  },
  {
   "cell_type": "code",
   "execution_count": 57,
   "metadata": {},
   "outputs": [],
   "source": [
    "# Get every best individual for each generation \n",
    "def get_best_indi(est_gp):\n",
    "    num_gen = len(est_gp._programs)\n",
    "    parent = est_gp._program.parents # best programである_programのparentsの情報\n",
    "    parent_index = parent['parent_idx'] # parentのindex\n",
    "    best_indi_list = [est_gp._program]\n",
    "    parent_info = []\n",
    "    for i in range(num_gen-2):\n",
    "        #print(i)\n",
    "        previous_best_indi = est_gp._programs[-(i+2)][parent_index]\n",
    "        best_indi_list.append(previous_best_indi)\n",
    "        #print(best_indi_list)\n",
    "        parent_info.append(parent)\n",
    "        parent = previous_best_indi.parents\n",
    "        #print(parent)\n",
    "        parent_index = parent['parent_idx'] # parentのindexの更新\n",
    "        #print(previous_best_indi)\n",
    "    return best_indi_list"
   ]
  },
  {
   "cell_type": "code",
   "execution_count": null,
   "metadata": {},
   "outputs": [],
   "source": []
  },
  {
   "cell_type": "code",
   "execution_count": 23,
   "metadata": {},
   "outputs": [
    {
     "name": "stdout",
     "output_type": "stream",
     "text": [
      "    |   Population Average    |             Best Individual              |\n",
      "---- ------------------------- ------------------------------------------ ----------\n",
      " Gen   Length          Fitness   Length          Fitness      OOB Fitness  Time Left\n",
      "   0    86.00      2.88703e+44        6           142.19          231.495      3.68m\n",
      "   1     2.40          26049.4        2          142.818          228.008      2.77m\n",
      "   2     1.17          187.477        1          143.193          225.893      2.50m\n",
      "   3     2.01          157.395        2           141.66          234.386      2.25m\n",
      "   4     2.93          154.959        5          141.093          237.426      2.15m\n",
      "   5     4.19          153.967        3          141.564          234.902      3.24m\n",
      "   6     5.15          153.895        3          139.885          243.738      3.41m\n",
      "   7     6.03          153.845        2          140.839          238.772      3.10m\n",
      "   8     7.11          153.703        7          139.651          244.937      2.46m\n",
      "   9     7.96          153.713        6          141.261          236.532      0.00s\n",
      "log_indi(log_indi(log_indi(log_indi(log_indi(-0.897)))))\n"
     ]
    }
   ],
   "source": [
    "# Log Return *10000 as input, 10 generation\n",
    "init_depth = (1,10)\n",
    "function_set = ['add', 'sub', 'mul',log_indi]\n",
    "est_gp_index = SymbolicRegressor(population_size=10000,function_set=function_set,init_depth = init_depth,\n",
    "                           generations=10, metric='rmse',stopping_criteria=0.01,\n",
    "                           p_crossover=0.8, p_subtree_mutation=0,\n",
    "                           p_hoist_mutation=0, p_point_mutation=0.1,p_point_replace=0.05,\n",
    "                           max_samples=0.9, verbose=1,\n",
    "                           parsimony_coefficient='auto', random_state=0,n_jobs=-1)\n",
    "est_gp_index.fit(SP_dataset_x_new, SP_dataset_y_new)\n",
    "print(est_gp_index._program)"
   ]
  },
  {
   "cell_type": "code",
   "execution_count": 23,
   "metadata": {},
   "outputs": [
    {
     "data": {
      "text/plain": [
       "{'method': 'Crossover',\n",
       " 'parent_idx': 3084,\n",
       " 'parent_nodes': range(3, 6),\n",
       " 'donor_idx': 8216,\n",
       " 'donor_nodes': [0, 1, 2]}"
      ]
     },
     "execution_count": 23,
     "metadata": {},
     "output_type": "execute_result"
    }
   ],
   "source": [
    "est_gp_index._program.parents"
   ]
  },
  {
   "cell_type": "code",
   "execution_count": 64,
   "metadata": {},
   "outputs": [
    {
     "name": "stdout",
     "output_type": "stream",
     "text": [
      "log_indi(log_indi(log_indi(log_indi(log_indi(X0)))))\n"
     ]
    },
    {
     "data": {
      "text/plain": [
       "(3084,\n",
       " <gplearn._program._Program at 0x13fe622b0>,\n",
       " [<gplearn._program._Program at 0x13fe622b0>])"
      ]
     },
     "execution_count": 64,
     "metadata": {},
     "output_type": "execute_result"
    }
   ],
   "source": [
    "get_best_indi(est_gp_index)"
   ]
  },
  {
   "cell_type": "code",
   "execution_count": 51,
   "metadata": {},
   "outputs": [
    {
     "data": {
      "text/plain": [
       "10"
      ]
     },
     "execution_count": 51,
     "metadata": {},
     "output_type": "execute_result"
    }
   ],
   "source": [
    "len(est_gp_index._programs)"
   ]
  },
  {
   "cell_type": "code",
   "execution_count": 24,
   "metadata": {},
   "outputs": [
    {
     "data": {
      "image/svg+xml": [
       "<?xml version=\"1.0\" encoding=\"UTF-8\" standalone=\"no\"?>\n",
       "<!DOCTYPE svg PUBLIC \"-//W3C//DTD SVG 1.1//EN\"\n",
       " \"http://www.w3.org/Graphics/SVG/1.1/DTD/svg11.dtd\">\n",
       "<!-- Generated by graphviz version 2.44.1 (20200629.0846)\n",
       " -->\n",
       "<!-- Title: program Pages: 1 -->\n",
       "<svg width=\"89pt\" height=\"404pt\"\n",
       " viewBox=\"0.00 0.00 88.59 404.00\" xmlns=\"http://www.w3.org/2000/svg\" xmlns:xlink=\"http://www.w3.org/1999/xlink\">\n",
       "<g id=\"graph0\" class=\"graph\" transform=\"scale(1 1) rotate(0) translate(4 400)\">\n",
       "<title>program</title>\n",
       "<polygon fill=\"white\" stroke=\"transparent\" points=\"-4,4 -4,-400 84.59,-400 84.59,4 -4,4\"/>\n",
       "<!-- 0 -->\n",
       "<g id=\"node1\" class=\"node\">\n",
       "<title>0</title>\n",
       "<ellipse fill=\"#136ed4\" stroke=\"black\" cx=\"40.3\" cy=\"-378\" rx=\"40.09\" ry=\"18\"/>\n",
       "<text text-anchor=\"middle\" x=\"40.3\" y=\"-374.3\" font-family=\"Times,serif\" font-size=\"14.00\">log_indi</text>\n",
       "</g>\n",
       "<!-- 1 -->\n",
       "<g id=\"node2\" class=\"node\">\n",
       "<title>1</title>\n",
       "<ellipse fill=\"#136ed4\" stroke=\"black\" cx=\"40.3\" cy=\"-306\" rx=\"40.09\" ry=\"18\"/>\n",
       "<text text-anchor=\"middle\" x=\"40.3\" y=\"-302.3\" font-family=\"Times,serif\" font-size=\"14.00\">log_indi</text>\n",
       "</g>\n",
       "<!-- 0&#45;&gt;1 -->\n",
       "<g id=\"edge5\" class=\"edge\">\n",
       "<title>0&#45;&gt;1</title>\n",
       "<path fill=\"none\" stroke=\"black\" d=\"M40.3,-359.7C40.3,-351.98 40.3,-342.71 40.3,-334.11\"/>\n",
       "<polygon fill=\"black\" stroke=\"black\" points=\"43.8,-334.1 40.3,-324.1 36.8,-334.1 43.8,-334.1\"/>\n",
       "</g>\n",
       "<!-- 2 -->\n",
       "<g id=\"node3\" class=\"node\">\n",
       "<title>2</title>\n",
       "<ellipse fill=\"#136ed4\" stroke=\"black\" cx=\"40.3\" cy=\"-234\" rx=\"40.09\" ry=\"18\"/>\n",
       "<text text-anchor=\"middle\" x=\"40.3\" y=\"-230.3\" font-family=\"Times,serif\" font-size=\"14.00\">log_indi</text>\n",
       "</g>\n",
       "<!-- 1&#45;&gt;2 -->\n",
       "<g id=\"edge4\" class=\"edge\">\n",
       "<title>1&#45;&gt;2</title>\n",
       "<path fill=\"none\" stroke=\"black\" d=\"M40.3,-287.7C40.3,-279.98 40.3,-270.71 40.3,-262.11\"/>\n",
       "<polygon fill=\"black\" stroke=\"black\" points=\"43.8,-262.1 40.3,-252.1 36.8,-262.1 43.8,-262.1\"/>\n",
       "</g>\n",
       "<!-- 3 -->\n",
       "<g id=\"node4\" class=\"node\">\n",
       "<title>3</title>\n",
       "<ellipse fill=\"#136ed4\" stroke=\"black\" cx=\"40.3\" cy=\"-162\" rx=\"40.09\" ry=\"18\"/>\n",
       "<text text-anchor=\"middle\" x=\"40.3\" y=\"-158.3\" font-family=\"Times,serif\" font-size=\"14.00\">log_indi</text>\n",
       "</g>\n",
       "<!-- 2&#45;&gt;3 -->\n",
       "<g id=\"edge3\" class=\"edge\">\n",
       "<title>2&#45;&gt;3</title>\n",
       "<path fill=\"none\" stroke=\"black\" d=\"M40.3,-215.7C40.3,-207.98 40.3,-198.71 40.3,-190.11\"/>\n",
       "<polygon fill=\"black\" stroke=\"black\" points=\"43.8,-190.1 40.3,-180.1 36.8,-190.1 43.8,-190.1\"/>\n",
       "</g>\n",
       "<!-- 4 -->\n",
       "<g id=\"node5\" class=\"node\">\n",
       "<title>4</title>\n",
       "<ellipse fill=\"#136ed4\" stroke=\"black\" cx=\"40.3\" cy=\"-90\" rx=\"40.09\" ry=\"18\"/>\n",
       "<text text-anchor=\"middle\" x=\"40.3\" y=\"-86.3\" font-family=\"Times,serif\" font-size=\"14.00\">log_indi</text>\n",
       "</g>\n",
       "<!-- 3&#45;&gt;4 -->\n",
       "<g id=\"edge2\" class=\"edge\">\n",
       "<title>3&#45;&gt;4</title>\n",
       "<path fill=\"none\" stroke=\"black\" d=\"M40.3,-143.7C40.3,-135.98 40.3,-126.71 40.3,-118.11\"/>\n",
       "<polygon fill=\"black\" stroke=\"black\" points=\"43.8,-118.1 40.3,-108.1 36.8,-118.1 43.8,-118.1\"/>\n",
       "</g>\n",
       "<!-- 5 -->\n",
       "<g id=\"node6\" class=\"node\">\n",
       "<title>5</title>\n",
       "<ellipse fill=\"#60a6f6\" stroke=\"black\" cx=\"40.3\" cy=\"-18\" rx=\"33.6\" ry=\"18\"/>\n",
       "<text text-anchor=\"middle\" x=\"40.3\" y=\"-14.3\" font-family=\"Times,serif\" font-size=\"14.00\">&#45;0.897</text>\n",
       "</g>\n",
       "<!-- 4&#45;&gt;5 -->\n",
       "<g id=\"edge1\" class=\"edge\">\n",
       "<title>4&#45;&gt;5</title>\n",
       "<path fill=\"none\" stroke=\"black\" d=\"M40.3,-71.7C40.3,-63.98 40.3,-54.71 40.3,-46.11\"/>\n",
       "<polygon fill=\"black\" stroke=\"black\" points=\"43.8,-46.1 40.3,-36.1 36.8,-46.1 43.8,-46.1\"/>\n",
       "</g>\n",
       "</g>\n",
       "</svg>\n"
      ],
      "text/plain": [
       "<graphviz.files.Source at 0x1310fc5f8>"
      ]
     },
     "execution_count": 24,
     "metadata": {},
     "output_type": "execute_result"
    }
   ],
   "source": [
    "dot_data = est_gp_index._program.export_graphviz()\n",
    "graph = graphviz.Source(dot_data)\n",
    "graph"
   ]
  },
  {
   "cell_type": "code",
   "execution_count": 25,
   "metadata": {},
   "outputs": [
    {
     "name": "stdout",
     "output_type": "stream",
     "text": [
      "log_indi(log_indi(log_indi(log_indi(log_indi(-0.897)))))\n"
     ]
    }
   ],
   "source": [
    "print(est_gp_index)"
   ]
  },
  {
   "cell_type": "code",
   "execution_count": 53,
   "metadata": {},
   "outputs": [
    {
     "ename": "AttributeError",
     "evalue": "'_Program' object has no attribute '_program'",
     "output_type": "error",
     "traceback": [
      "\u001b[0;31m---------------------------------------------------------------------------\u001b[0m",
      "\u001b[0;31mAttributeError\u001b[0m                            Traceback (most recent call last)",
      "\u001b[0;32m<ipython-input-53-783e8f40fdff>\u001b[0m in \u001b[0;36m<module>\u001b[0;34m\u001b[0m\n\u001b[1;32m      1\u001b[0m \u001b[0;31m# est_gp_index._programsに全てのParentsの記録が残る\u001b[0m\u001b[0;34m\u001b[0m\u001b[0;34m\u001b[0m\u001b[0;34m\u001b[0m\u001b[0m\n\u001b[1;32m      2\u001b[0m \u001b[0;31m#print(len(est_gp_index._programs))\u001b[0m\u001b[0;34m\u001b[0m\u001b[0;34m\u001b[0m\u001b[0;34m\u001b[0m\u001b[0m\n\u001b[0;32m----> 3\u001b[0;31m \u001b[0mprint\u001b[0m\u001b[0;34m(\u001b[0m\u001b[0mest_gp_index\u001b[0m\u001b[0;34m.\u001b[0m\u001b[0m_programs\u001b[0m\u001b[0;34m[\u001b[0m\u001b[0;34m-\u001b[0m\u001b[0;36m1\u001b[0m\u001b[0;34m]\u001b[0m\u001b[0;34m[\u001b[0m\u001b[0;36m0\u001b[0m\u001b[0;34m]\u001b[0m\u001b[0;34m.\u001b[0m\u001b[0m_program\u001b[0m\u001b[0;34m)\u001b[0m\u001b[0;34m\u001b[0m\u001b[0;34m\u001b[0m\u001b[0m\n\u001b[0m",
      "\u001b[0;31mAttributeError\u001b[0m: '_Program' object has no attribute '_program'"
     ]
    }
   ],
   "source": [
    "# est_gp_index._programsに全てのParentsの記録が残る\n",
    "#print(len(est_gp_index._programs))\n",
    "print(est_gp_index._programs[-1][0]._program)"
   ]
  },
  {
   "cell_type": "code",
   "execution_count": 102,
   "metadata": {},
   "outputs": [
    {
     "ename": "AttributeError",
     "evalue": "'SymbolicRegressor' object has no attribute '_program'",
     "output_type": "error",
     "traceback": [
      "\u001b[0;31m---------------------------------------------------------------------------\u001b[0m",
      "\u001b[0;31mAttributeError\u001b[0m                            Traceback (most recent call last)",
      "\u001b[0;32m<ipython-input-102-6a075088fb93>\u001b[0m in \u001b[0;36m<module>\u001b[0;34m\u001b[0m\n\u001b[0;32m----> 1\u001b[0;31m \u001b[0mprint\u001b[0m\u001b[0;34m(\u001b[0m\u001b[0mest_gp_index\u001b[0m\u001b[0;34m.\u001b[0m\u001b[0m_program\u001b[0m\u001b[0;34m.\u001b[0m\u001b[0mparents\u001b[0m\u001b[0;34m)\u001b[0m\u001b[0;34m\u001b[0m\u001b[0;34m\u001b[0m\u001b[0m\n\u001b[0m",
      "\u001b[0;31mAttributeError\u001b[0m: 'SymbolicRegressor' object has no attribute '_program'"
     ]
    }
   ],
   "source": [
    "print(est_gp_index._program.parents)"
   ]
  },
  {
   "cell_type": "code",
   "execution_count": 67,
   "metadata": {},
   "outputs": [
    {
     "data": {
      "text/plain": [
       "{'method': 'Crossover',\n",
       " 'parent_idx': 3084,\n",
       " 'parent_nodes': range(3, 6),\n",
       " 'donor_idx': 8216,\n",
       " 'donor_nodes': [0, 1, 2]}"
      ]
     },
     "execution_count": 67,
     "metadata": {},
     "output_type": "execute_result"
    }
   ],
   "source": [
    "est_gp_index._program.parents"
   ]
  },
  {
   "cell_type": "code",
   "execution_count": 91,
   "metadata": {},
   "outputs": [
    {
     "name": "stdout",
     "output_type": "stream",
     "text": [
      "{'method': 'Point Mutation', 'parent_idx': 8810, 'parent_nodes': [3]}\n"
     ]
    }
   ],
   "source": [
    "print(est_gp_index._programs[-1][-10].parents)"
   ]
  },
  {
   "cell_type": "code",
   "execution_count": 74,
   "metadata": {},
   "outputs": [
    {
     "name": "stdout",
     "output_type": "stream",
     "text": [
      "{'method': 'Crossover', 'parent_idx': 2177, 'parent_nodes': range(4, 6), 'donor_idx': 9519, 'donor_nodes': [0, 1]}\n"
     ]
    },
    {
     "data": {
      "image/png": "[encoded data removed]",
      "text/plain": [
       "<IPython.core.display.Image object>"
      ]
     },
     "execution_count": 74,
     "metadata": {},
     "output_type": "execute_result"
    }
   ],
   "source": [
    "print(est_gp_index._programs[-2][idx].parents)\n",
    "idx_2 = est_gp_index._programs[-2][idx].parents['parent_idx']\n",
    "fade_nodes_2 = est_gp_index._programs[-2][idx].parents['parent_nodes'] \n",
    "graph = est_gp_index._programs[-3][idx_2].export_graphviz(fade_nodes=fade_nodes_2)\n",
    "graph = pydotplus.graphviz.graph_from_dot_data(graph) \n",
    "Image(graph.create_png())"
   ]
  },
  {
   "cell_type": "code",
   "execution_count": 26,
   "metadata": {},
   "outputs": [
    {
     "name": "stdout",
     "output_type": "stream",
     "text": [
      "log_indi(log_indi(log_indi(log_indi(log_indi(X0)))))\n"
     ]
    },
    {
     "data": {
      "image/png": "[encoded data removed]",
      "text/plain": [
       "<IPython.core.display.Image object>"
      ]
     },
     "execution_count": 26,
     "metadata": {},
     "output_type": "execute_result"
    }
   ],
   "source": [
    "idx = est_gp_index._program.parents['parent_idx']\n",
    "fade_nodes = est_gp_index._program.parents['parent_nodes'] \n",
    "print(est_gp_index._programs[-2][idx])\n",
    "graph = est_gp_index._programs[-2][idx].export_graphviz(fade_nodes=fade_nodes)\n",
    "graph = pydotplus.graphviz.graph_from_dot_data(graph) \n",
    "Image(graph.create_png())"
   ]
  },
  {
   "cell_type": "code",
   "execution_count": 62,
   "metadata": {},
   "outputs": [
    {
     "data": {
      "image/svg+xml": [
       "<?xml version=\"1.0\" encoding=\"UTF-8\" standalone=\"no\"?>\n",
       "<!DOCTYPE svg PUBLIC \"-//W3C//DTD SVG 1.1//EN\"\n",
       " \"http://www.w3.org/Graphics/SVG/1.1/DTD/svg11.dtd\">\n",
       "<!-- Generated by graphviz version 2.44.1 (20200629.0846)\n",
       " -->\n",
       "<!-- Title: program Pages: 1 -->\n",
       "<svg width=\"89pt\" height=\"404pt\"\n",
       " viewBox=\"0.00 0.00 88.59 404.00\" xmlns=\"http://www.w3.org/2000/svg\" xmlns:xlink=\"http://www.w3.org/1999/xlink\">\n",
       "<g id=\"graph0\" class=\"graph\" transform=\"scale(1 1) rotate(0) translate(4 400)\">\n",
       "<title>program</title>\n",
       "<polygon fill=\"white\" stroke=\"transparent\" points=\"-4,4 -4,-400 84.59,-400 84.59,4 -4,4\"/>\n",
       "<!-- 0 -->\n",
       "<g id=\"node1\" class=\"node\">\n",
       "<title>0</title>\n",
       "<ellipse fill=\"#cecece\" stroke=\"black\" cx=\"40.3\" cy=\"-378\" rx=\"40.09\" ry=\"18\"/>\n",
       "<text text-anchor=\"middle\" x=\"40.3\" y=\"-374.3\" font-family=\"Times,serif\" font-size=\"14.00\">log_indi</text>\n",
       "</g>\n",
       "<!-- 1 -->\n",
       "<g id=\"node2\" class=\"node\">\n",
       "<title>1</title>\n",
       "<ellipse fill=\"#cecece\" stroke=\"black\" cx=\"40.3\" cy=\"-306\" rx=\"40.09\" ry=\"18\"/>\n",
       "<text text-anchor=\"middle\" x=\"40.3\" y=\"-302.3\" font-family=\"Times,serif\" font-size=\"14.00\">log_indi</text>\n",
       "</g>\n",
       "<!-- 0&#45;&gt;1 -->\n",
       "<g id=\"edge5\" class=\"edge\">\n",
       "<title>0&#45;&gt;1</title>\n",
       "<path fill=\"none\" stroke=\"black\" d=\"M40.3,-359.7C40.3,-351.98 40.3,-342.71 40.3,-334.11\"/>\n",
       "<polygon fill=\"black\" stroke=\"black\" points=\"43.8,-334.1 40.3,-324.1 36.8,-334.1 43.8,-334.1\"/>\n",
       "</g>\n",
       "<!-- 2 -->\n",
       "<g id=\"node3\" class=\"node\">\n",
       "<title>2</title>\n",
       "<ellipse fill=\"#cecece\" stroke=\"black\" cx=\"40.3\" cy=\"-234\" rx=\"40.09\" ry=\"18\"/>\n",
       "<text text-anchor=\"middle\" x=\"40.3\" y=\"-230.3\" font-family=\"Times,serif\" font-size=\"14.00\">log_indi</text>\n",
       "</g>\n",
       "<!-- 1&#45;&gt;2 -->\n",
       "<g id=\"edge4\" class=\"edge\">\n",
       "<title>1&#45;&gt;2</title>\n",
       "<path fill=\"none\" stroke=\"black\" d=\"M40.3,-287.7C40.3,-279.98 40.3,-270.71 40.3,-262.11\"/>\n",
       "<polygon fill=\"black\" stroke=\"black\" points=\"43.8,-262.1 40.3,-252.1 36.8,-262.1 43.8,-262.1\"/>\n",
       "</g>\n",
       "<!-- 3 -->\n",
       "<g id=\"node4\" class=\"node\">\n",
       "<title>3</title>\n",
       "<ellipse fill=\"#136ed4\" stroke=\"black\" cx=\"40.3\" cy=\"-162\" rx=\"40.09\" ry=\"18\"/>\n",
       "<text text-anchor=\"middle\" x=\"40.3\" y=\"-158.3\" font-family=\"Times,serif\" font-size=\"14.00\">log_indi</text>\n",
       "</g>\n",
       "<!-- 2&#45;&gt;3 -->\n",
       "<g id=\"edge3\" class=\"edge\">\n",
       "<title>2&#45;&gt;3</title>\n",
       "<path fill=\"none\" stroke=\"black\" d=\"M40.3,-215.7C40.3,-207.98 40.3,-198.71 40.3,-190.11\"/>\n",
       "<polygon fill=\"black\" stroke=\"black\" points=\"43.8,-190.1 40.3,-180.1 36.8,-190.1 43.8,-190.1\"/>\n",
       "</g>\n",
       "<!-- 4 -->\n",
       "<g id=\"node5\" class=\"node\">\n",
       "<title>4</title>\n",
       "<ellipse fill=\"#136ed4\" stroke=\"black\" cx=\"40.3\" cy=\"-90\" rx=\"40.09\" ry=\"18\"/>\n",
       "<text text-anchor=\"middle\" x=\"40.3\" y=\"-86.3\" font-family=\"Times,serif\" font-size=\"14.00\">log_indi</text>\n",
       "</g>\n",
       "<!-- 3&#45;&gt;4 -->\n",
       "<g id=\"edge2\" class=\"edge\">\n",
       "<title>3&#45;&gt;4</title>\n",
       "<path fill=\"none\" stroke=\"black\" d=\"M40.3,-143.7C40.3,-135.98 40.3,-126.71 40.3,-118.11\"/>\n",
       "<polygon fill=\"black\" stroke=\"black\" points=\"43.8,-118.1 40.3,-108.1 36.8,-118.1 43.8,-118.1\"/>\n",
       "</g>\n",
       "<!-- 5 -->\n",
       "<g id=\"node6\" class=\"node\">\n",
       "<title>5</title>\n",
       "<ellipse fill=\"#60a6f6\" stroke=\"black\" cx=\"40.3\" cy=\"-18\" rx=\"33.6\" ry=\"18\"/>\n",
       "<text text-anchor=\"middle\" x=\"40.3\" y=\"-14.3\" font-family=\"Times,serif\" font-size=\"14.00\">&#45;0.897</text>\n",
       "</g>\n",
       "<!-- 4&#45;&gt;5 -->\n",
       "<g id=\"edge1\" class=\"edge\">\n",
       "<title>4&#45;&gt;5</title>\n",
       "<path fill=\"none\" stroke=\"black\" d=\"M40.3,-71.7C40.3,-63.98 40.3,-54.71 40.3,-46.11\"/>\n",
       "<polygon fill=\"black\" stroke=\"black\" points=\"43.8,-46.1 40.3,-36.1 36.8,-46.1 43.8,-46.1\"/>\n",
       "</g>\n",
       "</g>\n",
       "</svg>\n"
      ],
      "text/plain": [
       "<graphviz.files.Source at 0x139e8f470>"
      ]
     },
     "execution_count": 62,
     "metadata": {},
     "output_type": "execute_result"
    }
   ],
   "source": [
    "idx = est_gp_index._program.parents['donor_idx']\n",
    "fade_nodes = est_gp_index._program.parents['donor_nodes']\n",
    "dot_data = est_gp_index._programs[-2][idx].export_graphviz(fade_nodes=fade_nodes) \n",
    "graph = graphviz.Source(dot_data)\n",
    "graph"
   ]
  },
  {
   "cell_type": "code",
   "execution_count": 51,
   "metadata": {},
   "outputs": [
    {
     "name": "stdout",
     "output_type": "stream",
     "text": [
      "    |   Population Average    |             Best Individual              |\n",
      "---- ------------------------- ------------------------------------------ ----------\n",
      " Gen   Length          Fitness   Length          Fitness      OOB Fitness  Time Left\n",
      "   0    86.00      2.29787e+48        6           142.19          231.495      0.00s\n",
      "log_indi(mul(X0, add(X1, X0)))\n"
     ]
    }
   ],
   "source": [
    "# Log Return *10000 as input, 1 generation\n",
    "init_depth = (1,10)\n",
    "function_set = ['add', 'sub', 'mul',log_indi]\n",
    "est_gp_index = SymbolicRegressor(population_size=10000,function_set=function_set,init_depth = init_depth,\n",
    "                           generations=1, metric='rmse',stopping_criteria=0.01,\n",
    "                           p_crossover=0.8, p_subtree_mutation=0,\n",
    "                           p_hoist_mutation=0, p_point_mutation=0.1,\n",
    "                           max_samples=0.9, verbose=1,\n",
    "                           parsimony_coefficient=0.01, random_state=0,n_jobs=-1)\n",
    "est_gp_index.fit(SP_dataset_x_new, SP_dataset_y_new)\n",
    "print(est_gp_index._program)"
   ]
  },
  {
   "cell_type": "code",
   "execution_count": 92,
   "metadata": {},
   "outputs": [
    {
     "name": "stdout",
     "output_type": "stream",
     "text": [
      "    |   Population Average    |             Best Individual              |\n",
      "---- ------------------------- ------------------------------------------ ----------\n",
      " Gen   Length          Fitness   Length          Fitness      OOB Fitness  Time Left\n",
      "   0    86.00      2.88703e+44        6           142.19          231.495     40.70m\n",
      "   1     2.69      2.33175e+09        2          143.115          226.334     34.11m\n",
      "   2     1.47      6.82212e+09        2          142.175          231.575     28.10m\n",
      "   3     1.27      1.26614e+11        1          141.665           234.37     26.65m\n",
      "   4     1.30      1.96821e+09        1          141.102          237.383     26.58m\n",
      "   5     1.25      5.14427e+08        1          142.437          230.132     27.20m\n",
      "   6     1.31      4.27044e+09        1          139.885          243.738     25.11m\n",
      "   7     1.32      7.34103e+12        1           140.84          238.768     26.20m\n",
      "   8     1.26      6.81933e+08        1          143.003          226.986     24.63m\n",
      "   9     1.29      4.90009e+09        1          141.262          236.528     26.46m\n",
      "  10     1.32      1.08552e+09        1          138.791          249.274     23.71m\n",
      "  11     1.39      2.81768e+12        1           142.16          231.682     27.21m\n",
      "  12     1.30      1.23473e+12        1          142.096          232.015     24.41m\n",
      "  13     1.30       1.0105e+07        1          141.955          232.784     23.00m\n",
      "  14     1.35      2.84215e+12        1          142.342          230.658     22.07m\n",
      "  15     1.36      2.66899e+15        1          142.405          230.309     21.94m\n",
      "  16     1.31      3.10688e+12        1          141.756          233.867     22.86m\n",
      "  17     1.28      6.56505e+09        1          141.793          233.665     27.38m\n",
      "  18     1.29      2.17207e+09        1          140.556           240.27     22.55m\n",
      "  19     1.32      8.77537e+11        1          141.789           233.69     21.49m\n",
      "  20     1.33      6.98127e+09        1          140.214           242.04     20.79m\n",
      "  21     1.24      3.33634e+06        1          138.555           250.45     20.28m\n",
      "  22     1.30       3.3242e+20        1          143.088          226.493     20.05m\n",
      "  23     1.26      1.42504e+16        1          139.468          245.886     19.76m\n",
      "  24     1.28      8.02368e+15        1          141.345          236.082     21.16m\n"
     ]
    },
    {
     "ename": "KeyboardInterrupt",
     "evalue": "",
     "output_type": "error",
     "traceback": [
      "\u001b[0;31m---------------------------------------------------------------------------\u001b[0m",
      "\u001b[0;31mKeyboardInterrupt\u001b[0m                         Traceback (most recent call last)",
      "\u001b[0;32m<ipython-input-92-738aa8c9eacd>\u001b[0m in \u001b[0;36m<module>\u001b[0;34m\u001b[0m\n\u001b[1;32m      8\u001b[0m                            \u001b[0mmax_samples\u001b[0m\u001b[0;34m=\u001b[0m\u001b[0;36m0.9\u001b[0m\u001b[0;34m,\u001b[0m \u001b[0mverbose\u001b[0m\u001b[0;34m=\u001b[0m\u001b[0;36m1\u001b[0m\u001b[0;34m,\u001b[0m\u001b[0;34m\u001b[0m\u001b[0;34m\u001b[0m\u001b[0m\n\u001b[1;32m      9\u001b[0m                            parsimony_coefficient=\"auto\", random_state=0,n_jobs=-1)\n\u001b[0;32m---> 10\u001b[0;31m \u001b[0mest_gp_index\u001b[0m\u001b[0;34m.\u001b[0m\u001b[0mfit\u001b[0m\u001b[0;34m(\u001b[0m\u001b[0mSP_dataset_x_new\u001b[0m\u001b[0;34m,\u001b[0m \u001b[0mSP_dataset_y_new\u001b[0m\u001b[0;34m)\u001b[0m\u001b[0;34m\u001b[0m\u001b[0;34m\u001b[0m\u001b[0m\n\u001b[0m\u001b[1;32m     11\u001b[0m \u001b[0mprint\u001b[0m\u001b[0;34m(\u001b[0m\u001b[0mest_gp_index\u001b[0m\u001b[0;34m.\u001b[0m\u001b[0m_program\u001b[0m\u001b[0;34m)\u001b[0m\u001b[0;34m\u001b[0m\u001b[0;34m\u001b[0m\u001b[0m\n",
      "\u001b[0;32m~/.pyenv/versions/3.7.1/envs/myenv/lib/python3.7/site-packages/gplearn/genetic.py\u001b[0m in \u001b[0;36mfit\u001b[0;34m(self, X, y, sample_weight)\u001b[0m\n\u001b[1;32m    469\u001b[0m                                           \u001b[0mseeds\u001b[0m\u001b[0;34m[\u001b[0m\u001b[0mstarts\u001b[0m\u001b[0;34m[\u001b[0m\u001b[0mi\u001b[0m\u001b[0;34m]\u001b[0m\u001b[0;34m:\u001b[0m\u001b[0mstarts\u001b[0m\u001b[0;34m[\u001b[0m\u001b[0mi\u001b[0m \u001b[0;34m+\u001b[0m \u001b[0;36m1\u001b[0m\u001b[0;34m]\u001b[0m\u001b[0;34m]\u001b[0m\u001b[0;34m,\u001b[0m\u001b[0;34m\u001b[0m\u001b[0;34m\u001b[0m\u001b[0m\n\u001b[1;32m    470\u001b[0m                                           params)\n\u001b[0;32m--> 471\u001b[0;31m                 for i in range(n_jobs))\n\u001b[0m\u001b[1;32m    472\u001b[0m \u001b[0;34m\u001b[0m\u001b[0m\n\u001b[1;32m    473\u001b[0m             \u001b[0;31m# Reduce, maintaining order across different n_jobs\u001b[0m\u001b[0;34m\u001b[0m\u001b[0;34m\u001b[0m\u001b[0;34m\u001b[0m\u001b[0m\n",
      "\u001b[0;32m~/.pyenv/versions/3.7.1/envs/myenv/lib/python3.7/site-packages/joblib/parallel.py\u001b[0m in \u001b[0;36m__call__\u001b[0;34m(self, iterable)\u001b[0m\n\u001b[1;32m   1015\u001b[0m \u001b[0;34m\u001b[0m\u001b[0m\n\u001b[1;32m   1016\u001b[0m             \u001b[0;32mwith\u001b[0m \u001b[0mself\u001b[0m\u001b[0;34m.\u001b[0m\u001b[0m_backend\u001b[0m\u001b[0;34m.\u001b[0m\u001b[0mretrieval_context\u001b[0m\u001b[0;34m(\u001b[0m\u001b[0;34m)\u001b[0m\u001b[0;34m:\u001b[0m\u001b[0;34m\u001b[0m\u001b[0;34m\u001b[0m\u001b[0m\n\u001b[0;32m-> 1017\u001b[0;31m                 \u001b[0mself\u001b[0m\u001b[0;34m.\u001b[0m\u001b[0mretrieve\u001b[0m\u001b[0;34m(\u001b[0m\u001b[0;34m)\u001b[0m\u001b[0;34m\u001b[0m\u001b[0;34m\u001b[0m\u001b[0m\n\u001b[0m\u001b[1;32m   1018\u001b[0m             \u001b[0;31m# Make sure that we get a last message telling us we are done\u001b[0m\u001b[0;34m\u001b[0m\u001b[0;34m\u001b[0m\u001b[0;34m\u001b[0m\u001b[0m\n\u001b[1;32m   1019\u001b[0m             \u001b[0melapsed_time\u001b[0m \u001b[0;34m=\u001b[0m \u001b[0mtime\u001b[0m\u001b[0;34m.\u001b[0m\u001b[0mtime\u001b[0m\u001b[0;34m(\u001b[0m\u001b[0;34m)\u001b[0m \u001b[0;34m-\u001b[0m \u001b[0mself\u001b[0m\u001b[0;34m.\u001b[0m\u001b[0m_start_time\u001b[0m\u001b[0;34m\u001b[0m\u001b[0;34m\u001b[0m\u001b[0m\n",
      "\u001b[0;32m~/.pyenv/versions/3.7.1/envs/myenv/lib/python3.7/site-packages/joblib/parallel.py\u001b[0m in \u001b[0;36mretrieve\u001b[0;34m(self)\u001b[0m\n\u001b[1;32m    907\u001b[0m             \u001b[0;32mtry\u001b[0m\u001b[0;34m:\u001b[0m\u001b[0;34m\u001b[0m\u001b[0;34m\u001b[0m\u001b[0m\n\u001b[1;32m    908\u001b[0m                 \u001b[0;32mif\u001b[0m \u001b[0mgetattr\u001b[0m\u001b[0;34m(\u001b[0m\u001b[0mself\u001b[0m\u001b[0;34m.\u001b[0m\u001b[0m_backend\u001b[0m\u001b[0;34m,\u001b[0m \u001b[0;34m'supports_timeout'\u001b[0m\u001b[0;34m,\u001b[0m \u001b[0;32mFalse\u001b[0m\u001b[0;34m)\u001b[0m\u001b[0;34m:\u001b[0m\u001b[0;34m\u001b[0m\u001b[0;34m\u001b[0m\u001b[0m\n\u001b[0;32m--> 909\u001b[0;31m                     \u001b[0mself\u001b[0m\u001b[0;34m.\u001b[0m\u001b[0m_output\u001b[0m\u001b[0;34m.\u001b[0m\u001b[0mextend\u001b[0m\u001b[0;34m(\u001b[0m\u001b[0mjob\u001b[0m\u001b[0;34m.\u001b[0m\u001b[0mget\u001b[0m\u001b[0;34m(\u001b[0m\u001b[0mtimeout\u001b[0m\u001b[0;34m=\u001b[0m\u001b[0mself\u001b[0m\u001b[0;34m.\u001b[0m\u001b[0mtimeout\u001b[0m\u001b[0;34m)\u001b[0m\u001b[0;34m)\u001b[0m\u001b[0;34m\u001b[0m\u001b[0;34m\u001b[0m\u001b[0m\n\u001b[0m\u001b[1;32m    910\u001b[0m                 \u001b[0;32melse\u001b[0m\u001b[0;34m:\u001b[0m\u001b[0;34m\u001b[0m\u001b[0;34m\u001b[0m\u001b[0m\n\u001b[1;32m    911\u001b[0m                     \u001b[0mself\u001b[0m\u001b[0;34m.\u001b[0m\u001b[0m_output\u001b[0m\u001b[0;34m.\u001b[0m\u001b[0mextend\u001b[0m\u001b[0;34m(\u001b[0m\u001b[0mjob\u001b[0m\u001b[0;34m.\u001b[0m\u001b[0mget\u001b[0m\u001b[0;34m(\u001b[0m\u001b[0;34m)\u001b[0m\u001b[0;34m)\u001b[0m\u001b[0;34m\u001b[0m\u001b[0;34m\u001b[0m\u001b[0m\n",
      "\u001b[0;32m~/.pyenv/versions/3.7.1/envs/myenv/lib/python3.7/site-packages/joblib/_parallel_backends.py\u001b[0m in \u001b[0;36mwrap_future_result\u001b[0;34m(future, timeout)\u001b[0m\n\u001b[1;32m    560\u001b[0m         AsyncResults.get from multiprocessing.\"\"\"\n\u001b[1;32m    561\u001b[0m         \u001b[0;32mtry\u001b[0m\u001b[0;34m:\u001b[0m\u001b[0;34m\u001b[0m\u001b[0;34m\u001b[0m\u001b[0m\n\u001b[0;32m--> 562\u001b[0;31m             \u001b[0;32mreturn\u001b[0m \u001b[0mfuture\u001b[0m\u001b[0;34m.\u001b[0m\u001b[0mresult\u001b[0m\u001b[0;34m(\u001b[0m\u001b[0mtimeout\u001b[0m\u001b[0;34m=\u001b[0m\u001b[0mtimeout\u001b[0m\u001b[0;34m)\u001b[0m\u001b[0;34m\u001b[0m\u001b[0;34m\u001b[0m\u001b[0m\n\u001b[0m\u001b[1;32m    563\u001b[0m         \u001b[0;32mexcept\u001b[0m \u001b[0mLokyTimeoutError\u001b[0m\u001b[0;34m:\u001b[0m\u001b[0;34m\u001b[0m\u001b[0;34m\u001b[0m\u001b[0m\n\u001b[1;32m    564\u001b[0m             \u001b[0;32mraise\u001b[0m \u001b[0mTimeoutError\u001b[0m\u001b[0;34m(\u001b[0m\u001b[0;34m)\u001b[0m\u001b[0;34m\u001b[0m\u001b[0;34m\u001b[0m\u001b[0m\n",
      "\u001b[0;32m~/.pyenv/versions/3.7.1/lib/python3.7/concurrent/futures/_base.py\u001b[0m in \u001b[0;36mresult\u001b[0;34m(self, timeout)\u001b[0m\n\u001b[1;32m    425\u001b[0m                 \u001b[0;32mreturn\u001b[0m \u001b[0mself\u001b[0m\u001b[0;34m.\u001b[0m\u001b[0m__get_result\u001b[0m\u001b[0;34m(\u001b[0m\u001b[0;34m)\u001b[0m\u001b[0;34m\u001b[0m\u001b[0;34m\u001b[0m\u001b[0m\n\u001b[1;32m    426\u001b[0m \u001b[0;34m\u001b[0m\u001b[0m\n\u001b[0;32m--> 427\u001b[0;31m             \u001b[0mself\u001b[0m\u001b[0;34m.\u001b[0m\u001b[0m_condition\u001b[0m\u001b[0;34m.\u001b[0m\u001b[0mwait\u001b[0m\u001b[0;34m(\u001b[0m\u001b[0mtimeout\u001b[0m\u001b[0;34m)\u001b[0m\u001b[0;34m\u001b[0m\u001b[0;34m\u001b[0m\u001b[0m\n\u001b[0m\u001b[1;32m    428\u001b[0m \u001b[0;34m\u001b[0m\u001b[0m\n\u001b[1;32m    429\u001b[0m             \u001b[0;32mif\u001b[0m \u001b[0mself\u001b[0m\u001b[0;34m.\u001b[0m\u001b[0m_state\u001b[0m \u001b[0;32min\u001b[0m \u001b[0;34m[\u001b[0m\u001b[0mCANCELLED\u001b[0m\u001b[0;34m,\u001b[0m \u001b[0mCANCELLED_AND_NOTIFIED\u001b[0m\u001b[0;34m]\u001b[0m\u001b[0;34m:\u001b[0m\u001b[0;34m\u001b[0m\u001b[0;34m\u001b[0m\u001b[0m\n",
      "\u001b[0;32m~/.pyenv/versions/3.7.1/lib/python3.7/threading.py\u001b[0m in \u001b[0;36mwait\u001b[0;34m(self, timeout)\u001b[0m\n\u001b[1;32m    294\u001b[0m         \u001b[0;32mtry\u001b[0m\u001b[0;34m:\u001b[0m    \u001b[0;31m# restore state no matter what (e.g., KeyboardInterrupt)\u001b[0m\u001b[0;34m\u001b[0m\u001b[0;34m\u001b[0m\u001b[0m\n\u001b[1;32m    295\u001b[0m             \u001b[0;32mif\u001b[0m \u001b[0mtimeout\u001b[0m \u001b[0;32mis\u001b[0m \u001b[0;32mNone\u001b[0m\u001b[0;34m:\u001b[0m\u001b[0;34m\u001b[0m\u001b[0;34m\u001b[0m\u001b[0m\n\u001b[0;32m--> 296\u001b[0;31m                 \u001b[0mwaiter\u001b[0m\u001b[0;34m.\u001b[0m\u001b[0macquire\u001b[0m\u001b[0;34m(\u001b[0m\u001b[0;34m)\u001b[0m\u001b[0;34m\u001b[0m\u001b[0;34m\u001b[0m\u001b[0m\n\u001b[0m\u001b[1;32m    297\u001b[0m                 \u001b[0mgotit\u001b[0m \u001b[0;34m=\u001b[0m \u001b[0;32mTrue\u001b[0m\u001b[0;34m\u001b[0m\u001b[0;34m\u001b[0m\u001b[0m\n\u001b[1;32m    298\u001b[0m             \u001b[0;32melse\u001b[0m\u001b[0;34m:\u001b[0m\u001b[0;34m\u001b[0m\u001b[0;34m\u001b[0m\u001b[0m\n",
      "\u001b[0;31mKeyboardInterrupt\u001b[0m: "
     ]
    }
   ],
   "source": [
    "# Log Return *10000 as input\n",
    "init_depth = (1,10)\n",
    "function_set = ['add', 'sub', 'mul',log_indi]\n",
    "est_gp_index = SymbolicRegressor(population_size=10000,function_set=function_set,init_depth = init_depth,\n",
    "                           generations=100, metric='rmse',stopping_criteria=0.01,\n",
    "                           p_crossover=0.8, p_subtree_mutation=0.05,\n",
    "                           p_hoist_mutation=0.04, p_point_mutation=0.1,\n",
    "                           max_samples=0.9, verbose=1,\n",
    "                           parsimony_coefficient=\"auto\", random_state=0,n_jobs=-1)\n",
    "est_gp_index.fit(SP_dataset_x_new, SP_dataset_y_new)\n",
    "print(est_gp_index._program)"
   ]
  },
  {
   "cell_type": "code",
   "execution_count": 98,
   "metadata": {},
   "outputs": [
    {
     "name": "stdout",
     "output_type": "stream",
     "text": [
      "mul(sub(sub(mul(sub(X2, sub(X2, log_indi(sub(sub(mul(mul(sub(mul(sub(log_indi(mul(X0, sub(mul(log_indi(log_indi(sub(X2, sub(log_indi(sub(add(log_indi(sub(0.018, 0.751)), 0.629), mul(-0.704, 0.258))), X1)))), log_indi(sub(log_indi(log_indi(add(sub(X1, -0.063), sub(X2, X0)))), X0))), X1))), X2), 0.096), X2), 0.096), 0.096), X2), X1)))), add(X2, mul(0.096, sub(sub(-0.115, -0.618), add(log_indi(0.096), log_indi(mul(X2, 0.096))))))), X1), X2), 0.096)\n"
     ]
    }
   ],
   "source": [
    "print(est_gp_index._program)"
   ]
  },
  {
   "cell_type": "code",
   "execution_count": 25,
   "metadata": {},
   "outputs": [
    {
     "name": "stdout",
     "output_type": "stream",
     "text": [
      "    |   Population Average    |             Best Individual              |\n",
      "---- ------------------------- ------------------------------------------ ----------\n",
      " Gen   Length          Fitness   Length          Fitness      OOB Fitness  Time Left\n",
      "   0    86.00      3.60702e+26        6           14.219          23.1495      2.91m\n",
      "   1     8.94           124937        8          14.3115          22.6334      2.19m\n",
      "   2     6.07          46432.5        1          14.2097          23.3252      1.84m\n",
      "   3     4.81       3.1665e+07        7           14.166          23.4386      1.49m\n",
      "   4     4.52          77956.4        3          14.1093          23.7426      1.35m\n",
      "   5     4.19          679.103        4          14.2417          23.0241      1.43m\n",
      "   6     3.75          26.8315        3          13.9885          24.3738      1.49m\n",
      "   7     3.39          18.2023        6          14.2808          22.8066      1.46m\n",
      "   8     3.26          17.9665        2          14.2993          22.7027     40.66s\n",
      "   9     3.11          17.2689        4          14.1618           23.662      0.00s\n"
     ]
    },
    {
     "data": {
      "text/plain": [
       "SymbolicRegressor(function_set=['add', 'sub', 'mul',\n",
       "                                <gplearn.functions._Function object at 0x140237c88>],\n",
       "                  generations=10, init_depth=(1, 10), max_samples=0.9,\n",
       "                  metric='rmse', n_jobs=-1, p_crossover=0.8, p_hoist_mutation=0,\n",
       "                  p_point_mutation=0.1, p_subtree_mutation=0,\n",
       "                  parsimony_coefficient=0.01, population_size=10000,\n",
       "                  random_state=0, stopping_criteria=0.01, verbose=1)"
      ]
     },
     "execution_count": 25,
     "metadata": {},
     "output_type": "execute_result"
    }
   ],
   "source": [
    "# Log Return *1000 as input, 10 generation\n",
    "init_depth = (1,10)\n",
    "function_set = ['add', 'sub', 'mul',log_indi]\n",
    "est_gp_index = SymbolicRegressor(population_size=10000,function_set=function_set,init_depth = init_depth,\n",
    "                           generations=10, metric='rmse',stopping_criteria=0.01,\n",
    "                           p_crossover=0.8, p_subtree_mutation=0,\n",
    "                           p_hoist_mutation=0, p_point_mutation=0.1,\n",
    "                           max_samples=0.9, verbose=1,\n",
    "                           parsimony_coefficient=0.01, random_state=0,n_jobs=-1)\n",
    "est_gp_index.fit(SP_dataset_x_new/10, SP_dataset_y_new/10)"
   ]
  },
  {
   "cell_type": "code",
   "execution_count": 26,
   "metadata": {},
   "outputs": [
    {
     "name": "stdout",
     "output_type": "stream",
     "text": [
      "sub(log_indi(-0.268), 0.990)\n"
     ]
    }
   ],
   "source": [
    "print(est_gp_index._program)"
   ]
  },
  {
   "cell_type": "code",
   "execution_count": 27,
   "metadata": {},
   "outputs": [
    {
     "name": "stdout",
     "output_type": "stream",
     "text": [
      "    |   Population Average    |             Best Individual              |\n",
      "---- ------------------------- ------------------------------------------ ----------\n",
      " Gen   Length          Fitness   Length          Fitness      OOB Fitness  Time Left\n",
      "   0    86.00      3.60702e+26        6           14.219          23.1495      6.75m\n",
      "   1     8.94           124937        8          14.3115          22.6334      5.35m\n",
      "   2     6.07          46432.5        1          14.2097          23.3252      5.05m\n",
      "   3     4.81       3.1665e+07        7           14.166          23.4386      4.36m\n",
      "   4     4.52          77956.4        3          14.1093          23.7426      4.78m\n",
      "   5     4.19          679.103        4          14.2417          23.0241      5.40m\n",
      "   6     3.75          26.8315        3          13.9885          24.3738      6.75m\n",
      "   7     3.39          18.2023        6          14.2808          22.8066      9.62m\n",
      "   8     3.26          17.9665        2          14.2993          22.7027      8.61m\n",
      "   9     3.11          17.2689        4          14.1618           23.662      7.71m\n",
      "  10     3.00          26.6488        2          13.8783          24.9313      6.65m\n",
      "  11     2.93          18.1649        3          14.2157          23.1674      6.72m\n",
      "  12     2.96          17.5206        5          14.1554          23.4958      5.47m\n",
      "  13     2.91          17.5928        2           14.221          23.1389      4.45m\n",
      "  14     2.83           16.308        4          14.1397          23.5803      3.78m\n",
      "  15     2.80           16.426        2          14.2402          23.0326      2.85m\n",
      "  16     2.85           16.127        2          14.1757          23.3861      2.29m\n",
      "  17     2.88          16.1434        1          14.1775           23.381      1.53m\n",
      "  18     2.83          15.7709        2          14.0555          24.0265     48.09s\n",
      "  19     2.79          15.6372        4          14.1784          23.3711      0.00s\n"
     ]
    },
    {
     "data": {
      "text/plain": [
       "SymbolicRegressor(function_set=['add', 'sub', 'mul',\n",
       "                                <gplearn.functions._Function object at 0x140237c88>],\n",
       "                  init_depth=(1, 10), max_samples=0.9, metric='rmse', n_jobs=-1,\n",
       "                  p_crossover=0.8, p_hoist_mutation=0, p_point_mutation=0.1,\n",
       "                  p_subtree_mutation=0, parsimony_coefficient=0.01,\n",
       "                  population_size=10000, random_state=0, stopping_criteria=0.01,\n",
       "                  verbose=1)"
      ]
     },
     "execution_count": 27,
     "metadata": {},
     "output_type": "execute_result"
    }
   ],
   "source": [
    "# Log return * 1000,20 generation\n",
    "init_depth = (1,10)\n",
    "function_set = ['add', 'sub', 'mul',log_indi]\n",
    "est_gp_index = SymbolicRegressor(population_size=10000,function_set=function_set,init_depth = init_depth,\n",
    "                           generations=20, metric='rmse',stopping_criteria=0.01,\n",
    "                           p_crossover=0.8, p_subtree_mutation=0,\n",
    "                           p_hoist_mutation=0, p_point_mutation=0.1,\n",
    "                           max_samples=0.9, verbose=1,\n",
    "                           parsimony_coefficient=0.01, random_state=0,n_jobs=-1)\n",
    "est_gp_index.fit(SP_dataset_x_new/10, SP_dataset_y_new/10)"
   ]
  },
  {
   "cell_type": "code",
   "execution_count": 28,
   "metadata": {},
   "outputs": [
    {
     "name": "stdout",
     "output_type": "stream",
     "text": [
      "log_indi(log_indi(log_indi(X0)))\n"
     ]
    }
   ],
   "source": [
    "print(est_gp_index._program)"
   ]
  },
  {
   "cell_type": "code",
   "execution_count": 35,
   "metadata": {},
   "outputs": [
    {
     "name": "stdout",
     "output_type": "stream",
     "text": [
      "[ 0.          0.01573466  0.00453977 ... -0.0125366   0.01031225\n",
      " -0.00382471]\n"
     ]
    }
   ],
   "source": [
    "print(SP_In_Sample.values)"
   ]
  },
  {
   "cell_type": "code",
   "execution_count": 40,
   "metadata": {},
   "outputs": [
    {
     "name": "stdout",
     "output_type": "stream",
     "text": [
      "[ 0.          0.02592138  0.00747885 ... -0.02065287  0.01698847\n",
      " -0.00630084]\n"
     ]
    }
   ],
   "source": [
    "normalized = preprocessing.normalize([SP_In_Sample.values])\n",
    "print(normalized[0])"
   ]
  },
  {
   "cell_type": "code",
   "execution_count": 41,
   "metadata": {},
   "outputs": [],
   "source": [
    "normalized_SP_In_Sample = normalized[0]"
   ]
  },
  {
   "cell_type": "code",
   "execution_count": 42,
   "metadata": {},
   "outputs": [
    {
     "name": "stdout",
     "output_type": "stream",
     "text": [
      "[ 0.          0.02592138  0.00747885 ... -0.02065287  0.01698847\n",
      " -0.00630084]\n"
     ]
    }
   ],
   "source": [
    "print(normalized_SP_In_Sample)"
   ]
  },
  {
   "cell_type": "code",
   "execution_count": 46,
   "metadata": {},
   "outputs": [
    {
     "name": "stdout",
     "output_type": "stream",
     "text": [
      "    |   Population Average    |             Best Individual              |\n",
      "---- ------------------------- ------------------------------------------ ----------\n",
      " Gen   Length          Fitness   Length          Fitness      OOB Fitness  Time Left\n",
      "   0    86.00         0.212347        6        0.0234245        0.0381366      6.62m\n",
      "   1     2.58        0.0378235        2        0.0235279        0.0375623      4.92m\n",
      "   2     1.93        0.0325009        2        0.0234666        0.0379039      3.94m\n",
      "   3     1.79        0.0322129        1        0.0233446        0.0386061      4.30m\n",
      "   4     1.15        0.0282422        1        0.0232557        0.0390834      3.84m\n",
      "   5     1.00        0.0261859        1        0.0233234        0.0387208      4.27m\n",
      "   6     1.00        0.0256323        1        0.0230523        0.0401474      2.96m\n",
      "   7     1.00        0.0261454        1        0.0232083        0.0393348      2.77m\n",
      "   8     1.00        0.0259737        1        0.0235665        0.0373803      2.74m\n",
      "   9     1.00        0.0258575        1        0.0232781        0.0389637      2.27m\n"
     ]
    },
    {
     "ename": "KeyboardInterrupt",
     "evalue": "",
     "output_type": "error",
     "traceback": [
      "\u001b[0;31m---------------------------------------------------------------------------\u001b[0m",
      "\u001b[0;31mKeyboardInterrupt\u001b[0m                         Traceback (most recent call last)",
      "\u001b[0;32m<ipython-input-46-98f6f5d1c492>\u001b[0m in \u001b[0;36m<module>\u001b[0;34m\u001b[0m\n\u001b[1;32m      8\u001b[0m                            \u001b[0mmax_samples\u001b[0m\u001b[0;34m=\u001b[0m\u001b[0;36m0.9\u001b[0m\u001b[0;34m,\u001b[0m \u001b[0mverbose\u001b[0m\u001b[0;34m=\u001b[0m\u001b[0;36m1\u001b[0m\u001b[0;34m,\u001b[0m\u001b[0;34m\u001b[0m\u001b[0;34m\u001b[0m\u001b[0m\n\u001b[1;32m      9\u001b[0m                            parsimony_coefficient=0.01, random_state=0,n_jobs=-1)\n\u001b[0;32m---> 10\u001b[0;31m \u001b[0mest_gp_index\u001b[0m\u001b[0;34m.\u001b[0m\u001b[0mfit\u001b[0m\u001b[0;34m(\u001b[0m\u001b[0mSP_dataset_x\u001b[0m\u001b[0;34m,\u001b[0m \u001b[0mSP_dataset_y\u001b[0m\u001b[0;34m)\u001b[0m\u001b[0;34m\u001b[0m\u001b[0;34m\u001b[0m\u001b[0m\n\u001b[0m",
      "\u001b[0;32m~/.pyenv/versions/3.7.1/envs/myenv/lib/python3.7/site-packages/gplearn/genetic.py\u001b[0m in \u001b[0;36mfit\u001b[0;34m(self, X, y, sample_weight)\u001b[0m\n\u001b[1;32m    469\u001b[0m                                           \u001b[0mseeds\u001b[0m\u001b[0;34m[\u001b[0m\u001b[0mstarts\u001b[0m\u001b[0;34m[\u001b[0m\u001b[0mi\u001b[0m\u001b[0;34m]\u001b[0m\u001b[0;34m:\u001b[0m\u001b[0mstarts\u001b[0m\u001b[0;34m[\u001b[0m\u001b[0mi\u001b[0m \u001b[0;34m+\u001b[0m \u001b[0;36m1\u001b[0m\u001b[0;34m]\u001b[0m\u001b[0;34m]\u001b[0m\u001b[0;34m,\u001b[0m\u001b[0;34m\u001b[0m\u001b[0;34m\u001b[0m\u001b[0m\n\u001b[1;32m    470\u001b[0m                                           params)\n\u001b[0;32m--> 471\u001b[0;31m                 for i in range(n_jobs))\n\u001b[0m\u001b[1;32m    472\u001b[0m \u001b[0;34m\u001b[0m\u001b[0m\n\u001b[1;32m    473\u001b[0m             \u001b[0;31m# Reduce, maintaining order across different n_jobs\u001b[0m\u001b[0;34m\u001b[0m\u001b[0;34m\u001b[0m\u001b[0;34m\u001b[0m\u001b[0m\n",
      "\u001b[0;32m~/.pyenv/versions/3.7.1/envs/myenv/lib/python3.7/site-packages/joblib/parallel.py\u001b[0m in \u001b[0;36m__call__\u001b[0;34m(self, iterable)\u001b[0m\n\u001b[1;32m   1015\u001b[0m \u001b[0;34m\u001b[0m\u001b[0m\n\u001b[1;32m   1016\u001b[0m             \u001b[0;32mwith\u001b[0m \u001b[0mself\u001b[0m\u001b[0;34m.\u001b[0m\u001b[0m_backend\u001b[0m\u001b[0;34m.\u001b[0m\u001b[0mretrieval_context\u001b[0m\u001b[0;34m(\u001b[0m\u001b[0;34m)\u001b[0m\u001b[0;34m:\u001b[0m\u001b[0;34m\u001b[0m\u001b[0;34m\u001b[0m\u001b[0m\n\u001b[0;32m-> 1017\u001b[0;31m                 \u001b[0mself\u001b[0m\u001b[0;34m.\u001b[0m\u001b[0mretrieve\u001b[0m\u001b[0;34m(\u001b[0m\u001b[0;34m)\u001b[0m\u001b[0;34m\u001b[0m\u001b[0;34m\u001b[0m\u001b[0m\n\u001b[0m\u001b[1;32m   1018\u001b[0m             \u001b[0;31m# Make sure that we get a last message telling us we are done\u001b[0m\u001b[0;34m\u001b[0m\u001b[0;34m\u001b[0m\u001b[0;34m\u001b[0m\u001b[0m\n\u001b[1;32m   1019\u001b[0m             \u001b[0melapsed_time\u001b[0m \u001b[0;34m=\u001b[0m \u001b[0mtime\u001b[0m\u001b[0;34m.\u001b[0m\u001b[0mtime\u001b[0m\u001b[0;34m(\u001b[0m\u001b[0;34m)\u001b[0m \u001b[0;34m-\u001b[0m \u001b[0mself\u001b[0m\u001b[0;34m.\u001b[0m\u001b[0m_start_time\u001b[0m\u001b[0;34m\u001b[0m\u001b[0;34m\u001b[0m\u001b[0m\n",
      "\u001b[0;32m~/.pyenv/versions/3.7.1/envs/myenv/lib/python3.7/site-packages/joblib/parallel.py\u001b[0m in \u001b[0;36mretrieve\u001b[0;34m(self)\u001b[0m\n\u001b[1;32m    907\u001b[0m             \u001b[0;32mtry\u001b[0m\u001b[0;34m:\u001b[0m\u001b[0;34m\u001b[0m\u001b[0;34m\u001b[0m\u001b[0m\n\u001b[1;32m    908\u001b[0m                 \u001b[0;32mif\u001b[0m \u001b[0mgetattr\u001b[0m\u001b[0;34m(\u001b[0m\u001b[0mself\u001b[0m\u001b[0;34m.\u001b[0m\u001b[0m_backend\u001b[0m\u001b[0;34m,\u001b[0m \u001b[0;34m'supports_timeout'\u001b[0m\u001b[0;34m,\u001b[0m \u001b[0;32mFalse\u001b[0m\u001b[0;34m)\u001b[0m\u001b[0;34m:\u001b[0m\u001b[0;34m\u001b[0m\u001b[0;34m\u001b[0m\u001b[0m\n\u001b[0;32m--> 909\u001b[0;31m                     \u001b[0mself\u001b[0m\u001b[0;34m.\u001b[0m\u001b[0m_output\u001b[0m\u001b[0;34m.\u001b[0m\u001b[0mextend\u001b[0m\u001b[0;34m(\u001b[0m\u001b[0mjob\u001b[0m\u001b[0;34m.\u001b[0m\u001b[0mget\u001b[0m\u001b[0;34m(\u001b[0m\u001b[0mtimeout\u001b[0m\u001b[0;34m=\u001b[0m\u001b[0mself\u001b[0m\u001b[0;34m.\u001b[0m\u001b[0mtimeout\u001b[0m\u001b[0;34m)\u001b[0m\u001b[0;34m)\u001b[0m\u001b[0;34m\u001b[0m\u001b[0;34m\u001b[0m\u001b[0m\n\u001b[0m\u001b[1;32m    910\u001b[0m                 \u001b[0;32melse\u001b[0m\u001b[0;34m:\u001b[0m\u001b[0;34m\u001b[0m\u001b[0;34m\u001b[0m\u001b[0m\n\u001b[1;32m    911\u001b[0m                     \u001b[0mself\u001b[0m\u001b[0;34m.\u001b[0m\u001b[0m_output\u001b[0m\u001b[0;34m.\u001b[0m\u001b[0mextend\u001b[0m\u001b[0;34m(\u001b[0m\u001b[0mjob\u001b[0m\u001b[0;34m.\u001b[0m\u001b[0mget\u001b[0m\u001b[0;34m(\u001b[0m\u001b[0;34m)\u001b[0m\u001b[0;34m)\u001b[0m\u001b[0;34m\u001b[0m\u001b[0;34m\u001b[0m\u001b[0m\n",
      "\u001b[0;32m~/.pyenv/versions/3.7.1/envs/myenv/lib/python3.7/site-packages/joblib/_parallel_backends.py\u001b[0m in \u001b[0;36mwrap_future_result\u001b[0;34m(future, timeout)\u001b[0m\n\u001b[1;32m    560\u001b[0m         AsyncResults.get from multiprocessing.\"\"\"\n\u001b[1;32m    561\u001b[0m         \u001b[0;32mtry\u001b[0m\u001b[0;34m:\u001b[0m\u001b[0;34m\u001b[0m\u001b[0;34m\u001b[0m\u001b[0m\n\u001b[0;32m--> 562\u001b[0;31m             \u001b[0;32mreturn\u001b[0m \u001b[0mfuture\u001b[0m\u001b[0;34m.\u001b[0m\u001b[0mresult\u001b[0m\u001b[0;34m(\u001b[0m\u001b[0mtimeout\u001b[0m\u001b[0;34m=\u001b[0m\u001b[0mtimeout\u001b[0m\u001b[0;34m)\u001b[0m\u001b[0;34m\u001b[0m\u001b[0;34m\u001b[0m\u001b[0m\n\u001b[0m\u001b[1;32m    563\u001b[0m         \u001b[0;32mexcept\u001b[0m \u001b[0mLokyTimeoutError\u001b[0m\u001b[0;34m:\u001b[0m\u001b[0;34m\u001b[0m\u001b[0;34m\u001b[0m\u001b[0m\n\u001b[1;32m    564\u001b[0m             \u001b[0;32mraise\u001b[0m \u001b[0mTimeoutError\u001b[0m\u001b[0;34m(\u001b[0m\u001b[0;34m)\u001b[0m\u001b[0;34m\u001b[0m\u001b[0;34m\u001b[0m\u001b[0m\n",
      "\u001b[0;32m~/.pyenv/versions/3.7.1/lib/python3.7/concurrent/futures/_base.py\u001b[0m in \u001b[0;36mresult\u001b[0;34m(self, timeout)\u001b[0m\n\u001b[1;32m    425\u001b[0m                 \u001b[0;32mreturn\u001b[0m \u001b[0mself\u001b[0m\u001b[0;34m.\u001b[0m\u001b[0m__get_result\u001b[0m\u001b[0;34m(\u001b[0m\u001b[0;34m)\u001b[0m\u001b[0;34m\u001b[0m\u001b[0;34m\u001b[0m\u001b[0m\n\u001b[1;32m    426\u001b[0m \u001b[0;34m\u001b[0m\u001b[0m\n\u001b[0;32m--> 427\u001b[0;31m             \u001b[0mself\u001b[0m\u001b[0;34m.\u001b[0m\u001b[0m_condition\u001b[0m\u001b[0;34m.\u001b[0m\u001b[0mwait\u001b[0m\u001b[0;34m(\u001b[0m\u001b[0mtimeout\u001b[0m\u001b[0;34m)\u001b[0m\u001b[0;34m\u001b[0m\u001b[0;34m\u001b[0m\u001b[0m\n\u001b[0m\u001b[1;32m    428\u001b[0m \u001b[0;34m\u001b[0m\u001b[0m\n\u001b[1;32m    429\u001b[0m             \u001b[0;32mif\u001b[0m \u001b[0mself\u001b[0m\u001b[0;34m.\u001b[0m\u001b[0m_state\u001b[0m \u001b[0;32min\u001b[0m \u001b[0;34m[\u001b[0m\u001b[0mCANCELLED\u001b[0m\u001b[0;34m,\u001b[0m \u001b[0mCANCELLED_AND_NOTIFIED\u001b[0m\u001b[0;34m]\u001b[0m\u001b[0;34m:\u001b[0m\u001b[0;34m\u001b[0m\u001b[0;34m\u001b[0m\u001b[0m\n",
      "\u001b[0;32m~/.pyenv/versions/3.7.1/lib/python3.7/threading.py\u001b[0m in \u001b[0;36mwait\u001b[0;34m(self, timeout)\u001b[0m\n\u001b[1;32m    294\u001b[0m         \u001b[0;32mtry\u001b[0m\u001b[0;34m:\u001b[0m    \u001b[0;31m# restore state no matter what (e.g., KeyboardInterrupt)\u001b[0m\u001b[0;34m\u001b[0m\u001b[0;34m\u001b[0m\u001b[0m\n\u001b[1;32m    295\u001b[0m             \u001b[0;32mif\u001b[0m \u001b[0mtimeout\u001b[0m \u001b[0;32mis\u001b[0m \u001b[0;32mNone\u001b[0m\u001b[0;34m:\u001b[0m\u001b[0;34m\u001b[0m\u001b[0;34m\u001b[0m\u001b[0m\n\u001b[0;32m--> 296\u001b[0;31m                 \u001b[0mwaiter\u001b[0m\u001b[0;34m.\u001b[0m\u001b[0macquire\u001b[0m\u001b[0;34m(\u001b[0m\u001b[0;34m)\u001b[0m\u001b[0;34m\u001b[0m\u001b[0;34m\u001b[0m\u001b[0m\n\u001b[0m\u001b[1;32m    297\u001b[0m                 \u001b[0mgotit\u001b[0m \u001b[0;34m=\u001b[0m \u001b[0;32mTrue\u001b[0m\u001b[0;34m\u001b[0m\u001b[0;34m\u001b[0m\u001b[0m\n\u001b[1;32m    298\u001b[0m             \u001b[0;32melse\u001b[0m\u001b[0;34m:\u001b[0m\u001b[0;34m\u001b[0m\u001b[0;34m\u001b[0m\u001b[0m\n",
      "\u001b[0;31mKeyboardInterrupt\u001b[0m: "
     ]
    }
   ],
   "source": [
    "# Log return normalized,20 generation\n",
    "init_depth = (1,10)\n",
    "function_set = ['add', 'sub', 'mul',log_indi]\n",
    "est_gp_index = SymbolicRegressor(population_size=10000,function_set=function_set,init_depth = init_depth,\n",
    "                           generations=20, metric='rmse',stopping_criteria=0.01,\n",
    "                           p_crossover=0.8, p_subtree_mutation=0,\n",
    "                           p_hoist_mutation=0, p_point_mutation=0.1,\n",
    "                           max_samples=0.9, verbose=1,\n",
    "                           parsimony_coefficient=0.01, random_state=0,n_jobs=-1)\n",
    "est_gp_index.fit(SP_dataset_x, SP_dataset_y)"
   ]
  },
  {
   "cell_type": "code",
   "execution_count": 47,
   "metadata": {},
   "outputs": [
    {
     "name": "stdout",
     "output_type": "stream",
     "text": [
      "    |   Population Average    |             Best Individual              |\n",
      "---- ------------------------- ------------------------------------------ ----------\n",
      " Gen   Length          Fitness   Length          Fitness      OOB Fitness  Time Left\n",
      "   0    86.00      2.15757e+13        6          2.34245          3.81366      6.50m\n",
      "   1     4.14          3.41944        8          2.35769          3.72865      5.94m\n",
      "   2     2.78          2.87301        2          2.34666          3.79039      4.45m\n",
      "   3     2.44          2.64057        2          2.33371          3.86129      4.14m\n",
      "   4     2.35          2.60842        4          2.32437          3.91138      4.16m\n",
      "   5     2.29          2.59219        2          2.34657          3.79093      5.08m\n",
      "   6     2.23          2.59095        2          2.30448          4.01535      6.16m\n",
      "   7     2.19          2.58231        2          2.32019          3.93354      6.64m\n",
      "   8     2.16          2.58494        2          2.36151          3.70696      6.32m\n",
      "   9     2.10          2.58207        3          2.32714          3.89664      5.93m\n",
      "  10     2.06          2.58151        2          2.28632           4.1072      5.40m\n",
      "  11     2.00          2.58354        2          2.34519          3.79852      4.64m\n",
      "  12     1.95          2.58165        1          2.34316          3.81811      3.74m\n",
      "  13     1.88          2.57207        1          2.33772          3.84073      3.25m\n",
      "  14     1.80          2.57417        2          2.32938          3.88464      2.56m\n",
      "  15     1.72          2.56964        2          2.34594          3.79441      1.94m\n",
      "  16     1.64          2.56895        2          2.33531          3.85265      1.53m\n",
      "  17     1.54          2.56151        1          2.33558           3.8524     56.27s\n",
      "  18     1.45          2.55637        2          2.31551          3.95814     25.80s\n",
      "  19     1.34          2.54914        1          2.33637          3.85521      0.00s\n"
     ]
    },
    {
     "data": {
      "text/plain": [
       "SymbolicRegressor(function_set=['add', 'sub', 'mul',\n",
       "                                <gplearn.functions._Function object at 0x140237c88>],\n",
       "                  init_depth=(1, 10), max_samples=0.9, metric='rmse', n_jobs=-1,\n",
       "                  p_crossover=0.8, p_hoist_mutation=0, p_point_mutation=0.1,\n",
       "                  p_subtree_mutation=0, parsimony_coefficient=0.01,\n",
       "                  population_size=10000, random_state=0, stopping_criteria=0.01,\n",
       "                  verbose=1)"
      ]
     },
     "execution_count": 47,
     "metadata": {},
     "output_type": "execute_result"
    }
   ],
   "source": [
    "# Log return normalized*100,20 generation\n",
    "init_depth = (1,10)\n",
    "function_set = ['add', 'sub', 'mul',log_indi]\n",
    "est_gp_index = SymbolicRegressor(population_size=10000,function_set=function_set,init_depth = init_depth,\n",
    "                           generations=20, metric='rmse',stopping_criteria=0.01,\n",
    "                           p_crossover=0.8, p_subtree_mutation=0,\n",
    "                           p_hoist_mutation=0, p_point_mutation=0.1,\n",
    "                           max_samples=0.9, verbose=1,\n",
    "                           parsimony_coefficient=0.01, random_state=0,n_jobs=-1)\n",
    "est_gp_index.fit(SP_dataset_x*100, SP_dataset_y*100)"
   ]
  },
  {
   "cell_type": "code",
   "execution_count": null,
   "metadata": {},
   "outputs": [],
   "source": []
  },
  {
   "cell_type": "code",
   "execution_count": null,
   "metadata": {},
   "outputs": [],
   "source": []
  },
  {
   "cell_type": "code",
   "execution_count": null,
   "metadata": {},
   "outputs": [
    {
     "name": "stdout",
     "output_type": "stream",
     "text": [
      "    |   Population Average    |             Best Individual              |\n",
      "---- ------------------------- ------------------------------------------ ----------\n",
      " Gen   Length          Fitness   Length          Fitness      OOB Fitness  Time Left\n",
      "   0    86.00      2.88703e+44        6           142.19          231.495     38.24m\n",
      "   1    81.16      1.89297e+21        2          142.818          228.008     46.39m\n",
      "   2    86.43      9.70936e+23      110          141.931          232.912     52.61m\n",
      "   3    85.57      1.84083e+26        8           141.66          234.386     76.54m\n",
      "   4    81.98      2.82975e+29        5          141.093          237.426     53.13m\n",
      "   5    73.60      3.60785e+21        4           142.44          230.115     59.56m\n",
      "   6    66.59      1.99747e+17       95          139.885          243.738     79.77m\n",
      "   7    60.89      3.74083e+18       15          142.808          228.066    131.04m\n",
      "   8    64.28      2.99833e+21       49          142.993          227.027    129.33m\n",
      "   9    66.93      5.50329e+12       19          141.261          236.532    157.77m\n",
      "  10    68.06      1.60576e+19       84          142.042          232.306    167.31m\n",
      "  11    66.48      5.82729e+20       49          142.157          231.674    468.55m\n",
      "  12    65.49      3.67239e+17       81          142.092          232.053    175.91m\n",
      "  13    69.42      5.84259e+14        7          142.217          231.344    231.10m\n",
      "  14    68.29      1.00669e+18      273          142.257          231.124    206.13m\n",
      "  15    66.17      9.41769e+09        7          142.402          230.326    248.81m\n",
      "  16    60.49      9.21579e+14       59          141.757          233.861    231.15m\n",
      "  17    58.16       1.4652e+20       38          141.799          233.631    253.89m\n",
      "  18    55.79      6.47208e+11        2          140.555          240.265    250.55m\n",
      "  19    54.70      8.30162e+14        5          141.784          233.711    222.60m\n",
      "  20    52.99      2.65602e+20       24          140.218          242.018    256.37m\n",
      "  21    53.59      2.06908e+15      127          138.555          250.443    226.05m\n",
      "  22    53.32       2.7882e+14       94          143.085          226.523    260.27m\n",
      "  23    51.86      2.23073e+20        2          139.486          245.775    244.25m\n",
      "  24    52.05      1.00081e+20        3           141.34          236.109    256.42m\n"
     ]
    },
    {
     "name": "stderr",
     "output_type": "stream",
     "text": [
      "/Users/seungjuseo/.pyenv/versions/3.7.1/envs/myenv/lib/python3.7/site-packages/joblib/externals/loky/process_executor.py:706: UserWarning: A worker stopped while some jobs were given to the executor. This can be caused by a too short worker timeout or by a memory leak.\n",
      "  \"timeout or by a memory leak.\", UserWarning\n"
     ]
    },
    {
     "name": "stdout",
     "output_type": "stream",
     "text": [
      "  25    53.49      3.70141e+12        5          141.639          234.496    254.83m\n",
      "  26    55.17      2.55871e+15       19          141.128          237.241    333.33m\n",
      "  27    55.33      5.73476e+12       47          140.922          238.333    323.50m\n",
      "  28    54.88        1.976e+17       17          142.095          232.014    256.14m\n",
      "  29    55.23      1.44913e+10       40          140.888           238.51    252.36m\n",
      "  30    54.93      5.88718e+13       68          141.536          235.052    282.38m\n",
      "  31    54.07      2.24444e+09       74          138.822          249.117    353.27m\n",
      "  32    53.49      1.03023e+18       60          140.712          239.438    307.26m\n",
      "  33    55.68      3.16578e+16        7          142.373          230.486    267.14m\n",
      "  34    54.60      2.90928e+20       35          140.039          242.946    277.57m\n",
      "  35    56.02      1.77809e+21      118          142.311          230.828    266.63m\n",
      "  36    58.75      8.56657e+12       35          142.302          230.878    333.55m\n",
      "  37    58.97      7.85406e+11       91          141.316          236.234    271.38m\n",
      "  38    59.42      1.33765e+12       45          141.491          235.295    259.12m\n",
      "  39    61.00      2.41712e+18      153          141.624          234.578    275.63m\n",
      "  40    61.95      7.59406e+11        3          141.964          232.735    285.39m\n",
      "  41    64.27      2.14654e+10        8          142.275          231.027    275.42m\n",
      "  42    67.77      4.61756e+08      186          141.999          232.539    264.60m\n",
      "  43    70.06      4.10008e+09       22           140.94          238.235    259.73m\n",
      "  44    70.82      1.11254e+09       86           139.99          243.198    322.04m\n",
      "  45    68.86      3.29551e+09       18          141.596          234.733    342.24m\n",
      "  46    67.05      1.10693e+13       37          141.854          233.331    325.12m\n",
      "  47    63.58      1.49779e+10       50          141.404          235.763    307.44m\n",
      "  48    61.52      7.07572e+09       21          142.216          231.349    289.31m\n",
      "  49    65.02       6.7451e+09       60          142.137          231.787    244.43m\n",
      "  50    64.47      4.60313e+09       68          142.566          229.417    272.74m\n"
     ]
    }
   ],
   "source": [
    "# Log Return *10000 as input\n",
    "init_depth = (1,10)\n",
    "function_set = ['add', 'sub', 'mul',log_indi]\n",
    "est_gp_index = SymbolicRegressor(population_size=10000,function_set=function_set,init_depth = init_depth,\n",
    "                           generations=100, metric='rmse',stopping_criteria=0.01,\n",
    "                           p_crossover=0.8, p_subtree_mutation=0.05,\n",
    "                           p_hoist_mutation=0.049, p_point_mutation=0.1,\n",
    "                           max_samples=0.9, verbose=1,\n",
    "                           parsimony_coefficient=0.001, random_state=0,n_jobs=-1)\n",
    "est_gp_index.fit(SP_dataset_x_new, SP_dataset_y_new)"
   ]
  },
  {
   "cell_type": "code",
   "execution_count": 24,
   "metadata": {},
   "outputs": [
    {
     "name": "stdout",
     "output_type": "stream",
     "text": [
      "    |   Population Average    |             Best Individual              |\n",
      "---- ------------------------- ------------------------------------------ ----------\n",
      " Gen   Length          Fitness   Length          Fitness      OOB Fitness  Time Left\n",
      "   0    32.50         0.287083        7       0.00923436        0.0132803      2.08m\n",
      "   1     4.37        0.0284516        3       0.00923251        0.0132011     55.01s\n",
      "   2     1.46        0.0139747        3       0.00925548        0.0126834     45.46s\n",
      "   3     1.00        0.0152442        1         0.013291        0.0188797     36.10s\n",
      "   4     1.00        0.0149887        1        0.0132732        0.0190397     30.47s\n",
      "   5     1.00        0.0151659        1        0.0132675        0.0190906     24.98s\n",
      "   6     1.00        0.0147879        1        0.0133225        0.0185981     18.10s\n",
      "   7     1.00        0.0150914        1         0.013278        0.0189962     12.03s\n",
      "   8     1.00        0.0148499        1        0.0132559        0.0191941      6.33s\n",
      "   9     1.00        0.0150161        1         0.013274        0.0190322      0.00s\n"
     ]
    },
    {
     "data": {
      "text/plain": [
       "SymbolicRegressor(function_set=['add', 'sub', 'mul'], generations=10,\n",
       "                  max_samples=0.9, p_crossover=0.8, p_hoist_mutation=0,\n",
       "                  p_point_mutation=0.2, p_subtree_mutation=0,\n",
       "                  parsimony_coefficient=0.01, population_size=10000,\n",
       "                  random_state=0, verbose=1)"
      ]
     },
     "execution_count": 24,
     "metadata": {},
     "output_type": "execute_result"
    }
   ],
   "source": [
    "# log return as input\n",
    "function_set_return = ['add', 'sub', 'mul']\n",
    "# ['add', 'sub', 'mul', 'div', 'inv', 'abs', 'neg', 'max', 'min', 'sqrt', 'log'] \n",
    "est_gp_return = SymbolicRegressor(population_size=10000,function_set=function_set,\n",
    "                           generations=10, \n",
    "                           p_crossover=0.8, p_subtree_mutation=0,\n",
    "                           p_hoist_mutation=0, p_point_mutation=0.2,\n",
    "                           max_samples=0.9, verbose=1,\n",
    "                           parsimony_coefficient=0.01, random_state=0)\n",
    "est_gp_return.fit(SP_dataset_x, SP_dataset_y)"
   ]
  },
  {
   "cell_type": "code",
   "execution_count": null,
   "metadata": {},
   "outputs": [],
   "source": []
  },
  {
   "cell_type": "code",
   "execution_count": 88,
   "metadata": {},
   "outputs": [
    {
     "name": "stdout",
     "output_type": "stream",
     "text": [
      "X2\n"
     ]
    }
   ],
   "source": [
    "print(est_gp_index._program)"
   ]
  },
  {
   "cell_type": "code",
   "execution_count": 23,
   "metadata": {},
   "outputs": [
    {
     "ename": "NameError",
     "evalue": "name 'est_gp_return' is not defined",
     "output_type": "error",
     "traceback": [
      "\u001b[0;31m---------------------------------------------------------------------------\u001b[0m",
      "\u001b[0;31mNameError\u001b[0m                                 Traceback (most recent call last)",
      "\u001b[0;32m<ipython-input-23-beb44e253bdf>\u001b[0m in \u001b[0;36m<module>\u001b[0;34m\u001b[0m\n\u001b[0;32m----> 1\u001b[0;31m \u001b[0mprint\u001b[0m\u001b[0;34m(\u001b[0m\u001b[0mest_gp_return\u001b[0m\u001b[0;34m.\u001b[0m\u001b[0m_program\u001b[0m\u001b[0;34m)\u001b[0m\u001b[0;34m\u001b[0m\u001b[0;34m\u001b[0m\u001b[0m\n\u001b[0m",
      "\u001b[0;31mNameError\u001b[0m: name 'est_gp_return' is not defined"
     ]
    }
   ],
   "source": [
    "print(est_gp_return._program)"
   ]
  },
  {
   "cell_type": "code",
   "execution_count": 161,
   "metadata": {},
   "outputs": [
    {
     "name": "stdout",
     "output_type": "stream",
     "text": [
      "mul(X1, log(mul(X2, X1)))\n"
     ]
    }
   ],
   "source": [
    " print(gp._best_programs[0])"
   ]
  },
  {
   "cell_type": "code",
   "execution_count": null,
   "metadata": {},
   "outputs": [],
   "source": []
  },
  {
   "cell_type": "code",
   "execution_count": null,
   "metadata": {},
   "outputs": [],
   "source": []
  },
  {
   "cell_type": "code",
   "execution_count": null,
   "metadata": {},
   "outputs": [],
   "source": []
  },
  {
   "cell_type": "code",
   "execution_count": 140,
   "metadata": {},
   "outputs": [
    {
     "data": {
      "text/plain": [
       "Dates\n",
       "2006-01-02    100.000000\n",
       "2006-01-03    101.573466\n",
       "2006-01-04    102.034586\n",
       "2006-01-05    102.098313\n",
       "2006-01-06    102.931579\n",
       "                 ...    \n",
       "2017-12-25    170.125406\n",
       "2017-12-26    170.188730\n",
       "2017-12-27    170.081025\n",
       "2017-12-28    170.100025\n",
       "2017-12-29    169.484559\n",
       "Name: SP1 Index, Length: 3130, dtype: float64"
      ]
     },
     "execution_count": 140,
     "metadata": {},
     "output_type": "execute_result"
    }
   ],
   "source": [
    "SP1_Index"
   ]
  },
  {
   "cell_type": "code",
   "execution_count": 11,
   "metadata": {},
   "outputs": [
    {
     "name": "stderr",
     "output_type": "stream",
     "text": [
      "/Users/seungjuseo/.pyenv/versions/3.7.1/envs/myenv/lib/python3.7/site-packages/pandas/plotting/_matplotlib/converter.py:103: FutureWarning: Using an implicitly registered datetime converter for a matplotlib plotting method. The converter was registered by pandas on import. Future versions of pandas will require you to explicitly register matplotlib converters.\n",
      "\n",
      "To register the converters:\n",
      "\t>>> from pandas.plotting import register_matplotlib_converters\n",
      "\t>>> register_matplotlib_converters()\n",
      "  warnings.warn(msg, FutureWarning)\n"
     ]
    },
    {
     "data": {
      "text/plain": [
       "<matplotlib.legend.Legend at 0x134432ef0>"
      ]
     },
     "execution_count": 11,
     "metadata": {},
     "output_type": "execute_result"
    },
    {
     "data": {
      "image/png": "[encoded data removed]",
      "text/plain": [
       "<Figure size 1440x360 with 1 Axes>"
      ]
     },
     "metadata": {},
     "output_type": "display_data"
    }
   ],
   "source": [
    "plt.figure(figsize=(20,5))\n",
    "g_1 = plt.subplot()\n",
    "g_1.plot(SP1_Index, label=\"SP500 Buy&Hold\")\n",
    "g_1.plot(NK1_Index, label=\"Nikkei225 Buy&Hold\")\n",
    "g_1.set_xlabel(\"Time\",fontsize=15)\n",
    "g_1.set_ylabel(\"Log Index\",fontsize=15)\n",
    "g_1.set_title(\"Buy&Hold\",fontsize=15)\n",
    "g_1.legend(fontsize=15)"
   ]
  },
  {
   "cell_type": "code",
   "execution_count": 15,
   "metadata": {},
   "outputs": [
    {
     "data": {
      "image/png": "[encoded data removed]",
      "text/plain": [
       "<Figure size 432x288 with 1 Axes>"
      ]
     },
     "metadata": {},
     "output_type": "display_data"
    }
   ],
   "source": [
    "x0 = np.arange(-1, 1, 1/10.)\n",
    "x1 = np.arange(-1, 1, 1/10.)\n",
    "x0, x1 = np.meshgrid(x0, x1)\n",
    "y_truth = x0**2 - x1**2 + x1 - 1\n",
    "\n",
    "ax = plt.figure().gca(projection='3d')\n",
    "ax.set_xlim(-1, 1)\n",
    "ax.set_ylim(-1, 1)\n",
    "surf = ax.plot_surface(x0, x1, y_truth, rstride=1, cstride=1,\n",
    "                       color='green', alpha=0.5)\n",
    "plt.show()"
   ]
  },
  {
   "cell_type": "code",
   "execution_count": 32,
   "metadata": {},
   "outputs": [],
   "source": [
    "rng = check_random_state(0)\n",
    "\n",
    "# Training samples\n",
    "X_train = rng.uniform(-1, 1, 100).reshape(25, 4)\n",
    "y_train = X_train[:, 0]**2 - X_train[:, 1]**2 + X_train[:, 1] - 1 + X_train[:, 2] - X_train[:, 3]\n",
    "\n",
    "# Testing samples\n",
    "X_test = rng.uniform(-1, 1, 100).reshape(25, 4)\n",
    "y_test = X_test[:, 0]**2 - X_test[:, 1]**2 + X_test[:, 1] - 1 + X_test[:, 2] - X_test[:,3]\n"
   ]
  },
  {
   "cell_type": "code",
   "execution_count": 68,
   "metadata": {},
   "outputs": [
    {
     "data": {
      "text/plain": [
       "array([[ 0.09762701,  0.43037873,  0.20552675,  0.08976637],\n",
       "       [-0.1526904 ,  0.29178823, -0.12482558,  0.783546  ],\n",
       "       [ 0.92732552, -0.23311696,  0.58345008,  0.05778984],\n",
       "       [ 0.13608912,  0.85119328, -0.85792788, -0.8257414 ],\n",
       "       [-0.95956321,  0.66523969,  0.5563135 ,  0.7400243 ],\n",
       "       [ 0.95723668,  0.59831713, -0.07704128,  0.56105835],\n",
       "       [-0.76345115,  0.27984204, -0.71329343,  0.88933783],\n",
       "       [ 0.04369664, -0.17067612, -0.47088878,  0.54846738],\n",
       "       [-0.08769934,  0.1368679 , -0.9624204 ,  0.23527099],\n",
       "       [ 0.22419145,  0.23386799,  0.88749616,  0.3636406 ],\n",
       "       [-0.2809842 , -0.12593609,  0.39526239, -0.87954906],\n",
       "       [ 0.33353343,  0.34127574, -0.57923488, -0.7421474 ],\n",
       "       [-0.3691433 , -0.27257846,  0.14039354, -0.12279697],\n",
       "       [ 0.97674768, -0.79591038, -0.58224649, -0.67738096],\n",
       "       [ 0.30621665, -0.49341679, -0.06737845, -0.51114882],\n",
       "       [-0.68206083, -0.77924972,  0.31265918, -0.7236341 ],\n",
       "       [-0.60683528, -0.26254966,  0.64198646, -0.80579745],\n",
       "       [ 0.67588981, -0.80780318,  0.95291893, -0.0626976 ],\n",
       "       [ 0.95352218,  0.20969104,  0.47852716, -0.92162442],\n",
       "       [-0.43438607, -0.75960688, -0.4077196 , -0.76254456],\n",
       "       [-0.36403364, -0.17147401, -0.87170501,  0.38494424],\n",
       "       [ 0.13320291, -0.46922102,  0.04649611, -0.81211898],\n",
       "       [ 0.15189299,  0.8585924 , -0.3628621 ,  0.33482076],\n",
       "       [-0.73640428,  0.43265441, -0.42118781, -0.63361728],\n",
       "       [ 0.17302587, -0.95978491,  0.65788006, -0.99060905]])"
      ]
     },
     "execution_count": 68,
     "metadata": {},
     "output_type": "execute_result"
    }
   ],
   "source": [
    "X_train"
   ]
  },
  {
   "cell_type": "code",
   "execution_count": 35,
   "metadata": {},
   "outputs": [
    {
     "data": {
      "text/plain": [
       "array([-6.29555702e-01, -1.67840936e+00,  9.81323781e-02, -8.87002951e-01,\n",
       "       -4.02534055e-02, -4.81463816e-01, -1.81824313e+00, -2.21725322e+00,\n",
       "       -2.07186514e+00, -2.46708882e-01,  2.11967577e-01, -5.01036315e-01,\n",
       "       -9.47420185e-01, -1.38021321e+00, -1.19933793e+00, -8.84979584e-01,\n",
       "        4.84550979e-01, -9.87905600e-01,  1.47507682e+00, -1.79309327e+00,\n",
       "       -2.32500610e+00, -8.13031282e-01, -1.55319988e+00,  1.85289670e-04,\n",
       "       -1.20254492e+00])"
      ]
     },
     "execution_count": 35,
     "metadata": {},
     "output_type": "execute_result"
    }
   ],
   "source": [
    "y_train"
   ]
  },
  {
   "cell_type": "code",
   "execution_count": 36,
   "metadata": {},
   "outputs": [
    {
     "data": {
      "text/plain": [
       "array([[ 0.35563307, -0.45998405,  0.47038804,  0.92437709],\n",
       "       [-0.50249371,  0.15231467,  0.18408386,  0.14450381],\n",
       "       [-0.55383673,  0.90549802, -0.10574924,  0.69281734],\n",
       "       [ 0.39895855, -0.4051261 ,  0.62759564, -0.20698852],\n",
       "       [ 0.76220639,  0.16254575,  0.76347072,  0.38506318],\n",
       "       [ 0.45050856,  0.00264876,  0.91216727,  0.2879804 ],\n",
       "       [-0.1522899 ,  0.21278643, -0.9616136 , -0.39685037],\n",
       "       [ 0.32034707, -0.41984479,  0.23603086, -0.1424626 ],\n",
       "       [-0.72905187, -0.40343535,  0.13992982,  0.18174552],\n",
       "       [ 0.1486505 ,  0.30640164,  0.30420654, -0.13716313],\n",
       "       [ 0.79309319, -0.26487626, -0.12827015,  0.78384671],\n",
       "       [ 0.61238798,  0.40777717, -0.79954623,  0.83896523],\n",
       "       [ 0.4284826 ,  0.99769401, -0.70110339,  0.73625211],\n",
       "       [-0.67501413,  0.23111913, -0.75236003,  0.69601646],\n",
       "       [ 0.61463792,  0.13820148, -0.18563341, -0.86166601],\n",
       "       [ 0.39485755, -0.09291463,  0.4441112 ,  0.73276465],\n",
       "       [ 0.95104301,  0.71160668, -0.97657183, -0.28004387],\n",
       "       [ 0.45998112, -0.65674065,  0.04207321, -0.89132402],\n",
       "       [-0.60000695, -0.96295641,  0.58739541, -0.55215062],\n",
       "       [-0.30929664,  0.85616259,  0.4088288 , -0.93632214],\n",
       "       [-0.67061169,  0.2429568 ,  0.15445718, -0.52421436],\n",
       "       [ 0.868428  ,  0.22793191,  0.07126561,  0.17981995],\n",
       "       [ 0.46024406, -0.37611001, -0.20355788, -0.5803125 ],\n",
       "       [-0.62761399,  0.88874478,  0.47910159, -0.01908238],\n",
       "       [-0.54517074, -0.49128704, -0.88394168, -0.13116675]])"
      ]
     },
     "execution_count": 36,
     "metadata": {},
     "output_type": "execute_result"
    }
   ],
   "source": [
    "X_test"
   ]
  },
  {
   "cell_type": "code",
   "execution_count": 37,
   "metadata": {},
   "outputs": [
    {
     "data": {
      "text/plain": [
       "array([-1.99908355, -0.57880511, -1.40626011, -0.57550117,  0.09549076,\n",
       "       -0.17021342, -1.37406266, -1.11499872, -1.0764945 , -0.32401369,\n",
       "       -1.61815574, -2.02199747, -2.2514575 , -1.81502934,  0.1729142 ,\n",
       "       -1.23428874, -0.58682254, -0.94306905, -1.39068709,  0.56396357,\n",
       "        0.31232036, -0.17840821, -0.92898953, -0.00903921, -2.18821378])"
      ]
     },
     "execution_count": 37,
     "metadata": {},
     "output_type": "execute_result"
    }
   ],
   "source": [
    "y_test"
   ]
  },
  {
   "cell_type": "code",
   "execution_count": 43,
   "metadata": {},
   "outputs": [
    {
     "name": "stdout",
     "output_type": "stream",
     "text": [
      "    |   Population Average    |             Best Individual              |\n",
      "---- ------------------------- ------------------------------------------ ----------\n",
      " Gen   Length          Fitness   Length          Fitness      OOB Fitness  Time Left\n",
      "   0    11.20          3.95213        7          0.55169         0.425842      1.39m\n",
      "   1     6.45          1.16128        7         0.482134         0.935921      1.03m\n",
      "   2     4.96           1.0816       13          0.44763         0.551874     55.07s\n",
      "   3     5.27           1.0925       13          0.40666         0.852321     50.91s\n",
      "   4     6.08          1.01437       13         0.395927         0.931023     56.12s\n",
      "   5     6.04          1.00497        9         0.384327         0.918529     44.82s\n",
      "   6     5.50          1.04711       10         0.324342          1.09975     40.95s\n",
      "   7     5.33          1.01176        7         0.346343          1.00403     37.43s\n",
      "   8     5.69         0.977543        9          0.32655         0.966961     34.85s\n",
      "   9     6.36         0.851248       10         0.343226          1.05846     32.53s\n",
      "  10     6.71         0.821526        8         0.248943         0.197741     28.69s\n",
      "  11     6.76         0.819155        8         0.238338          0.27551     25.85s\n",
      "  12     7.07         0.776809        8         0.207882         0.498857     25.34s\n",
      "  13     7.35         0.862021        9         0.184715         0.450215     19.92s\n",
      "  14     7.99         0.981099        9         0.144309         0.746527     19.06s\n",
      "  15     8.24          1.01824        9         0.148044         0.719134     15.31s\n",
      "  16     8.13         0.995987        9         0.151509         0.693724      9.86s\n",
      "  17     8.28         0.986681        9         0.151509         0.693724      6.60s\n",
      "  18     8.48          1.02747        9         0.144309         0.746527      3.28s\n",
      "  19     8.66          1.01361        9         0.145746         0.735983      0.00s\n"
     ]
    },
    {
     "data": {
      "text/plain": [
       "SymbolicRegressor(function_set=['add', 'sub', 'mul', 'div', 'sqrt', 'log',\n",
       "                                'abs', 'neg', 'inv', 'max', 'min', 'sin', 'cos',\n",
       "                                'tan'],\n",
       "                  max_samples=0.9, p_crossover=0.7, p_hoist_mutation=0.05,\n",
       "                  p_point_mutation=0.1, p_subtree_mutation=0.1,\n",
       "                  parsimony_coefficient=0.01, population_size=5000,\n",
       "                  random_state=0, stopping_criteria=0.01, verbose=1)"
      ]
     },
     "execution_count": 43,
     "metadata": {},
     "output_type": "execute_result"
    }
   ],
   "source": [
    "function_set = ['add', 'sub', 'mul', 'div', 'sqrt', 'log',\n",
    "                'abs', 'neg', 'inv', 'max', 'min', 'sin', 'cos', 'tan']\n",
    "est_gp = SymbolicRegressor(population_size=5000,function_set=function_set,\n",
    "                           generations=20, stopping_criteria=0.01,\n",
    "                           p_crossover=0.7, p_subtree_mutation=0.1,\n",
    "                           p_hoist_mutation=0.05, p_point_mutation=0.1,\n",
    "                           max_samples=0.9, verbose=1,\n",
    "                           parsimony_coefficient=0.01, random_state=0)\n",
    "est_gp.fit(X_train, y_train)"
   ]
  },
  {
   "cell_type": "code",
   "execution_count": 44,
   "metadata": {},
   "outputs": [
    {
     "name": "stdout",
     "output_type": "stream",
     "text": [
      "add(sub(X2, add(cos(X0), X3)), tan(X1))\n"
     ]
    }
   ],
   "source": [
    "print(est_gp._program)"
   ]
  },
  {
   "cell_type": "code",
   "execution_count": 24,
   "metadata": {},
   "outputs": [
    {
     "data": {
      "text/plain": [
       "RandomForestRegressor(n_estimators=10)"
      ]
     },
     "execution_count": 24,
     "metadata": {},
     "output_type": "execute_result"
    }
   ],
   "source": [
    "est_tree = DecisionTreeRegressor()\n",
    "est_tree.fit(X_train, y_train)\n",
    "est_rf = RandomForestRegressor(n_estimators=10)\n",
    "est_rf.fit(X_train, y_train)"
   ]
  },
  {
   "cell_type": "code",
   "execution_count": 25,
   "metadata": {},
   "outputs": [
    {
     "data": {
      "image/png": "[encoded data removed]",
      "text/plain": [
       "<Figure size 864x720 with 4 Axes>"
      ]
     },
     "metadata": {},
     "output_type": "display_data"
    }
   ],
   "source": [
    "y_gp = est_gp.predict(np.c_[x0.ravel(), x1.ravel()]).reshape(x0.shape)\n",
    "score_gp = est_gp.score(X_test, y_test)\n",
    "y_tree = est_tree.predict(np.c_[x0.ravel(), x1.ravel()]).reshape(x0.shape)\n",
    "score_tree = est_tree.score(X_test, y_test)\n",
    "y_rf = est_rf.predict(np.c_[x0.ravel(), x1.ravel()]).reshape(x0.shape)\n",
    "score_rf = est_rf.score(X_test, y_test)\n",
    "\n",
    "fig = plt.figure(figsize=(12, 10))\n",
    "\n",
    "for i, (y, score, title) in enumerate([(y_truth, None, \"Ground Truth\"),\n",
    "                                       (y_gp, score_gp, \"SymbolicRegressor\"),\n",
    "                                       (y_tree, score_tree, \"DecisionTreeRegressor\"),\n",
    "                                       (y_rf, score_rf, \"RandomForestRegressor\")]):\n",
    "\n",
    "    ax = fig.add_subplot(2, 2, i+1, projection='3d')\n",
    "    ax.set_xlim(-1, 1)\n",
    "    ax.set_ylim(-1, 1)\n",
    "    ax.set_xticks(np.arange(-1, 1.01, .5))\n",
    "    ax.set_yticks(np.arange(-1, 1.01, .5))\n",
    "    surf = ax.plot_surface(x0, x1, y, rstride=1, cstride=1, color='green', alpha=0.5)\n",
    "    points = ax.scatter(X_train[:, 0], X_train[:, 1], y_train)\n",
    "    if score is not None:\n",
    "        score = ax.text(-.7, 1, .2, \"$R^2 =\\/ %.6f$\" % score, 'x', fontsize=14)\n",
    "    plt.title(title)\n",
    "\n",
    "plt.show()"
   ]
  },
  {
   "cell_type": "code",
   "execution_count": 27,
   "metadata": {},
   "outputs": [
    {
     "name": "stdout",
     "output_type": "stream",
     "text": [
      "{'method': 'Crossover', 'parent_idx': 1555, 'parent_nodes': range(1, 4), 'donor_idx': 78, 'donor_nodes': []}\n"
     ]
    }
   ],
   "source": [
    "print(est_gp._program.parents)"
   ]
  },
  {
   "cell_type": "code",
   "execution_count": null,
   "metadata": {},
   "outputs": [],
   "source": []
  }
 ],
 "metadata": {
  "kernelspec": {
   "display_name": "Python 3",
   "language": "python",
   "name": "python3"
  },
  "language_info": {
   "codemirror_mode": {
    "name": "ipython",
    "version": 3
   },
   "file_extension": ".py",
   "mimetype": "text/x-python",
   "name": "python",
   "nbconvert_exporter": "python",
   "pygments_lexer": "ipython3",
   "version": "3.7.1"
  }
 },
 "nbformat": 4,
 "nbformat_minor": 4
}
